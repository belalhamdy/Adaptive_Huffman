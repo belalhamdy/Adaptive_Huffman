{
  "nbformat": 4,
  "nbformat_minor": 0,
  "metadata": {
    "colab": {
      "name": "FASTAI_STACKOVERFLOW_V2.ipynb",
      "provenance": [],
      "collapsed_sections": [
        "_ru-OVWGYwb8",
        "hmWhe0MyEiOK",
        "Vo60jQdOEoKM",
        "_iok_rT2xR5k",
        "hEHe7VVK2APX",
        "vzkTxPu92GKo",
        "U7cTCO5hLYlr"
      ],
      "toc_visible": true,
      "authorship_tag": "ABX9TyPipLTnjm/kk6VQS5dyjivD",
      "include_colab_link": true
    },
    "kernelspec": {
      "name": "python3",
      "display_name": "Python 3"
    },
    "accelerator": "GPU"
  },
  "cells": [
    {
      "cell_type": "markdown",
      "metadata": {
        "id": "view-in-github",
        "colab_type": "text"
      },
      "source": [
        "<a href=\"https://colab.research.google.com/github/belalhamdy/Adaptive_Huffman/blob/master/FASTAI_STACKOVERFLOW_V2.ipynb\" target=\"_parent\"><img src=\"https://colab.research.google.com/assets/colab-badge.svg\" alt=\"Open In Colab\"/></a>"
      ]
    },
    {
      "cell_type": "markdown",
      "metadata": {
        "id": "no3v-p8rYtn5"
      },
      "source": [
        "#Notebook Setup"
      ]
    },
    {
      "cell_type": "code",
      "metadata": {
        "id": "lzr7iHREa1L5",
        "colab": {
          "base_uri": "https://localhost:8080/"
        },
        "outputId": "25d55999-c240-446f-d73c-a70602f30cca"
      },
      "source": [
        "from google.colab import drive\r\n",
        "drive.mount('/content/drive', force_remount=True)"
      ],
      "execution_count": null,
      "outputs": [
        {
          "output_type": "stream",
          "text": [
            "Mounted at /content/drive\n"
          ],
          "name": "stdout"
        }
      ]
    },
    {
      "cell_type": "code",
      "metadata": {
        "id": "k7P8LJ1oYcqx",
        "colab": {
          "base_uri": "https://localhost:8080/"
        },
        "outputId": "478f7840-6038-42a3-b049-2cad20c365d0"
      },
      "source": [
        "!pip install fastai --upgrade"
      ],
      "execution_count": null,
      "outputs": [
        {
          "output_type": "stream",
          "text": [
            "Collecting fastai\n",
            "\u001b[?25l  Downloading https://files.pythonhosted.org/packages/f3/09/36d4d472d0c953f5d931f4c415f715a909793e5d222af205f3e65c034da3/fastai-2.2.5-py3-none-any.whl (191kB)\n",
            "\r\u001b[K     |█▊                              | 10kB 26.5MB/s eta 0:00:01\r\u001b[K     |███▍                            | 20kB 32.9MB/s eta 0:00:01\r\u001b[K     |█████▏                          | 30kB 21.6MB/s eta 0:00:01\r\u001b[K     |██████▉                         | 40kB 19.1MB/s eta 0:00:01\r\u001b[K     |████████▋                       | 51kB 17.2MB/s eta 0:00:01\r\u001b[K     |██████████▎                     | 61kB 14.2MB/s eta 0:00:01\r\u001b[K     |████████████                    | 71kB 14.4MB/s eta 0:00:01\r\u001b[K     |█████████████▊                  | 81kB 14.2MB/s eta 0:00:01\r\u001b[K     |███████████████▍                | 92kB 13.8MB/s eta 0:00:01\r\u001b[K     |█████████████████▏              | 102kB 14.0MB/s eta 0:00:01\r\u001b[K     |██████████████████▉             | 112kB 14.0MB/s eta 0:00:01\r\u001b[K     |████████████████████▋           | 122kB 14.0MB/s eta 0:00:01\r\u001b[K     |██████████████████████▎         | 133kB 14.0MB/s eta 0:00:01\r\u001b[K     |████████████████████████        | 143kB 14.0MB/s eta 0:00:01\r\u001b[K     |█████████████████████████▊      | 153kB 14.0MB/s eta 0:00:01\r\u001b[K     |███████████████████████████▍    | 163kB 14.0MB/s eta 0:00:01\r\u001b[K     |█████████████████████████████▏  | 174kB 14.0MB/s eta 0:00:01\r\u001b[K     |██████████████████████████████▉ | 184kB 14.0MB/s eta 0:00:01\r\u001b[K     |████████████████████████████████| 194kB 14.0MB/s \n",
            "\u001b[?25hRequirement already satisfied, skipping upgrade: packaging in /usr/local/lib/python3.6/dist-packages (from fastai) (20.8)\n",
            "Requirement already satisfied, skipping upgrade: scipy in /usr/local/lib/python3.6/dist-packages (from fastai) (1.4.1)\n",
            "Requirement already satisfied, skipping upgrade: pillow>6.0.0 in /usr/local/lib/python3.6/dist-packages (from fastai) (7.0.0)\n",
            "Requirement already satisfied, skipping upgrade: matplotlib in /usr/local/lib/python3.6/dist-packages (from fastai) (3.2.2)\n",
            "Requirement already satisfied, skipping upgrade: requests in /usr/local/lib/python3.6/dist-packages (from fastai) (2.23.0)\n",
            "Requirement already satisfied, skipping upgrade: pip in /usr/local/lib/python3.6/dist-packages (from fastai) (19.3.1)\n",
            "Requirement already satisfied, skipping upgrade: fastprogress>=0.2.4 in /usr/local/lib/python3.6/dist-packages (from fastai) (1.0.0)\n",
            "Requirement already satisfied, skipping upgrade: scikit-learn in /usr/local/lib/python3.6/dist-packages (from fastai) (0.22.2.post1)\n",
            "Collecting fastcore<1.4,>=1.3.8\n",
            "\u001b[?25l  Downloading https://files.pythonhosted.org/packages/0c/98/60404e2817cff113a6ae4023bc1772e23179408fdf7857fa410551758dfe/fastcore-1.3.19-py3-none-any.whl (53kB)\n",
            "\u001b[K     |████████████████████████████████| 61kB 10.7MB/s \n",
            "\u001b[?25hRequirement already satisfied, skipping upgrade: spacy in /usr/local/lib/python3.6/dist-packages (from fastai) (2.2.4)\n",
            "Requirement already satisfied, skipping upgrade: pandas in /usr/local/lib/python3.6/dist-packages (from fastai) (1.1.5)\n",
            "Requirement already satisfied, skipping upgrade: torch<1.8,>=1.7.0 in /usr/local/lib/python3.6/dist-packages (from fastai) (1.7.0+cu101)\n",
            "Requirement already satisfied, skipping upgrade: torchvision<0.9,>=0.8 in /usr/local/lib/python3.6/dist-packages (from fastai) (0.8.1+cu101)\n",
            "Requirement already satisfied, skipping upgrade: pyyaml in /usr/local/lib/python3.6/dist-packages (from fastai) (3.13)\n",
            "Requirement already satisfied, skipping upgrade: pyparsing>=2.0.2 in /usr/local/lib/python3.6/dist-packages (from packaging->fastai) (2.4.7)\n",
            "Requirement already satisfied, skipping upgrade: numpy>=1.13.3 in /usr/local/lib/python3.6/dist-packages (from scipy->fastai) (1.19.5)\n",
            "Requirement already satisfied, skipping upgrade: python-dateutil>=2.1 in /usr/local/lib/python3.6/dist-packages (from matplotlib->fastai) (2.8.1)\n",
            "Requirement already satisfied, skipping upgrade: cycler>=0.10 in /usr/local/lib/python3.6/dist-packages (from matplotlib->fastai) (0.10.0)\n",
            "Requirement already satisfied, skipping upgrade: kiwisolver>=1.0.1 in /usr/local/lib/python3.6/dist-packages (from matplotlib->fastai) (1.3.1)\n",
            "Requirement already satisfied, skipping upgrade: urllib3!=1.25.0,!=1.25.1,<1.26,>=1.21.1 in /usr/local/lib/python3.6/dist-packages (from requests->fastai) (1.24.3)\n",
            "Requirement already satisfied, skipping upgrade: certifi>=2017.4.17 in /usr/local/lib/python3.6/dist-packages (from requests->fastai) (2020.12.5)\n",
            "Requirement already satisfied, skipping upgrade: chardet<4,>=3.0.2 in /usr/local/lib/python3.6/dist-packages (from requests->fastai) (3.0.4)\n",
            "Requirement already satisfied, skipping upgrade: idna<3,>=2.5 in /usr/local/lib/python3.6/dist-packages (from requests->fastai) (2.10)\n",
            "Requirement already satisfied, skipping upgrade: joblib>=0.11 in /usr/local/lib/python3.6/dist-packages (from scikit-learn->fastai) (1.0.0)\n",
            "Requirement already satisfied, skipping upgrade: blis<0.5.0,>=0.4.0 in /usr/local/lib/python3.6/dist-packages (from spacy->fastai) (0.4.1)\n",
            "Requirement already satisfied, skipping upgrade: murmurhash<1.1.0,>=0.28.0 in /usr/local/lib/python3.6/dist-packages (from spacy->fastai) (1.0.5)\n",
            "Requirement already satisfied, skipping upgrade: catalogue<1.1.0,>=0.0.7 in /usr/local/lib/python3.6/dist-packages (from spacy->fastai) (1.0.0)\n",
            "Requirement already satisfied, skipping upgrade: tqdm<5.0.0,>=4.38.0 in /usr/local/lib/python3.6/dist-packages (from spacy->fastai) (4.41.1)\n",
            "Requirement already satisfied, skipping upgrade: thinc==7.4.0 in /usr/local/lib/python3.6/dist-packages (from spacy->fastai) (7.4.0)\n",
            "Requirement already satisfied, skipping upgrade: plac<1.2.0,>=0.9.6 in /usr/local/lib/python3.6/dist-packages (from spacy->fastai) (1.1.3)\n",
            "Requirement already satisfied, skipping upgrade: srsly<1.1.0,>=1.0.2 in /usr/local/lib/python3.6/dist-packages (from spacy->fastai) (1.0.5)\n",
            "Requirement already satisfied, skipping upgrade: setuptools in /usr/local/lib/python3.6/dist-packages (from spacy->fastai) (51.3.3)\n",
            "Requirement already satisfied, skipping upgrade: preshed<3.1.0,>=3.0.2 in /usr/local/lib/python3.6/dist-packages (from spacy->fastai) (3.0.5)\n",
            "Requirement already satisfied, skipping upgrade: wasabi<1.1.0,>=0.4.0 in /usr/local/lib/python3.6/dist-packages (from spacy->fastai) (0.8.0)\n",
            "Requirement already satisfied, skipping upgrade: cymem<2.1.0,>=2.0.2 in /usr/local/lib/python3.6/dist-packages (from spacy->fastai) (2.0.5)\n",
            "Requirement already satisfied, skipping upgrade: pytz>=2017.2 in /usr/local/lib/python3.6/dist-packages (from pandas->fastai) (2018.9)\n",
            "Requirement already satisfied, skipping upgrade: dataclasses in /usr/local/lib/python3.6/dist-packages (from torch<1.8,>=1.7.0->fastai) (0.8)\n",
            "Requirement already satisfied, skipping upgrade: future in /usr/local/lib/python3.6/dist-packages (from torch<1.8,>=1.7.0->fastai) (0.16.0)\n",
            "Requirement already satisfied, skipping upgrade: typing-extensions in /usr/local/lib/python3.6/dist-packages (from torch<1.8,>=1.7.0->fastai) (3.7.4.3)\n",
            "Requirement already satisfied, skipping upgrade: six>=1.5 in /usr/local/lib/python3.6/dist-packages (from python-dateutil>=2.1->matplotlib->fastai) (1.15.0)\n",
            "Requirement already satisfied, skipping upgrade: importlib-metadata>=0.20; python_version < \"3.8\" in /usr/local/lib/python3.6/dist-packages (from catalogue<1.1.0,>=0.0.7->spacy->fastai) (3.3.0)\n",
            "Requirement already satisfied, skipping upgrade: zipp>=0.5 in /usr/local/lib/python3.6/dist-packages (from importlib-metadata>=0.20; python_version < \"3.8\"->catalogue<1.1.0,>=0.0.7->spacy->fastai) (3.4.0)\n",
            "Installing collected packages: fastcore, fastai\n",
            "  Found existing installation: fastai 1.0.61\n",
            "    Uninstalling fastai-1.0.61:\n",
            "      Successfully uninstalled fastai-1.0.61\n",
            "Successfully installed fastai-2.2.5 fastcore-1.3.19\n"
          ],
          "name": "stdout"
        }
      ]
    },
    {
      "cell_type": "code",
      "metadata": {
        "colab": {
          "base_uri": "https://localhost:8080/"
        },
        "id": "hSSUnHGsz4xf",
        "outputId": "4888f693-ad56-4305-9b0f-e44b730effbf"
      },
      "source": [
        "! pip install nltk"
      ],
      "execution_count": null,
      "outputs": [
        {
          "output_type": "stream",
          "text": [
            "Requirement already satisfied: nltk in /usr/local/lib/python3.6/dist-packages (3.2.5)\n",
            "Requirement already satisfied: six in /usr/local/lib/python3.6/dist-packages (from nltk) (1.15.0)\n"
          ],
          "name": "stdout"
        }
      ]
    },
    {
      "cell_type": "code",
      "metadata": {
        "id": "xlyI38rna6Zf"
      },
      "source": [
        "from fastai.vision.all import *\r\n",
        "from fastai.torch_basics import *\r\n",
        "from fastai.data.all import *\r\n",
        "from fastai.text.core import *\r\n",
        "from fastai.text.data import TextDataLoaders\r\n",
        "from fastai.text.learner import language_model_learner\r\n",
        "from fastai.text import *\r\n",
        "from fastai.text.all import *\r\n",
        "\r\n",
        "import matplotlib.pyplot as plt\r\n",
        "import pandas as pd\r\n",
        "import numpy as np\r\n",
        "\r\n",
        "import os\r\n",
        "\r\n",
        "import nltk\r\n",
        "from nltk.tokenize.toktok import ToktokTokenizer\r\n",
        "from nltk.stem import WordNetLemmatizer\r\n",
        "from nltk.corpus import stopwords\r\n",
        "\r\n",
        "from bs4 import BeautifulSoup\r\n",
        "\r\n",
        "import ast\r\n",
        "\r\n",
        "from sklearn.preprocessing import MultiLabelBinarizer\r\n",
        "from sklearn.model_selection import train_test_split"
      ],
      "execution_count": null,
      "outputs": []
    },
    {
      "cell_type": "code",
      "metadata": {
        "colab": {
          "base_uri": "https://localhost:8080/"
        },
        "id": "W_E0NOkI3ltf",
        "outputId": "4466968a-278c-4621-e35b-df99888ebf7b"
      },
      "source": [
        "nltk.download('stopwords')\r\n",
        "nltk.download('wordnet')"
      ],
      "execution_count": null,
      "outputs": [
        {
          "output_type": "stream",
          "text": [
            "[nltk_data] Downloading package stopwords to /root/nltk_data...\n",
            "[nltk_data]   Unzipping corpora/stopwords.zip.\n",
            "[nltk_data] Downloading package wordnet to /root/nltk_data...\n",
            "[nltk_data]   Unzipping corpora/wordnet.zip.\n"
          ],
          "name": "stdout"
        },
        {
          "output_type": "execute_result",
          "data": {
            "text/plain": [
              "True"
            ]
          },
          "metadata": {
            "tags": []
          },
          "execution_count": 6
        }
      ]
    },
    {
      "cell_type": "code",
      "metadata": {
        "id": "TAgmanx9a_No"
      },
      "source": [
        "os.chdir(\"/content/drive/Shareddrives/Datasets\")\r\n",
        "os.chdir(\"./STACKOVERFLOW_V2\")"
      ],
      "execution_count": null,
      "outputs": []
    },
    {
      "cell_type": "code",
      "metadata": {
        "id": "EcZrvq7K2X_E"
      },
      "source": [
        "tags_delimeter = ';'"
      ],
      "execution_count": null,
      "outputs": []
    },
    {
      "cell_type": "markdown",
      "metadata": {
        "id": "_ru-OVWGYwb8"
      },
      "source": [
        "#Getting the data to work with"
      ]
    },
    {
      "cell_type": "markdown",
      "metadata": {
        "id": "hmWhe0MyEiOK"
      },
      "source": [
        "##Downloading the Data"
      ]
    },
    {
      "cell_type": "code",
      "metadata": {
        "id": "Z9rGqKuwiu7u"
      },
      "source": [
        "#os.environ[\"KAGGLE_USERNAME\"] = \"belalhamdy\"\r\n",
        "#os.environ[\"KAGGLE_KEY\"] = \"245d5e6f1f2c52ae8a8a680a88097c7e\""
      ],
      "execution_count": null,
      "outputs": []
    },
    {
      "cell_type": "code",
      "metadata": {
        "id": "Y43UYXkoikc3",
        "colab": {
          "base_uri": "https://localhost:8080/"
        },
        "outputId": "9fdd9cc0-1fa3-4887-b47d-481b545b8d50"
      },
      "source": [
        "#!pip install --upgrade --force-reinstall --no-deps kaggle"
      ],
      "execution_count": null,
      "outputs": [
        {
          "output_type": "stream",
          "text": [
            "Collecting kaggle\n",
            "\u001b[?25l  Downloading https://files.pythonhosted.org/packages/99/33/365c0d13f07a2a54744d027fe20b60dacdfdfb33bc04746db6ad0b79340b/kaggle-1.5.10.tar.gz (59kB)\n",
            "\r\u001b[K     |█████▌                          | 10kB 17.8MB/s eta 0:00:01\r\u001b[K     |███████████                     | 20kB 9.8MB/s eta 0:00:01\r\u001b[K     |████████████████▋               | 30kB 7.9MB/s eta 0:00:01\r\u001b[K     |██████████████████████▏         | 40kB 7.3MB/s eta 0:00:01\r\u001b[K     |███████████████████████████▊    | 51kB 4.3MB/s eta 0:00:01\r\u001b[K     |████████████████████████████████| 61kB 2.9MB/s \n",
            "\u001b[?25hBuilding wheels for collected packages: kaggle\n",
            "  Building wheel for kaggle (setup.py) ... \u001b[?25l\u001b[?25hdone\n",
            "  Created wheel for kaggle: filename=kaggle-1.5.10-cp36-none-any.whl size=73269 sha256=5597a12a59856a14b674874cb79ffc11d91d2243909c88f30d1445ccb51d4c70\n",
            "  Stored in directory: /root/.cache/pip/wheels/3a/d1/7e/6ce09b72b770149802c653a02783821629146983ee5a360f10\n",
            "Successfully built kaggle\n",
            "Installing collected packages: kaggle\n",
            "  Found existing installation: kaggle 1.5.10\n",
            "    Uninstalling kaggle-1.5.10:\n",
            "      Successfully uninstalled kaggle-1.5.10\n",
            "Successfully installed kaggle-1.5.10\n"
          ],
          "name": "stdout"
        }
      ]
    },
    {
      "cell_type": "code",
      "metadata": {
        "id": "-561_iLIielL",
        "colab": {
          "base_uri": "https://localhost:8080/"
        },
        "outputId": "d0ee72dc-4dab-4c5e-a773-f1b9755b8692"
      },
      "source": [
        "#os.chdir(\"/content/drive/Shareddrives/Datasets/STACKOVERFLOW_V2\")\r\n",
        "#os.mkdir(\"./RAW\")\r\n",
        "#os.chdir(\"./RAW\")\r\n",
        "#os.chdir(\"/content/drive/Shareddrives/Datasets/STACKOVERFLOW_V2\")\r\n",
        "#!kaggle datasets download -d stackoverflow/stacksample"
      ],
      "execution_count": null,
      "outputs": [
        {
          "output_type": "stream",
          "text": [
            "Downloading stacksample.zip to /content/drive/Shareddrives/Datasets/STACKOVERFLOW_V2/RAW\n",
            " 99% 1.10G/1.11G [00:07<00:00, 140MB/s]\n",
            "100% 1.11G/1.11G [00:07<00:00, 156MB/s]\n"
          ],
          "name": "stdout"
        }
      ]
    },
    {
      "cell_type": "code",
      "metadata": {
        "id": "cak8gWiOinYR",
        "colab": {
          "base_uri": "https://localhost:8080/"
        },
        "outputId": "fd8029d8-6a5e-41df-8400-5c0cc7eb5646"
      },
      "source": [
        "#!unzip stacksample.zip && rm stacksample.zip"
      ],
      "execution_count": null,
      "outputs": [
        {
          "output_type": "stream",
          "text": [
            "Archive:  stacksample.zip\n",
            "  inflating: Answers.csv             \n",
            "  inflating: Questions.csv           \n",
            "  inflating: Tags.csv                \n"
          ],
          "name": "stdout"
        }
      ]
    },
    {
      "cell_type": "markdown",
      "metadata": {
        "id": "Vo60jQdOEoKM"
      },
      "source": [
        "##Working with the Data"
      ]
    },
    {
      "cell_type": "code",
      "metadata": {
        "id": "hlyPobrPEr7Q"
      },
      "source": [
        "#os.chdir(\"/content/drive/Shareddrives/Datasets/STACKOVERFLOW_V2\")\r\n",
        "#os.chdir(\"./RAW\")"
      ],
      "execution_count": null,
      "outputs": []
    },
    {
      "cell_type": "markdown",
      "metadata": {
        "id": "6-6wXu0JE2fn"
      },
      "source": [
        "In the data we have three files:\r\n",
        "\r\n",
        "1.   Questions\r\n",
        "2.   Answers\r\n",
        "3.   Tags\r\n",
        "\r\n",
        "We need the Questions and Tags only.\r\n",
        "\r\n",
        "So in Questions. We need three columns only: `Id` , `Title` and `Body`\r\n",
        "in Tags. We need the both columns which are: `Id` and `Tag`\r\n",
        "\r\n",
        "Then we will make inner join between the two tables on `Id` to have our dataset.\r\n",
        "Note: Before joining merge the similar Ids in `Tags` to one cell row with delimeter `;`\r\n",
        "\r\n",
        "\r\n",
        "\r\n",
        "\r\n"
      ]
    },
    {
      "cell_type": "code",
      "metadata": {
        "id": "OHFlXw-FF-2v"
      },
      "source": [
        "# tags = pd.read_csv(\"Tags.csv\", encoding=\"ISO-8859-1\", dtype={'Tag': str})"
      ],
      "execution_count": null,
      "outputs": []
    },
    {
      "cell_type": "code",
      "metadata": {
        "id": "Ueq9VDQfGK_F",
        "colab": {
          "base_uri": "https://localhost:8080/",
          "height": 195
        },
        "outputId": "ee028c5b-1f7b-48a0-c526-0b1793b62b93"
      },
      "source": [
        "# tags.head()"
      ],
      "execution_count": null,
      "outputs": [
        {
          "output_type": "execute_result",
          "data": {
            "text/html": [
              "<div>\n",
              "<style scoped>\n",
              "    .dataframe tbody tr th:only-of-type {\n",
              "        vertical-align: middle;\n",
              "    }\n",
              "\n",
              "    .dataframe tbody tr th {\n",
              "        vertical-align: top;\n",
              "    }\n",
              "\n",
              "    .dataframe thead th {\n",
              "        text-align: right;\n",
              "    }\n",
              "</style>\n",
              "<table border=\"1\" class=\"dataframe\">\n",
              "  <thead>\n",
              "    <tr style=\"text-align: right;\">\n",
              "      <th></th>\n",
              "      <th>Id</th>\n",
              "      <th>Tag</th>\n",
              "    </tr>\n",
              "  </thead>\n",
              "  <tbody>\n",
              "    <tr>\n",
              "      <th>0</th>\n",
              "      <td>80</td>\n",
              "      <td>flex</td>\n",
              "    </tr>\n",
              "    <tr>\n",
              "      <th>1</th>\n",
              "      <td>80</td>\n",
              "      <td>actionscript-3</td>\n",
              "    </tr>\n",
              "    <tr>\n",
              "      <th>2</th>\n",
              "      <td>80</td>\n",
              "      <td>air</td>\n",
              "    </tr>\n",
              "    <tr>\n",
              "      <th>3</th>\n",
              "      <td>90</td>\n",
              "      <td>svn</td>\n",
              "    </tr>\n",
              "    <tr>\n",
              "      <th>4</th>\n",
              "      <td>90</td>\n",
              "      <td>tortoisesvn</td>\n",
              "    </tr>\n",
              "  </tbody>\n",
              "</table>\n",
              "</div>"
            ],
            "text/plain": [
              "   Id             Tag\n",
              "0  80            flex\n",
              "1  80  actionscript-3\n",
              "2  80             air\n",
              "3  90             svn\n",
              "4  90     tortoisesvn"
            ]
          },
          "metadata": {
            "tags": []
          },
          "execution_count": 7
        }
      ]
    },
    {
      "cell_type": "code",
      "metadata": {
        "colab": {
          "base_uri": "https://localhost:8080/"
        },
        "id": "IWkqZpugmNMe",
        "outputId": "42dc184d-e9a1-43db-afc3-e577a1e5a05c"
      },
      "source": [
        "# tags.info()"
      ],
      "execution_count": null,
      "outputs": [
        {
          "output_type": "stream",
          "text": [
            "<class 'pandas.core.frame.DataFrame'>\n",
            "RangeIndex: 3750994 entries, 0 to 3750993\n",
            "Data columns (total 2 columns):\n",
            " #   Column  Dtype \n",
            "---  ------  ----- \n",
            " 0   Id      int64 \n",
            " 1   Tag     object\n",
            "dtypes: int64(1), object(1)\n",
            "memory usage: 57.2+ MB\n"
          ],
          "name": "stdout"
        }
      ]
    },
    {
      "cell_type": "code",
      "metadata": {
        "id": "1poDcegKmZJw"
      },
      "source": [
        "# tags['Tag'] = tags['Tag'].astype(str)\r\n",
        "# grouped_tags = tags.groupby(\"Id\")['Tag'].apply(lambda tags: tags_delimeter.join(tags))"
      ],
      "execution_count": null,
      "outputs": []
    },
    {
      "cell_type": "code",
      "metadata": {
        "colab": {
          "base_uri": "https://localhost:8080/"
        },
        "id": "T71hQ-M1u6H8",
        "outputId": "cc1f43e7-8e40-41df-e096-0fc4a72676fe"
      },
      "source": [
        "grouped_tags.head()"
      ],
      "execution_count": null,
      "outputs": [
        {
          "output_type": "execute_result",
          "data": {
            "text/plain": [
              "Id\n",
              "80                            flex;actionscript-3;air\n",
              "90       svn;tortoisesvn;branch;branching-and-merging\n",
              "120                               sql;asp.net;sitemap\n",
              "180    algorithm;language-agnostic;colors;color-space\n",
              "260           c#;.net;scripting;compiler-construction\n",
              "Name: Tag, dtype: object"
            ]
          },
          "metadata": {
            "tags": []
          },
          "execution_count": 12
        }
      ]
    },
    {
      "cell_type": "code",
      "metadata": {
        "id": "LLGZqB_jvJRX"
      },
      "source": [
        "# grouped_tags.reset_index()\r\n",
        "# grouped_tags = pd.DataFrame({'Id':grouped_tags.index, 'Tags':grouped_tags.values})"
      ],
      "execution_count": null,
      "outputs": []
    },
    {
      "cell_type": "code",
      "metadata": {
        "colab": {
          "base_uri": "https://localhost:8080/",
          "height": 195
        },
        "id": "jOxz9YtLvQHJ",
        "outputId": "c3699961-fb14-4da7-df08-cd4eef22491f"
      },
      "source": [
        "# grouped_tags.head()"
      ],
      "execution_count": null,
      "outputs": [
        {
          "output_type": "execute_result",
          "data": {
            "text/html": [
              "<div>\n",
              "<style scoped>\n",
              "    .dataframe tbody tr th:only-of-type {\n",
              "        vertical-align: middle;\n",
              "    }\n",
              "\n",
              "    .dataframe tbody tr th {\n",
              "        vertical-align: top;\n",
              "    }\n",
              "\n",
              "    .dataframe thead th {\n",
              "        text-align: right;\n",
              "    }\n",
              "</style>\n",
              "<table border=\"1\" class=\"dataframe\">\n",
              "  <thead>\n",
              "    <tr style=\"text-align: right;\">\n",
              "      <th></th>\n",
              "      <th>Id</th>\n",
              "      <th>Tags</th>\n",
              "    </tr>\n",
              "  </thead>\n",
              "  <tbody>\n",
              "    <tr>\n",
              "      <th>0</th>\n",
              "      <td>80</td>\n",
              "      <td>flex;actionscript-3;air</td>\n",
              "    </tr>\n",
              "    <tr>\n",
              "      <th>1</th>\n",
              "      <td>90</td>\n",
              "      <td>svn;tortoisesvn;branch;branching-and-merging</td>\n",
              "    </tr>\n",
              "    <tr>\n",
              "      <th>2</th>\n",
              "      <td>120</td>\n",
              "      <td>sql;asp.net;sitemap</td>\n",
              "    </tr>\n",
              "    <tr>\n",
              "      <th>3</th>\n",
              "      <td>180</td>\n",
              "      <td>algorithm;language-agnostic;colors;color-space</td>\n",
              "    </tr>\n",
              "    <tr>\n",
              "      <th>4</th>\n",
              "      <td>260</td>\n",
              "      <td>c#;.net;scripting;compiler-construction</td>\n",
              "    </tr>\n",
              "  </tbody>\n",
              "</table>\n",
              "</div>"
            ],
            "text/plain": [
              "    Id                                            Tags\n",
              "0   80                         flex;actionscript-3;air\n",
              "1   90    svn;tortoisesvn;branch;branching-and-merging\n",
              "2  120                             sql;asp.net;sitemap\n",
              "3  180  algorithm;language-agnostic;colors;color-space\n",
              "4  260         c#;.net;scripting;compiler-construction"
            ]
          },
          "metadata": {
            "tags": []
          },
          "execution_count": 14
        }
      ]
    },
    {
      "cell_type": "code",
      "metadata": {
        "id": "zphaPG4AvYvt"
      },
      "source": [
        "# df = pd.read_csv(\"Questions.csv\", encoding=\"ISO-8859-1\")"
      ],
      "execution_count": null,
      "outputs": []
    },
    {
      "cell_type": "code",
      "metadata": {
        "colab": {
          "base_uri": "https://localhost:8080/",
          "height": 632
        },
        "id": "NBMgMBj8vh48",
        "outputId": "17863534-2fc1-4b55-eb46-14632b10d3e6"
      },
      "source": [
        "# df.head()"
      ],
      "execution_count": null,
      "outputs": [
        {
          "output_type": "execute_result",
          "data": {
            "text/html": [
              "<div>\n",
              "<style scoped>\n",
              "    .dataframe tbody tr th:only-of-type {\n",
              "        vertical-align: middle;\n",
              "    }\n",
              "\n",
              "    .dataframe tbody tr th {\n",
              "        vertical-align: top;\n",
              "    }\n",
              "\n",
              "    .dataframe thead th {\n",
              "        text-align: right;\n",
              "    }\n",
              "</style>\n",
              "<table border=\"1\" class=\"dataframe\">\n",
              "  <thead>\n",
              "    <tr style=\"text-align: right;\">\n",
              "      <th></th>\n",
              "      <th>Id</th>\n",
              "      <th>OwnerUserId</th>\n",
              "      <th>CreationDate</th>\n",
              "      <th>ClosedDate</th>\n",
              "      <th>Score</th>\n",
              "      <th>Title</th>\n",
              "      <th>Body</th>\n",
              "    </tr>\n",
              "  </thead>\n",
              "  <tbody>\n",
              "    <tr>\n",
              "      <th>0</th>\n",
              "      <td>80</td>\n",
              "      <td>26.0</td>\n",
              "      <td>2008-08-01T13:57:07Z</td>\n",
              "      <td>NaN</td>\n",
              "      <td>26</td>\n",
              "      <td>SQLStatement.execute() - multiple queries in one statement</td>\n",
              "      <td>&lt;p&gt;I've written a database generation script in &lt;a href=\"http://en.wikipedia.org/wiki/SQL\"&gt;SQL&lt;/a&gt; and want to execute it in my &lt;a href=\"http://en.wikipedia.org/wiki/Adobe_Integrated_Runtime\"&gt;Adobe AIR&lt;/a&gt; application:&lt;/p&gt;\\n\\n&lt;pre&gt;&lt;code&gt;Create Table tRole (\\n      roleID integer Primary Key\\n      ,roleName varchar(40)\\n);\\nCreate Table tFile (\\n    fileID integer Primary Key\\n    ,fileName varchar(50)\\n    ,fileDescription varchar(500)\\n    ,thumbnailID integer\\n    ,fileFormatID integer\\n    ,categoryID integer\\n    ,isFavorite boolean\\n    ,dateAdded date\\n    ,globalAccessCount integer...</td>\n",
              "    </tr>\n",
              "    <tr>\n",
              "      <th>1</th>\n",
              "      <td>90</td>\n",
              "      <td>58.0</td>\n",
              "      <td>2008-08-01T14:41:24Z</td>\n",
              "      <td>2012-12-26T03:45:49Z</td>\n",
              "      <td>144</td>\n",
              "      <td>Good branching and merging tutorials for TortoiseSVN?</td>\n",
              "      <td>&lt;p&gt;Are there any really good tutorials explaining &lt;a href=\"http://svnbook.red-bean.com/en/1.8/svn.branchmerge.html\" rel=\"nofollow\"&gt;branching and merging&lt;/a&gt; with Apache Subversion? &lt;/p&gt;\\n\\n&lt;p&gt;All the better if it's specific to TortoiseSVN client.&lt;/p&gt;\\n</td>\n",
              "    </tr>\n",
              "    <tr>\n",
              "      <th>2</th>\n",
              "      <td>120</td>\n",
              "      <td>83.0</td>\n",
              "      <td>2008-08-01T15:50:08Z</td>\n",
              "      <td>NaN</td>\n",
              "      <td>21</td>\n",
              "      <td>ASP.NET Site Maps</td>\n",
              "      <td>&lt;p&gt;Has anyone got experience creating &lt;strong&gt;SQL-based ASP.NET&lt;/strong&gt; site-map providers?&lt;/p&gt;\\n\\n&lt;p&gt;I've got the default XML file &lt;code&gt;web.sitemap&lt;/code&gt; working properly with my Menu and &lt;strong&gt;SiteMapPath&lt;/strong&gt; controls, but I'll need a way for the users of my site to create and modify pages dynamically.&lt;/p&gt;\\n\\n&lt;p&gt;I need to tie page viewing permissions into the standard &lt;code&gt;ASP.NET&lt;/code&gt; membership system as well.&lt;/p&gt;\\n</td>\n",
              "    </tr>\n",
              "    <tr>\n",
              "      <th>3</th>\n",
              "      <td>180</td>\n",
              "      <td>2089740.0</td>\n",
              "      <td>2008-08-01T18:42:19Z</td>\n",
              "      <td>NaN</td>\n",
              "      <td>53</td>\n",
              "      <td>Function for creating color wheels</td>\n",
              "      <td>&lt;p&gt;This is something I've pseudo-solved many times and never quite found a solution. That's stuck with me. The problem is to come up with a way to generate &lt;code&gt;N&lt;/code&gt; colors, that are as distinguishable as possible where &lt;code&gt;N&lt;/code&gt; is a parameter.&lt;/p&gt;\\n</td>\n",
              "    </tr>\n",
              "    <tr>\n",
              "      <th>4</th>\n",
              "      <td>260</td>\n",
              "      <td>91.0</td>\n",
              "      <td>2008-08-01T23:22:08Z</td>\n",
              "      <td>NaN</td>\n",
              "      <td>49</td>\n",
              "      <td>Adding scripting functionality to .NET applications</td>\n",
              "      <td>&lt;p&gt;I have a little game written in C#. It uses a database as back-end. It's \\na &lt;a href=\"http://en.wikipedia.org/wiki/Collectible_card_game\"&gt;trading card game&lt;/a&gt;, and I wanted to implement the function of the cards as a script.&lt;/p&gt;\\n\\n&lt;p&gt;What I mean is that I essentially have an interface, &lt;code&gt;ICard&lt;/code&gt;, which a card class implements (&lt;code&gt;public class Card056 : ICard&lt;/code&gt;) and which contains function that are called by the game.&lt;/p&gt;\\n\\n&lt;p&gt;Now, to make the thing maintainable/moddable, I would like to have the class for each card as source code in the database and essentially compi...</td>\n",
              "    </tr>\n",
              "  </tbody>\n",
              "</table>\n",
              "</div>"
            ],
            "text/plain": [
              "    Id  ...                                                                                                                                                                                                                                                                                                                                                                                                                                                                                                                                                                                                                     Body\n",
              "0   80  ...  <p>I've written a database generation script in <a href=\"http://en.wikipedia.org/wiki/SQL\">SQL</a> and want to execute it in my <a href=\"http://en.wikipedia.org/wiki/Adobe_Integrated_Runtime\">Adobe AIR</a> application:</p>\\n\\n<pre><code>Create Table tRole (\\n      roleID integer Primary Key\\n      ,roleName varchar(40)\\n);\\nCreate Table tFile (\\n    fileID integer Primary Key\\n    ,fileName varchar(50)\\n    ,fileDescription varchar(500)\\n    ,thumbnailID integer\\n    ,fileFormatID integer\\n    ,categoryID integer\\n    ,isFavorite boolean\\n    ,dateAdded date\\n    ,globalAccessCount integer...\n",
              "1   90  ...                                                                                                                                                                                                                                                                                                                                                             <p>Are there any really good tutorials explaining <a href=\"http://svnbook.red-bean.com/en/1.8/svn.branchmerge.html\" rel=\"nofollow\">branching and merging</a> with Apache Subversion? </p>\\n\\n<p>All the better if it's specific to TortoiseSVN client.</p>\\n\n",
              "2  120  ...                                                                                                                                                                     <p>Has anyone got experience creating <strong>SQL-based ASP.NET</strong> site-map providers?</p>\\n\\n<p>I've got the default XML file <code>web.sitemap</code> working properly with my Menu and <strong>SiteMapPath</strong> controls, but I'll need a way for the users of my site to create and modify pages dynamically.</p>\\n\\n<p>I need to tie page viewing permissions into the standard <code>ASP.NET</code> membership system as well.</p>\\n\n",
              "3  180  ...                                                                                                                                                                                                                                                                                                                                                    <p>This is something I've pseudo-solved many times and never quite found a solution. That's stuck with me. The problem is to come up with a way to generate <code>N</code> colors, that are as distinguishable as possible where <code>N</code> is a parameter.</p>\\n\n",
              "4  260  ...  <p>I have a little game written in C#. It uses a database as back-end. It's \\na <a href=\"http://en.wikipedia.org/wiki/Collectible_card_game\">trading card game</a>, and I wanted to implement the function of the cards as a script.</p>\\n\\n<p>What I mean is that I essentially have an interface, <code>ICard</code>, which a card class implements (<code>public class Card056 : ICard</code>) and which contains function that are called by the game.</p>\\n\\n<p>Now, to make the thing maintainable/moddable, I would like to have the class for each card as source code in the database and essentially compi...\n",
              "\n",
              "[5 rows x 7 columns]"
            ]
          },
          "metadata": {
            "tags": []
          },
          "execution_count": 25
        }
      ]
    },
    {
      "cell_type": "code",
      "metadata": {
        "id": "rmo084OlvjGG"
      },
      "source": [
        "# df.drop(columns=['OwnerUserId', 'CreationDate', 'ClosedDate'], inplace=True)"
      ],
      "execution_count": null,
      "outputs": []
    },
    {
      "cell_type": "code",
      "metadata": {
        "id": "_V4g8A2Ivrv-"
      },
      "source": [
        "# df = df.merge(grouped_tags, on='Id')"
      ],
      "execution_count": null,
      "outputs": []
    },
    {
      "cell_type": "code",
      "metadata": {
        "colab": {
          "base_uri": "https://localhost:8080/",
          "height": 531
        },
        "id": "0jcwj5U5vtPT",
        "outputId": "b1e1220c-be51-4e8a-9a21-d7b1451c7ba6"
      },
      "source": [
        "# df.head()"
      ],
      "execution_count": null,
      "outputs": [
        {
          "output_type": "execute_result",
          "data": {
            "text/html": [
              "<div>\n",
              "<style scoped>\n",
              "    .dataframe tbody tr th:only-of-type {\n",
              "        vertical-align: middle;\n",
              "    }\n",
              "\n",
              "    .dataframe tbody tr th {\n",
              "        vertical-align: top;\n",
              "    }\n",
              "\n",
              "    .dataframe thead th {\n",
              "        text-align: right;\n",
              "    }\n",
              "</style>\n",
              "<table border=\"1\" class=\"dataframe\">\n",
              "  <thead>\n",
              "    <tr style=\"text-align: right;\">\n",
              "      <th></th>\n",
              "      <th>Id</th>\n",
              "      <th>Score</th>\n",
              "      <th>Title</th>\n",
              "      <th>Body</th>\n",
              "      <th>Tags</th>\n",
              "    </tr>\n",
              "  </thead>\n",
              "  <tbody>\n",
              "    <tr>\n",
              "      <th>0</th>\n",
              "      <td>80</td>\n",
              "      <td>26</td>\n",
              "      <td>SQLStatement.execute() - multiple queries in one statement</td>\n",
              "      <td>&lt;p&gt;I've written a database generation script in &lt;a href=\"http://en.wikipedia.org/wiki/SQL\"&gt;SQL&lt;/a&gt; and want to execute it in my &lt;a href=\"http://en.wikipedia.org/wiki/Adobe_Integrated_Runtime\"&gt;Adobe AIR&lt;/a&gt; application:&lt;/p&gt;\\n\\n&lt;pre&gt;&lt;code&gt;Create Table tRole (\\n      roleID integer Primary Key\\n      ,roleName varchar(40)\\n);\\nCreate Table tFile (\\n    fileID integer Primary Key\\n    ,fileName varchar(50)\\n    ,fileDescription varchar(500)\\n    ,thumbnailID integer\\n    ,fileFormatID integer\\n    ,categoryID integer\\n    ,isFavorite boolean\\n    ,dateAdded date\\n    ,globalAccessCount integer...</td>\n",
              "      <td>flex;actionscript-3;air</td>\n",
              "    </tr>\n",
              "    <tr>\n",
              "      <th>1</th>\n",
              "      <td>90</td>\n",
              "      <td>144</td>\n",
              "      <td>Good branching and merging tutorials for TortoiseSVN?</td>\n",
              "      <td>&lt;p&gt;Are there any really good tutorials explaining &lt;a href=\"http://svnbook.red-bean.com/en/1.8/svn.branchmerge.html\" rel=\"nofollow\"&gt;branching and merging&lt;/a&gt; with Apache Subversion? &lt;/p&gt;\\n\\n&lt;p&gt;All the better if it's specific to TortoiseSVN client.&lt;/p&gt;\\n</td>\n",
              "      <td>svn;tortoisesvn;branch;branching-and-merging</td>\n",
              "    </tr>\n",
              "    <tr>\n",
              "      <th>2</th>\n",
              "      <td>120</td>\n",
              "      <td>21</td>\n",
              "      <td>ASP.NET Site Maps</td>\n",
              "      <td>&lt;p&gt;Has anyone got experience creating &lt;strong&gt;SQL-based ASP.NET&lt;/strong&gt; site-map providers?&lt;/p&gt;\\n\\n&lt;p&gt;I've got the default XML file &lt;code&gt;web.sitemap&lt;/code&gt; working properly with my Menu and &lt;strong&gt;SiteMapPath&lt;/strong&gt; controls, but I'll need a way for the users of my site to create and modify pages dynamically.&lt;/p&gt;\\n\\n&lt;p&gt;I need to tie page viewing permissions into the standard &lt;code&gt;ASP.NET&lt;/code&gt; membership system as well.&lt;/p&gt;\\n</td>\n",
              "      <td>sql;asp.net;sitemap</td>\n",
              "    </tr>\n",
              "    <tr>\n",
              "      <th>3</th>\n",
              "      <td>180</td>\n",
              "      <td>53</td>\n",
              "      <td>Function for creating color wheels</td>\n",
              "      <td>&lt;p&gt;This is something I've pseudo-solved many times and never quite found a solution. That's stuck with me. The problem is to come up with a way to generate &lt;code&gt;N&lt;/code&gt; colors, that are as distinguishable as possible where &lt;code&gt;N&lt;/code&gt; is a parameter.&lt;/p&gt;\\n</td>\n",
              "      <td>algorithm;language-agnostic;colors;color-space</td>\n",
              "    </tr>\n",
              "    <tr>\n",
              "      <th>4</th>\n",
              "      <td>260</td>\n",
              "      <td>49</td>\n",
              "      <td>Adding scripting functionality to .NET applications</td>\n",
              "      <td>&lt;p&gt;I have a little game written in C#. It uses a database as back-end. It's \\na &lt;a href=\"http://en.wikipedia.org/wiki/Collectible_card_game\"&gt;trading card game&lt;/a&gt;, and I wanted to implement the function of the cards as a script.&lt;/p&gt;\\n\\n&lt;p&gt;What I mean is that I essentially have an interface, &lt;code&gt;ICard&lt;/code&gt;, which a card class implements (&lt;code&gt;public class Card056 : ICard&lt;/code&gt;) and which contains function that are called by the game.&lt;/p&gt;\\n\\n&lt;p&gt;Now, to make the thing maintainable/moddable, I would like to have the class for each card as source code in the database and essentially compi...</td>\n",
              "      <td>c#;.net;scripting;compiler-construction</td>\n",
              "    </tr>\n",
              "  </tbody>\n",
              "</table>\n",
              "</div>"
            ],
            "text/plain": [
              "    Id  ...                                            Tags\n",
              "0   80  ...                         flex;actionscript-3;air\n",
              "1   90  ...    svn;tortoisesvn;branch;branching-and-merging\n",
              "2  120  ...                             sql;asp.net;sitemap\n",
              "3  180  ...  algorithm;language-agnostic;colors;color-space\n",
              "4  260  ...         c#;.net;scripting;compiler-construction\n",
              "\n",
              "[5 rows x 5 columns]"
            ]
          },
          "metadata": {
            "tags": []
          },
          "execution_count": 28
        }
      ]
    },
    {
      "cell_type": "code",
      "metadata": {
        "colab": {
          "base_uri": "https://localhost:8080/"
        },
        "id": "bwb-zRbtv1Ri",
        "outputId": "3bfcb2cf-4d19-4037-ea6c-89a790e5f40c"
      },
      "source": [
        "# df.info()"
      ],
      "execution_count": null,
      "outputs": [
        {
          "output_type": "stream",
          "text": [
            "<class 'pandas.core.frame.DataFrame'>\n",
            "Int64Index: 1264216 entries, 0 to 1264215\n",
            "Data columns (total 5 columns):\n",
            " #   Column  Non-Null Count    Dtype \n",
            "---  ------  --------------    ----- \n",
            " 0   Id      1264216 non-null  int64 \n",
            " 1   Score   1264216 non-null  int64 \n",
            " 2   Title   1264216 non-null  object\n",
            " 3   Body    1264216 non-null  object\n",
            " 4   Tags    1264216 non-null  object\n",
            "dtypes: int64(2), object(3)\n",
            "memory usage: 57.9+ MB\n"
          ],
          "name": "stdout"
        }
      ]
    },
    {
      "cell_type": "code",
      "metadata": {
        "id": "9NLxq222v_uc"
      },
      "source": [
        "# df = df[df['Score']>5]"
      ],
      "execution_count": null,
      "outputs": []
    },
    {
      "cell_type": "code",
      "metadata": {
        "colab": {
          "base_uri": "https://localhost:8080/"
        },
        "id": "aPteBIYYwCpF",
        "outputId": "1482d351-618a-4a05-8a8f-86863349728f"
      },
      "source": [
        "# df.info()"
      ],
      "execution_count": null,
      "outputs": [
        {
          "output_type": "stream",
          "text": [
            "<class 'pandas.core.frame.DataFrame'>\n",
            "Int64Index: 72950 entries, 0 to 1264205\n",
            "Data columns (total 5 columns):\n",
            " #   Column  Non-Null Count  Dtype \n",
            "---  ------  --------------  ----- \n",
            " 0   Id      72950 non-null  int64 \n",
            " 1   Score   72950 non-null  int64 \n",
            " 2   Title   72950 non-null  object\n",
            " 3   Body    72950 non-null  object\n",
            " 4   Tags    72950 non-null  object\n",
            "dtypes: int64(2), object(3)\n",
            "memory usage: 3.3+ MB\n"
          ],
          "name": "stdout"
        }
      ]
    },
    {
      "cell_type": "code",
      "metadata": {
        "id": "yQHv1tLBwiYP"
      },
      "source": [
        "# os.chdir(\"/content/drive/Shareddrives/Datasets/STACKOVERFLOW_V2\")"
      ],
      "execution_count": null,
      "outputs": []
    },
    {
      "cell_type": "code",
      "metadata": {
        "id": "Ks8WpWLEwlwz"
      },
      "source": [
        "# df.to_csv('Data.csv')"
      ],
      "execution_count": null,
      "outputs": []
    },
    {
      "cell_type": "markdown",
      "metadata": {
        "id": "_iok_rT2xR5k"
      },
      "source": [
        "#Loading the Data"
      ]
    },
    {
      "cell_type": "markdown",
      "metadata": {
        "id": "hEHe7VVK2APX"
      },
      "source": [
        "##Filtering the data to `most_common_number` tags (60)"
      ]
    },
    {
      "cell_type": "code",
      "metadata": {
        "id": "2gUiRU-2xXAd"
      },
      "source": [
        "os.chdir(\"/content/drive/Shareddrives/Datasets/STACKOVERFLOW_V2\")"
      ],
      "execution_count": null,
      "outputs": []
    },
    {
      "cell_type": "code",
      "metadata": {
        "id": "enHSrFOgxhl1"
      },
      "source": [
        "df = pd.read_csv(\"Data.csv\", encoding=\"ISO-8859-1\",index_col=0)"
      ],
      "execution_count": null,
      "outputs": []
    },
    {
      "cell_type": "code",
      "metadata": {
        "colab": {
          "base_uri": "https://localhost:8080/",
          "height": 531
        },
        "id": "G04Suk9lxqGo",
        "outputId": "8690d04e-1671-4516-cfe5-2444f5716f1f"
      },
      "source": [
        "df.head()"
      ],
      "execution_count": null,
      "outputs": [
        {
          "output_type": "execute_result",
          "data": {
            "text/html": [
              "<div>\n",
              "<style scoped>\n",
              "    .dataframe tbody tr th:only-of-type {\n",
              "        vertical-align: middle;\n",
              "    }\n",
              "\n",
              "    .dataframe tbody tr th {\n",
              "        vertical-align: top;\n",
              "    }\n",
              "\n",
              "    .dataframe thead th {\n",
              "        text-align: right;\n",
              "    }\n",
              "</style>\n",
              "<table border=\"1\" class=\"dataframe\">\n",
              "  <thead>\n",
              "    <tr style=\"text-align: right;\">\n",
              "      <th></th>\n",
              "      <th>Id</th>\n",
              "      <th>Score</th>\n",
              "      <th>Title</th>\n",
              "      <th>Body</th>\n",
              "      <th>Tags</th>\n",
              "    </tr>\n",
              "  </thead>\n",
              "  <tbody>\n",
              "    <tr>\n",
              "      <th>0</th>\n",
              "      <td>80</td>\n",
              "      <td>26</td>\n",
              "      <td>SQLStatement.execute() - multiple queries in one statement</td>\n",
              "      <td>&lt;p&gt;I've written a database generation script in &lt;a href=\"http://en.wikipedia.org/wiki/SQL\"&gt;SQL&lt;/a&gt; and want to execute it in my &lt;a href=\"http://en.wikipedia.org/wiki/Adobe_Integrated_Runtime\"&gt;Adobe AIR&lt;/a&gt; application:&lt;/p&gt;\\n\\n&lt;pre&gt;&lt;code&gt;Create Table tRole (\\n      roleID integer Primary Key\\n      ,roleName varchar(40)\\n);\\nCreate Table tFile (\\n    fileID integer Primary Key\\n    ,fileName varchar(50)\\n    ,fileDescription varchar(500)\\n    ,thumbnailID integer\\n    ,fileFormatID integer\\n    ,categoryID integer\\n    ,isFavorite boolean\\n    ,dateAdded date\\n    ,globalAccessCount integer...</td>\n",
              "      <td>flex;actionscript-3;air</td>\n",
              "    </tr>\n",
              "    <tr>\n",
              "      <th>1</th>\n",
              "      <td>90</td>\n",
              "      <td>144</td>\n",
              "      <td>Good branching and merging tutorials for TortoiseSVN?</td>\n",
              "      <td>&lt;p&gt;Are there any really good tutorials explaining &lt;a href=\"http://svnbook.red-bean.com/en/1.8/svn.branchmerge.html\" rel=\"nofollow\"&gt;branching and merging&lt;/a&gt; with Apache Subversion? &lt;/p&gt;\\n\\n&lt;p&gt;All the better if it's specific to TortoiseSVN client.&lt;/p&gt;\\n</td>\n",
              "      <td>svn;tortoisesvn;branch;branching-and-merging</td>\n",
              "    </tr>\n",
              "    <tr>\n",
              "      <th>2</th>\n",
              "      <td>120</td>\n",
              "      <td>21</td>\n",
              "      <td>ASP.NET Site Maps</td>\n",
              "      <td>&lt;p&gt;Has anyone got experience creating &lt;strong&gt;SQL-based ASP.NET&lt;/strong&gt; site-map providers?&lt;/p&gt;\\n\\n&lt;p&gt;I've got the default XML file &lt;code&gt;web.sitemap&lt;/code&gt; working properly with my Menu and &lt;strong&gt;SiteMapPath&lt;/strong&gt; controls, but I'll need a way for the users of my site to create and modify pages dynamically.&lt;/p&gt;\\n\\n&lt;p&gt;I need to tie page viewing permissions into the standard &lt;code&gt;ASP.NET&lt;/code&gt; membership system as well.&lt;/p&gt;\\n</td>\n",
              "      <td>sql;asp.net;sitemap</td>\n",
              "    </tr>\n",
              "    <tr>\n",
              "      <th>3</th>\n",
              "      <td>180</td>\n",
              "      <td>53</td>\n",
              "      <td>Function for creating color wheels</td>\n",
              "      <td>&lt;p&gt;This is something I've pseudo-solved many times and never quite found a solution. That's stuck with me. The problem is to come up with a way to generate &lt;code&gt;N&lt;/code&gt; colors, that are as distinguishable as possible where &lt;code&gt;N&lt;/code&gt; is a parameter.&lt;/p&gt;\\n</td>\n",
              "      <td>algorithm;language-agnostic;colors;color-space</td>\n",
              "    </tr>\n",
              "    <tr>\n",
              "      <th>4</th>\n",
              "      <td>260</td>\n",
              "      <td>49</td>\n",
              "      <td>Adding scripting functionality to .NET applications</td>\n",
              "      <td>&lt;p&gt;I have a little game written in C#. It uses a database as back-end. It's \\na &lt;a href=\"http://en.wikipedia.org/wiki/Collectible_card_game\"&gt;trading card game&lt;/a&gt;, and I wanted to implement the function of the cards as a script.&lt;/p&gt;\\n\\n&lt;p&gt;What I mean is that I essentially have an interface, &lt;code&gt;ICard&lt;/code&gt;, which a card class implements (&lt;code&gt;public class Card056 : ICard&lt;/code&gt;) and which contains function that are called by the game.&lt;/p&gt;\\n\\n&lt;p&gt;Now, to make the thing maintainable/moddable, I would like to have the class for each card as source code in the database and essentially compi...</td>\n",
              "      <td>c#;.net;scripting;compiler-construction</td>\n",
              "    </tr>\n",
              "  </tbody>\n",
              "</table>\n",
              "</div>"
            ],
            "text/plain": [
              "    Id  ...                                            Tags\n",
              "0   80  ...                         flex;actionscript-3;air\n",
              "1   90  ...    svn;tortoisesvn;branch;branching-and-merging\n",
              "2  120  ...                             sql;asp.net;sitemap\n",
              "3  180  ...  algorithm;language-agnostic;colors;color-space\n",
              "4  260  ...         c#;.net;scripting;compiler-construction\n",
              "\n",
              "[5 rows x 5 columns]"
            ]
          },
          "metadata": {
            "tags": []
          },
          "execution_count": 26
        }
      ]
    },
    {
      "cell_type": "code",
      "metadata": {
        "id": "OinPu3GByszv"
      },
      "source": [
        "df.drop_duplicates(inplace = True)"
      ],
      "execution_count": null,
      "outputs": []
    },
    {
      "cell_type": "code",
      "metadata": {
        "id": "k8-pINtzyzSv"
      },
      "source": [
        "df.drop(columns=['Id', 'Score'], inplace=True)"
      ],
      "execution_count": null,
      "outputs": []
    },
    {
      "cell_type": "code",
      "metadata": {
        "colab": {
          "base_uri": "https://localhost:8080/",
          "height": 498
        },
        "id": "WI7koYCvy3uB",
        "outputId": "b0d62a29-0df4-49c9-ea77-b59d682322d4"
      },
      "source": [
        "df.head()"
      ],
      "execution_count": null,
      "outputs": [
        {
          "output_type": "execute_result",
          "data": {
            "text/html": [
              "<div>\n",
              "<style scoped>\n",
              "    .dataframe tbody tr th:only-of-type {\n",
              "        vertical-align: middle;\n",
              "    }\n",
              "\n",
              "    .dataframe tbody tr th {\n",
              "        vertical-align: top;\n",
              "    }\n",
              "\n",
              "    .dataframe thead th {\n",
              "        text-align: right;\n",
              "    }\n",
              "</style>\n",
              "<table border=\"1\" class=\"dataframe\">\n",
              "  <thead>\n",
              "    <tr style=\"text-align: right;\">\n",
              "      <th></th>\n",
              "      <th>Title</th>\n",
              "      <th>Body</th>\n",
              "      <th>Tags</th>\n",
              "    </tr>\n",
              "  </thead>\n",
              "  <tbody>\n",
              "    <tr>\n",
              "      <th>0</th>\n",
              "      <td>SQLStatement.execute() - multiple queries in one statement</td>\n",
              "      <td>&lt;p&gt;I've written a database generation script in &lt;a href=\"http://en.wikipedia.org/wiki/SQL\"&gt;SQL&lt;/a&gt; and want to execute it in my &lt;a href=\"http://en.wikipedia.org/wiki/Adobe_Integrated_Runtime\"&gt;Adobe AIR&lt;/a&gt; application:&lt;/p&gt;\\n\\n&lt;pre&gt;&lt;code&gt;Create Table tRole (\\n      roleID integer Primary Key\\n      ,roleName varchar(40)\\n);\\nCreate Table tFile (\\n    fileID integer Primary Key\\n    ,fileName varchar(50)\\n    ,fileDescription varchar(500)\\n    ,thumbnailID integer\\n    ,fileFormatID integer\\n    ,categoryID integer\\n    ,isFavorite boolean\\n    ,dateAdded date\\n    ,globalAccessCount integer...</td>\n",
              "      <td>flex;actionscript-3;air</td>\n",
              "    </tr>\n",
              "    <tr>\n",
              "      <th>1</th>\n",
              "      <td>Good branching and merging tutorials for TortoiseSVN?</td>\n",
              "      <td>&lt;p&gt;Are there any really good tutorials explaining &lt;a href=\"http://svnbook.red-bean.com/en/1.8/svn.branchmerge.html\" rel=\"nofollow\"&gt;branching and merging&lt;/a&gt; with Apache Subversion? &lt;/p&gt;\\n\\n&lt;p&gt;All the better if it's specific to TortoiseSVN client.&lt;/p&gt;\\n</td>\n",
              "      <td>svn;tortoisesvn;branch;branching-and-merging</td>\n",
              "    </tr>\n",
              "    <tr>\n",
              "      <th>2</th>\n",
              "      <td>ASP.NET Site Maps</td>\n",
              "      <td>&lt;p&gt;Has anyone got experience creating &lt;strong&gt;SQL-based ASP.NET&lt;/strong&gt; site-map providers?&lt;/p&gt;\\n\\n&lt;p&gt;I've got the default XML file &lt;code&gt;web.sitemap&lt;/code&gt; working properly with my Menu and &lt;strong&gt;SiteMapPath&lt;/strong&gt; controls, but I'll need a way for the users of my site to create and modify pages dynamically.&lt;/p&gt;\\n\\n&lt;p&gt;I need to tie page viewing permissions into the standard &lt;code&gt;ASP.NET&lt;/code&gt; membership system as well.&lt;/p&gt;\\n</td>\n",
              "      <td>sql;asp.net;sitemap</td>\n",
              "    </tr>\n",
              "    <tr>\n",
              "      <th>3</th>\n",
              "      <td>Function for creating color wheels</td>\n",
              "      <td>&lt;p&gt;This is something I've pseudo-solved many times and never quite found a solution. That's stuck with me. The problem is to come up with a way to generate &lt;code&gt;N&lt;/code&gt; colors, that are as distinguishable as possible where &lt;code&gt;N&lt;/code&gt; is a parameter.&lt;/p&gt;\\n</td>\n",
              "      <td>algorithm;language-agnostic;colors;color-space</td>\n",
              "    </tr>\n",
              "    <tr>\n",
              "      <th>4</th>\n",
              "      <td>Adding scripting functionality to .NET applications</td>\n",
              "      <td>&lt;p&gt;I have a little game written in C#. It uses a database as back-end. It's \\na &lt;a href=\"http://en.wikipedia.org/wiki/Collectible_card_game\"&gt;trading card game&lt;/a&gt;, and I wanted to implement the function of the cards as a script.&lt;/p&gt;\\n\\n&lt;p&gt;What I mean is that I essentially have an interface, &lt;code&gt;ICard&lt;/code&gt;, which a card class implements (&lt;code&gt;public class Card056 : ICard&lt;/code&gt;) and which contains function that are called by the game.&lt;/p&gt;\\n\\n&lt;p&gt;Now, to make the thing maintainable/moddable, I would like to have the class for each card as source code in the database and essentially compi...</td>\n",
              "      <td>c#;.net;scripting;compiler-construction</td>\n",
              "    </tr>\n",
              "  </tbody>\n",
              "</table>\n",
              "</div>"
            ],
            "text/plain": [
              "                                                        Title  ...                                            Tags\n",
              "0  SQLStatement.execute() - multiple queries in one statement  ...                         flex;actionscript-3;air\n",
              "1       Good branching and merging tutorials for TortoiseSVN?  ...    svn;tortoisesvn;branch;branching-and-merging\n",
              "2                                           ASP.NET Site Maps  ...                             sql;asp.net;sitemap\n",
              "3                          Function for creating color wheels  ...  algorithm;language-agnostic;colors;color-space\n",
              "4         Adding scripting functionality to .NET applications  ...         c#;.net;scripting;compiler-construction\n",
              "\n",
              "[5 rows x 3 columns]"
            ]
          },
          "metadata": {
            "tags": []
          },
          "execution_count": 29
        }
      ]
    },
    {
      "cell_type": "code",
      "metadata": {
        "id": "SQzyX-DGzBNB"
      },
      "source": [
        "df['Tags'] = df['Tags'].apply(lambda x: x.split(tags_delimeter))"
      ],
      "execution_count": null,
      "outputs": []
    },
    {
      "cell_type": "code",
      "metadata": {
        "colab": {
          "base_uri": "https://localhost:8080/",
          "height": 548
        },
        "id": "1k2bwuquzHoZ",
        "outputId": "6eabce68-ee50-4b57-ef17-3421f4a93f21"
      },
      "source": [
        "df.head()"
      ],
      "execution_count": null,
      "outputs": [
        {
          "output_type": "execute_result",
          "data": {
            "text/html": [
              "<div>\n",
              "<style scoped>\n",
              "    .dataframe tbody tr th:only-of-type {\n",
              "        vertical-align: middle;\n",
              "    }\n",
              "\n",
              "    .dataframe tbody tr th {\n",
              "        vertical-align: top;\n",
              "    }\n",
              "\n",
              "    .dataframe thead th {\n",
              "        text-align: right;\n",
              "    }\n",
              "</style>\n",
              "<table border=\"1\" class=\"dataframe\">\n",
              "  <thead>\n",
              "    <tr style=\"text-align: right;\">\n",
              "      <th></th>\n",
              "      <th>Title</th>\n",
              "      <th>Body</th>\n",
              "      <th>Tags</th>\n",
              "    </tr>\n",
              "  </thead>\n",
              "  <tbody>\n",
              "    <tr>\n",
              "      <th>0</th>\n",
              "      <td>SQLStatement.execute() - multiple queries in one statement</td>\n",
              "      <td>&lt;p&gt;I've written a database generation script in &lt;a href=\"http://en.wikipedia.org/wiki/SQL\"&gt;SQL&lt;/a&gt; and want to execute it in my &lt;a href=\"http://en.wikipedia.org/wiki/Adobe_Integrated_Runtime\"&gt;Adobe AIR&lt;/a&gt; application:&lt;/p&gt;\\n\\n&lt;pre&gt;&lt;code&gt;Create Table tRole (\\n      roleID integer Primary Key\\n      ,roleName varchar(40)\\n);\\nCreate Table tFile (\\n    fileID integer Primary Key\\n    ,fileName varchar(50)\\n    ,fileDescription varchar(500)\\n    ,thumbnailID integer\\n    ,fileFormatID integer\\n    ,categoryID integer\\n    ,isFavorite boolean\\n    ,dateAdded date\\n    ,globalAccessCount integer...</td>\n",
              "      <td>[flex, actionscript-3, air]</td>\n",
              "    </tr>\n",
              "    <tr>\n",
              "      <th>1</th>\n",
              "      <td>Good branching and merging tutorials for TortoiseSVN?</td>\n",
              "      <td>&lt;p&gt;Are there any really good tutorials explaining &lt;a href=\"http://svnbook.red-bean.com/en/1.8/svn.branchmerge.html\" rel=\"nofollow\"&gt;branching and merging&lt;/a&gt; with Apache Subversion? &lt;/p&gt;\\n\\n&lt;p&gt;All the better if it's specific to TortoiseSVN client.&lt;/p&gt;\\n</td>\n",
              "      <td>[svn, tortoisesvn, branch, branching-and-merging]</td>\n",
              "    </tr>\n",
              "    <tr>\n",
              "      <th>2</th>\n",
              "      <td>ASP.NET Site Maps</td>\n",
              "      <td>&lt;p&gt;Has anyone got experience creating &lt;strong&gt;SQL-based ASP.NET&lt;/strong&gt; site-map providers?&lt;/p&gt;\\n\\n&lt;p&gt;I've got the default XML file &lt;code&gt;web.sitemap&lt;/code&gt; working properly with my Menu and &lt;strong&gt;SiteMapPath&lt;/strong&gt; controls, but I'll need a way for the users of my site to create and modify pages dynamically.&lt;/p&gt;\\n\\n&lt;p&gt;I need to tie page viewing permissions into the standard &lt;code&gt;ASP.NET&lt;/code&gt; membership system as well.&lt;/p&gt;\\n</td>\n",
              "      <td>[sql, asp.net, sitemap]</td>\n",
              "    </tr>\n",
              "    <tr>\n",
              "      <th>3</th>\n",
              "      <td>Function for creating color wheels</td>\n",
              "      <td>&lt;p&gt;This is something I've pseudo-solved many times and never quite found a solution. That's stuck with me. The problem is to come up with a way to generate &lt;code&gt;N&lt;/code&gt; colors, that are as distinguishable as possible where &lt;code&gt;N&lt;/code&gt; is a parameter.&lt;/p&gt;\\n</td>\n",
              "      <td>[algorithm, language-agnostic, colors, color-space]</td>\n",
              "    </tr>\n",
              "    <tr>\n",
              "      <th>4</th>\n",
              "      <td>Adding scripting functionality to .NET applications</td>\n",
              "      <td>&lt;p&gt;I have a little game written in C#. It uses a database as back-end. It's \\na &lt;a href=\"http://en.wikipedia.org/wiki/Collectible_card_game\"&gt;trading card game&lt;/a&gt;, and I wanted to implement the function of the cards as a script.&lt;/p&gt;\\n\\n&lt;p&gt;What I mean is that I essentially have an interface, &lt;code&gt;ICard&lt;/code&gt;, which a card class implements (&lt;code&gt;public class Card056 : ICard&lt;/code&gt;) and which contains function that are called by the game.&lt;/p&gt;\\n\\n&lt;p&gt;Now, to make the thing maintainable/moddable, I would like to have the class for each card as source code in the database and essentially compi...</td>\n",
              "      <td>[c#, .net, scripting, compiler-construction]</td>\n",
              "    </tr>\n",
              "  </tbody>\n",
              "</table>\n",
              "</div>"
            ],
            "text/plain": [
              "                                                        Title  ...                                                 Tags\n",
              "0  SQLStatement.execute() - multiple queries in one statement  ...                          [flex, actionscript-3, air]\n",
              "1       Good branching and merging tutorials for TortoiseSVN?  ...    [svn, tortoisesvn, branch, branching-and-merging]\n",
              "2                                           ASP.NET Site Maps  ...                              [sql, asp.net, sitemap]\n",
              "3                          Function for creating color wheels  ...  [algorithm, language-agnostic, colors, color-space]\n",
              "4         Adding scripting functionality to .NET applications  ...         [c#, .net, scripting, compiler-construction]\n",
              "\n",
              "[5 rows x 3 columns]"
            ]
          },
          "metadata": {
            "tags": []
          },
          "execution_count": 34
        }
      ]
    },
    {
      "cell_type": "code",
      "metadata": {
        "id": "OuEgqqixzKdR"
      },
      "source": [
        "tags = [item for sublist in df['Tags'].values for item in sublist]"
      ],
      "execution_count": null,
      "outputs": []
    },
    {
      "cell_type": "code",
      "metadata": {
        "colab": {
          "base_uri": "https://localhost:8080/"
        },
        "id": "1pVp0bwNzRLm",
        "outputId": "f683f5ea-b4a4-4d08-9d1b-cd624b5cfe56"
      },
      "source": [
        "len(tags)"
      ],
      "execution_count": null,
      "outputs": [
        {
          "output_type": "execute_result",
          "data": {
            "text/plain": [
              "224129"
            ]
          },
          "metadata": {
            "tags": []
          },
          "execution_count": 36
        }
      ]
    },
    {
      "cell_type": "code",
      "metadata": {
        "colab": {
          "base_uri": "https://localhost:8080/"
        },
        "id": "1nXTXGQCzTuR",
        "outputId": "2eb35fe0-dd7c-45a6-a7a6-c8d79de44e3c"
      },
      "source": [
        "tags_set = set(tags)\r\n",
        "unique_tags = list(tags_set)\r\n",
        "len(unique_tags)"
      ],
      "execution_count": null,
      "outputs": [
        {
          "output_type": "execute_result",
          "data": {
            "text/plain": [
              "14883"
            ]
          },
          "metadata": {
            "tags": []
          },
          "execution_count": 37
        }
      ]
    },
    {
      "cell_type": "code",
      "metadata": {
        "id": "tXH94Rc_zb4M"
      },
      "source": [
        "most_common_number = 60\r\n",
        "flat_list = [item for sublist in df['Tags'].values for item in sublist]\r\n",
        "\r\n",
        "keywords = nltk.FreqDist(flat_list)\r\n",
        "\r\n",
        "keywords = nltk.FreqDist(keywords)\r\n",
        "\r\n",
        "frequencies_words = keywords.most_common(most_common_number)\r\n",
        "tags_features = [word[0] for word in frequencies_words]"
      ],
      "execution_count": null,
      "outputs": []
    },
    {
      "cell_type": "code",
      "metadata": {
        "colab": {
          "base_uri": "https://localhost:8080/"
        },
        "id": "MaWCbFpA0AAH",
        "outputId": "8ba44f58-515e-4f6c-8f50-c2c812ea342a"
      },
      "source": [
        "tags_features"
      ],
      "execution_count": null,
      "outputs": [
        {
          "output_type": "execute_result",
          "data": {
            "text/plain": [
              "['c#',\n",
              " 'java',\n",
              " 'javascript',\n",
              " 'android',\n",
              " 'python',\n",
              " 'c++',\n",
              " 'php',\n",
              " 'jquery',\n",
              " '.net',\n",
              " 'ios',\n",
              " 'html',\n",
              " 'css',\n",
              " 'c',\n",
              " 'iphone',\n",
              " 'objective-c',\n",
              " 'ruby-on-rails',\n",
              " 'sql',\n",
              " 'asp.net',\n",
              " 'mysql',\n",
              " 'ruby',\n",
              " 'r',\n",
              " 'git',\n",
              " 'asp.net-mvc',\n",
              " 'linux',\n",
              " 'sql-server',\n",
              " 'node.js',\n",
              " 'angularjs',\n",
              " 'django',\n",
              " 'performance',\n",
              " 'algorithm',\n",
              " 'string',\n",
              " 'xcode',\n",
              " 'arrays',\n",
              " 'wpf',\n",
              " 'eclipse',\n",
              " 'haskell',\n",
              " 'windows',\n",
              " 'scala',\n",
              " 'multithreading',\n",
              " 'json',\n",
              " 'c++11',\n",
              " 'regex',\n",
              " 'visual-studio',\n",
              " 'html5',\n",
              " 'osx',\n",
              " 'swift',\n",
              " 'database',\n",
              " 'unit-testing',\n",
              " 'spring',\n",
              " 'xml',\n",
              " 'bash',\n",
              " 'ajax',\n",
              " 'delphi',\n",
              " 'cocoa-touch',\n",
              " 'ruby-on-rails-3',\n",
              " 'visual-studio-2010',\n",
              " 'linq',\n",
              " 'debugging',\n",
              " 'generics',\n",
              " 'perl']"
            ]
          },
          "metadata": {
            "tags": []
          },
          "execution_count": 39
        }
      ]
    },
    {
      "cell_type": "code",
      "metadata": {
        "colab": {
          "base_uri": "https://localhost:8080/",
          "height": 688
        },
        "id": "IRSGfuQn0JJS",
        "outputId": "ea46782d-54d2-468f-895e-3d727ce0cf49"
      },
      "source": [
        "fig, ax = plt.subplots(figsize=(15, 10))\r\n",
        "keywords.plot(most_common_number, cumulative=False)"
      ],
      "execution_count": null,
      "outputs": [
        {
          "output_type": "display_data",
          "data": {
            "image/png": "[encoded data removed]",
            "text/plain": [
              "<Figure size 1080x720 with 1 Axes>"
            ]
          },
          "metadata": {
            "tags": [],
            "needs_background": "light"
          }
        }
      ]
    },
    {
      "cell_type": "code",
      "metadata": {
        "id": "8UnXVNRF0XvK"
      },
      "source": [
        "def most_common(tags,tags_to_filter_on):\r\n",
        "    tags_filtered = []\r\n",
        "    for i in range(0, len(tags)):\r\n",
        "        if tags[i] in tags_to_filter_on:\r\n",
        "            tags_filtered.append(tags[i])\r\n",
        "    return tags_filtered"
      ],
      "execution_count": null,
      "outputs": []
    },
    {
      "cell_type": "code",
      "metadata": {
        "id": "mEuTVu6V1I7x"
      },
      "source": [
        "df['Tags'] = df['Tags'].apply(lambda x: most_common(x,tags_features))\r\n",
        "df['Tags'] = df['Tags'].apply(lambda x: x if len(x)>0 else None)"
      ],
      "execution_count": null,
      "outputs": []
    },
    {
      "cell_type": "code",
      "metadata": {
        "colab": {
          "base_uri": "https://localhost:8080/"
        },
        "id": "3iq4_2fM1VQJ",
        "outputId": "eadaef53-3486-47fa-bc28-478796a140fd"
      },
      "source": [
        "df.shape"
      ],
      "execution_count": null,
      "outputs": [
        {
          "output_type": "execute_result",
          "data": {
            "text/plain": [
              "(72950, 3)"
            ]
          },
          "metadata": {
            "tags": []
          },
          "execution_count": 43
        }
      ]
    },
    {
      "cell_type": "code",
      "metadata": {
        "id": "DtF7O-_F1W6f"
      },
      "source": [
        "df.dropna(subset=['Tags'], inplace=True)"
      ],
      "execution_count": null,
      "outputs": []
    },
    {
      "cell_type": "code",
      "metadata": {
        "colab": {
          "base_uri": "https://localhost:8080/"
        },
        "id": "le-34kR31aFV",
        "outputId": "3f07839c-2be0-4aef-8da5-a237d8c654b2"
      },
      "source": [
        "df.shape"
      ],
      "execution_count": null,
      "outputs": [
        {
          "output_type": "execute_result",
          "data": {
            "text/plain": [
              "(60227, 3)"
            ]
          },
          "metadata": {
            "tags": []
          },
          "execution_count": 45
        }
      ]
    },
    {
      "cell_type": "code",
      "metadata": {
        "id": "-v1uO-Xx3ppN"
      },
      "source": [
        "df = df.reset_index()"
      ],
      "execution_count": null,
      "outputs": []
    },
    {
      "cell_type": "code",
      "metadata": {
        "colab": {
          "base_uri": "https://localhost:8080/",
          "height": 464
        },
        "id": "AJ-oIcSj2f-j",
        "outputId": "e96c9a28-3b83-4d2f-88f7-f7df70290fde"
      },
      "source": [
        "df.head()"
      ],
      "execution_count": null,
      "outputs": [
        {
          "output_type": "execute_result",
          "data": {
            "text/html": [
              "<div>\n",
              "<style scoped>\n",
              "    .dataframe tbody tr th:only-of-type {\n",
              "        vertical-align: middle;\n",
              "    }\n",
              "\n",
              "    .dataframe tbody tr th {\n",
              "        vertical-align: top;\n",
              "    }\n",
              "\n",
              "    .dataframe thead th {\n",
              "        text-align: right;\n",
              "    }\n",
              "</style>\n",
              "<table border=\"1\" class=\"dataframe\">\n",
              "  <thead>\n",
              "    <tr style=\"text-align: right;\">\n",
              "      <th></th>\n",
              "      <th>index</th>\n",
              "      <th>Title</th>\n",
              "      <th>Body</th>\n",
              "      <th>Tags</th>\n",
              "    </tr>\n",
              "  </thead>\n",
              "  <tbody>\n",
              "    <tr>\n",
              "      <th>0</th>\n",
              "      <td>2</td>\n",
              "      <td>ASP.NET Site Maps</td>\n",
              "      <td>&lt;p&gt;Has anyone got experience creating &lt;strong&gt;SQL-based ASP.NET&lt;/strong&gt; site-map providers?&lt;/p&gt;\\n\\n&lt;p&gt;I've got the default XML file &lt;code&gt;web.sitemap&lt;/code&gt; working properly with my Menu and &lt;strong&gt;SiteMapPath&lt;/strong&gt; controls, but I'll need a way for the users of my site to create and modify pages dynamically.&lt;/p&gt;\\n\\n&lt;p&gt;I need to tie page viewing permissions into the standard &lt;code&gt;ASP.NET&lt;/code&gt; membership system as well.&lt;/p&gt;\\n</td>\n",
              "      <td>[sql, asp.net]</td>\n",
              "    </tr>\n",
              "    <tr>\n",
              "      <th>1</th>\n",
              "      <td>3</td>\n",
              "      <td>Function for creating color wheels</td>\n",
              "      <td>&lt;p&gt;This is something I've pseudo-solved many times and never quite found a solution. That's stuck with me. The problem is to come up with a way to generate &lt;code&gt;N&lt;/code&gt; colors, that are as distinguishable as possible where &lt;code&gt;N&lt;/code&gt; is a parameter.&lt;/p&gt;\\n</td>\n",
              "      <td>[algorithm]</td>\n",
              "    </tr>\n",
              "    <tr>\n",
              "      <th>2</th>\n",
              "      <td>4</td>\n",
              "      <td>Adding scripting functionality to .NET applications</td>\n",
              "      <td>&lt;p&gt;I have a little game written in C#. It uses a database as back-end. It's \\na &lt;a href=\"http://en.wikipedia.org/wiki/Collectible_card_game\"&gt;trading card game&lt;/a&gt;, and I wanted to implement the function of the cards as a script.&lt;/p&gt;\\n\\n&lt;p&gt;What I mean is that I essentially have an interface, &lt;code&gt;ICard&lt;/code&gt;, which a card class implements (&lt;code&gt;public class Card056 : ICard&lt;/code&gt;) and which contains function that are called by the game.&lt;/p&gt;\\n\\n&lt;p&gt;Now, to make the thing maintainable/moddable, I would like to have the class for each card as source code in the database and essentially compi...</td>\n",
              "      <td>[c#, .net]</td>\n",
              "    </tr>\n",
              "    <tr>\n",
              "      <th>3</th>\n",
              "      <td>5</td>\n",
              "      <td>Should I use nested classes in this case?</td>\n",
              "      <td>&lt;p&gt;I am working on a collection of classes used for video playback and recording. I have one main class which acts like the public interface, with methods like &lt;code&gt;play()&lt;/code&gt;, &lt;code&gt;stop()&lt;/code&gt;, &lt;code&gt;pause()&lt;/code&gt;, &lt;code&gt;record()&lt;/code&gt; etc... Then I have workhorse classes which do the video decoding and video encoding. &lt;/p&gt;\\n\\n&lt;p&gt;I just learned about the existence of nested classes in C++, and I'm curious to know what programmers think about using them. I am a little wary and not really sure what the benefits/drawbacks are, but they seem (according to the book I'm reading) to be ...</td>\n",
              "      <td>[c++]</td>\n",
              "    </tr>\n",
              "    <tr>\n",
              "      <th>4</th>\n",
              "      <td>6</td>\n",
              "      <td>Homegrown consumption of web services</td>\n",
              "      <td>&lt;p&gt;I've been writing a few web services for a .net app, now I'm ready to consume them. I've seen numerous examples where there is homegrown code for consuming the service as opposed to using the auto generated methods Visual Studio creates when adding the web reference. &lt;/p&gt;\\n\\n&lt;p&gt;Is there some advantage to this?&lt;/p&gt;\\n</td>\n",
              "      <td>[.net]</td>\n",
              "    </tr>\n",
              "  </tbody>\n",
              "</table>\n",
              "</div>"
            ],
            "text/plain": [
              "   index  ...            Tags\n",
              "0      2  ...  [sql, asp.net]\n",
              "1      3  ...     [algorithm]\n",
              "2      4  ...      [c#, .net]\n",
              "3      5  ...           [c++]\n",
              "4      6  ...          [.net]\n",
              "\n",
              "[5 rows x 4 columns]"
            ]
          },
          "metadata": {
            "tags": []
          },
          "execution_count": 47
        }
      ]
    },
    {
      "cell_type": "code",
      "metadata": {
        "id": "I38uIAKt1x6S"
      },
      "source": [
        "df.to_csv('Filtered_Data.csv')"
      ],
      "execution_count": null,
      "outputs": []
    },
    {
      "cell_type": "markdown",
      "metadata": {
        "id": "vzkTxPu92GKo"
      },
      "source": [
        "## Cleaning the data"
      ]
    },
    {
      "cell_type": "markdown",
      "metadata": {
        "id": "XcW5xZLc2QXN"
      },
      "source": [
        "Cleaning the data by:\r\n",
        "\r\n",
        "* Removing html format\r\n",
        "* Lowering text\r\n",
        "* Transforming abbreviations\r\n",
        "* Removing punctuation (but keeping words like c# since it's the most popular tag)\r\n",
        "* Lemmatizing words\r\n",
        "* Removing stop words"
      ]
    },
    {
      "cell_type": "code",
      "metadata": {
        "id": "QfQDRAMD2JpX"
      },
      "source": [
        "os.chdir(\"/content/drive/Shareddrives/Datasets/STACKOVERFLOW_V2\")"
      ],
      "execution_count": null,
      "outputs": []
    },
    {
      "cell_type": "code",
      "metadata": {
        "id": "boQP6Bgt2aJE"
      },
      "source": [
        "df = pd.read_csv(\"Filtered_Data.csv\", encoding=\"ISO-8859-1\",index_col=0)"
      ],
      "execution_count": null,
      "outputs": []
    },
    {
      "cell_type": "code",
      "metadata": {
        "colab": {
          "base_uri": "https://localhost:8080/",
          "height": 464
        },
        "id": "eqYw6A-_2qMM",
        "outputId": "6422608a-2670-4af8-c71c-803dfbd44695"
      },
      "source": [
        "df.head()"
      ],
      "execution_count": null,
      "outputs": [
        {
          "output_type": "execute_result",
          "data": {
            "text/html": [
              "<div>\n",
              "<style scoped>\n",
              "    .dataframe tbody tr th:only-of-type {\n",
              "        vertical-align: middle;\n",
              "    }\n",
              "\n",
              "    .dataframe tbody tr th {\n",
              "        vertical-align: top;\n",
              "    }\n",
              "\n",
              "    .dataframe thead th {\n",
              "        text-align: right;\n",
              "    }\n",
              "</style>\n",
              "<table border=\"1\" class=\"dataframe\">\n",
              "  <thead>\n",
              "    <tr style=\"text-align: right;\">\n",
              "      <th></th>\n",
              "      <th>index</th>\n",
              "      <th>Title</th>\n",
              "      <th>Body</th>\n",
              "      <th>Tags</th>\n",
              "    </tr>\n",
              "  </thead>\n",
              "  <tbody>\n",
              "    <tr>\n",
              "      <th>0</th>\n",
              "      <td>2</td>\n",
              "      <td>ASP.NET Site Maps</td>\n",
              "      <td>&lt;p&gt;Has anyone got experience creating &lt;strong&gt;SQL-based ASP.NET&lt;/strong&gt; site-map providers?&lt;/p&gt;\\n\\n&lt;p&gt;I've got the default XML file &lt;code&gt;web.sitemap&lt;/code&gt; working properly with my Menu and &lt;strong&gt;SiteMapPath&lt;/strong&gt; controls, but I'll need a way for the users of my site to create and modify pages dynamically.&lt;/p&gt;\\n\\n&lt;p&gt;I need to tie page viewing permissions into the standard &lt;code&gt;ASP.NET&lt;/code&gt; membership system as well.&lt;/p&gt;\\n</td>\n",
              "      <td>['sql', 'asp.net']</td>\n",
              "    </tr>\n",
              "    <tr>\n",
              "      <th>1</th>\n",
              "      <td>3</td>\n",
              "      <td>Function for creating color wheels</td>\n",
              "      <td>&lt;p&gt;This is something I've pseudo-solved many times and never quite found a solution. That's stuck with me. The problem is to come up with a way to generate &lt;code&gt;N&lt;/code&gt; colors, that are as distinguishable as possible where &lt;code&gt;N&lt;/code&gt; is a parameter.&lt;/p&gt;\\n</td>\n",
              "      <td>['algorithm']</td>\n",
              "    </tr>\n",
              "    <tr>\n",
              "      <th>2</th>\n",
              "      <td>4</td>\n",
              "      <td>Adding scripting functionality to .NET applications</td>\n",
              "      <td>&lt;p&gt;I have a little game written in C#. It uses a database as back-end. It's \\na &lt;a href=\"http://en.wikipedia.org/wiki/Collectible_card_game\"&gt;trading card game&lt;/a&gt;, and I wanted to implement the function of the cards as a script.&lt;/p&gt;\\n\\n&lt;p&gt;What I mean is that I essentially have an interface, &lt;code&gt;ICard&lt;/code&gt;, which a card class implements (&lt;code&gt;public class Card056 : ICard&lt;/code&gt;) and which contains function that are called by the game.&lt;/p&gt;\\n\\n&lt;p&gt;Now, to make the thing maintainable/moddable, I would like to have the class for each card as source code in the database and essentially compi...</td>\n",
              "      <td>['c#', '.net']</td>\n",
              "    </tr>\n",
              "    <tr>\n",
              "      <th>3</th>\n",
              "      <td>5</td>\n",
              "      <td>Should I use nested classes in this case?</td>\n",
              "      <td>&lt;p&gt;I am working on a collection of classes used for video playback and recording. I have one main class which acts like the public interface, with methods like &lt;code&gt;play()&lt;/code&gt;, &lt;code&gt;stop()&lt;/code&gt;, &lt;code&gt;pause()&lt;/code&gt;, &lt;code&gt;record()&lt;/code&gt; etc... Then I have workhorse classes which do the video decoding and video encoding. &lt;/p&gt;\\n\\n&lt;p&gt;I just learned about the existence of nested classes in C++, and I'm curious to know what programmers think about using them. I am a little wary and not really sure what the benefits/drawbacks are, but they seem (according to the book I'm reading) to be ...</td>\n",
              "      <td>['c++']</td>\n",
              "    </tr>\n",
              "    <tr>\n",
              "      <th>4</th>\n",
              "      <td>6</td>\n",
              "      <td>Homegrown consumption of web services</td>\n",
              "      <td>&lt;p&gt;I've been writing a few web services for a .net app, now I'm ready to consume them. I've seen numerous examples where there is homegrown code for consuming the service as opposed to using the auto generated methods Visual Studio creates when adding the web reference. &lt;/p&gt;\\n\\n&lt;p&gt;Is there some advantage to this?&lt;/p&gt;\\n</td>\n",
              "      <td>['.net']</td>\n",
              "    </tr>\n",
              "  </tbody>\n",
              "</table>\n",
              "</div>"
            ],
            "text/plain": [
              "   index  ...                Tags\n",
              "0      2  ...  ['sql', 'asp.net']\n",
              "1      3  ...       ['algorithm']\n",
              "2      4  ...      ['c#', '.net']\n",
              "3      5  ...             ['c++']\n",
              "4      6  ...            ['.net']\n",
              "\n",
              "[5 rows x 4 columns]"
            ]
          },
          "metadata": {
            "tags": []
          },
          "execution_count": 65
        }
      ]
    },
    {
      "cell_type": "code",
      "metadata": {
        "id": "7hsNWclM3yE2"
      },
      "source": [
        "df['Body'] = df['Body'].apply(lambda x: BeautifulSoup(x).get_text()) "
      ],
      "execution_count": null,
      "outputs": []
    },
    {
      "cell_type": "code",
      "metadata": {
        "colab": {
          "base_uri": "https://localhost:8080/",
          "height": 447
        },
        "id": "wPGiDlFt0KHC",
        "outputId": "4de5a160-fddb-4288-e896-0bdfd840ee31"
      },
      "source": [
        "df.head()"
      ],
      "execution_count": null,
      "outputs": [
        {
          "output_type": "execute_result",
          "data": {
            "text/html": [
              "<div>\n",
              "<style scoped>\n",
              "    .dataframe tbody tr th:only-of-type {\n",
              "        vertical-align: middle;\n",
              "    }\n",
              "\n",
              "    .dataframe tbody tr th {\n",
              "        vertical-align: top;\n",
              "    }\n",
              "\n",
              "    .dataframe thead th {\n",
              "        text-align: right;\n",
              "    }\n",
              "</style>\n",
              "<table border=\"1\" class=\"dataframe\">\n",
              "  <thead>\n",
              "    <tr style=\"text-align: right;\">\n",
              "      <th></th>\n",
              "      <th>index</th>\n",
              "      <th>Title</th>\n",
              "      <th>Body</th>\n",
              "      <th>Tags</th>\n",
              "    </tr>\n",
              "  </thead>\n",
              "  <tbody>\n",
              "    <tr>\n",
              "      <th>0</th>\n",
              "      <td>2</td>\n",
              "      <td>ASP.NET Site Maps</td>\n",
              "      <td>Has anyone got experience creating SQL-based ASP.NET site-map providers?\\nI've got the default XML file web.sitemap working properly with my Menu and SiteMapPath controls, but I'll need a way for the users of my site to create and modify pages dynamically.\\nI need to tie page viewing permissions into the standard ASP.NET membership system as well.\\n</td>\n",
              "      <td>['sql', 'asp.net']</td>\n",
              "    </tr>\n",
              "    <tr>\n",
              "      <th>1</th>\n",
              "      <td>3</td>\n",
              "      <td>Function for creating color wheels</td>\n",
              "      <td>This is something I've pseudo-solved many times and never quite found a solution. That's stuck with me. The problem is to come up with a way to generate N colors, that are as distinguishable as possible where N is a parameter.\\n</td>\n",
              "      <td>['algorithm']</td>\n",
              "    </tr>\n",
              "    <tr>\n",
              "      <th>2</th>\n",
              "      <td>4</td>\n",
              "      <td>Adding scripting functionality to .NET applications</td>\n",
              "      <td>I have a little game written in C#. It uses a database as back-end. It's \\na trading card game, and I wanted to implement the function of the cards as a script.\\nWhat I mean is that I essentially have an interface, ICard, which a card class implements (public class Card056 : ICard) and which contains function that are called by the game.\\nNow, to make the thing maintainable/moddable, I would like to have the class for each card as source code in the database and essentially compile it on first use. So when I have to add/change a card, I'll just add it to the database and tell my applicatio...</td>\n",
              "      <td>['c#', '.net']</td>\n",
              "    </tr>\n",
              "    <tr>\n",
              "      <th>3</th>\n",
              "      <td>5</td>\n",
              "      <td>Should I use nested classes in this case?</td>\n",
              "      <td>I am working on a collection of classes used for video playback and recording. I have one main class which acts like the public interface, with methods like play(), stop(), pause(), record() etc... Then I have workhorse classes which do the video decoding and video encoding. \\nI just learned about the existence of nested classes in C++, and I'm curious to know what programmers think about using them. I am a little wary and not really sure what the benefits/drawbacks are, but they seem (according to the book I'm reading) to be used in cases such as mine.\\nThe book suggests that in a scenari...</td>\n",
              "      <td>['c++']</td>\n",
              "    </tr>\n",
              "    <tr>\n",
              "      <th>4</th>\n",
              "      <td>6</td>\n",
              "      <td>Homegrown consumption of web services</td>\n",
              "      <td>I've been writing a few web services for a .net app, now I'm ready to consume them. I've seen numerous examples where there is homegrown code for consuming the service as opposed to using the auto generated methods Visual Studio creates when adding the web reference. \\nIs there some advantage to this?\\n</td>\n",
              "      <td>['.net']</td>\n",
              "    </tr>\n",
              "  </tbody>\n",
              "</table>\n",
              "</div>"
            ],
            "text/plain": [
              "   index  ...                Tags\n",
              "0      2  ...  ['sql', 'asp.net']\n",
              "1      3  ...       ['algorithm']\n",
              "2      4  ...      ['c#', '.net']\n",
              "3      5  ...             ['c++']\n",
              "4      6  ...            ['.net']\n",
              "\n",
              "[5 rows x 4 columns]"
            ]
          },
          "metadata": {
            "tags": []
          },
          "execution_count": 67
        }
      ]
    },
    {
      "cell_type": "code",
      "metadata": {
        "id": "eamnKlxj1AGM"
      },
      "source": [
        "def clean_text(text):\r\n",
        "    text = text.lower()\r\n",
        "    text = re.sub(r\"what's\", \"what is \", text)\r\n",
        "    text = re.sub(r\"\\'s\", \" \", text)\r\n",
        "    text = re.sub(r\"\\'ve\", \" have \", text)\r\n",
        "    text = re.sub(r\"can't\", \"can not \", text)\r\n",
        "    text = re.sub(r\"n't\", \" not \", text)\r\n",
        "    text = re.sub(r\"i'm\", \"i am \", text)\r\n",
        "    text = re.sub(r\"\\'re\", \" are \", text)\r\n",
        "    text = re.sub(r\"\\'d\", \" would \", text)\r\n",
        "    text = re.sub(r\"\\'ll\", \" will \", text)\r\n",
        "    text = re.sub(r\"\\'scuse\", \" excuse \", text)\r\n",
        "    text = re.sub(r\"\\'\\n\", \" \", text)\r\n",
        "    text = re.sub(r\"\\'\\xa0\", \" \", text)\r\n",
        "    text = re.sub('\\s+', ' ', text)\r\n",
        "    text = text.strip(' ')\r\n",
        "    return text"
      ],
      "execution_count": null,
      "outputs": []
    },
    {
      "cell_type": "code",
      "metadata": {
        "id": "vhHivwXS1BBk"
      },
      "source": [
        "df['Body'] = df['Body'].apply(lambda x: clean_text(x)) "
      ],
      "execution_count": null,
      "outputs": []
    },
    {
      "cell_type": "code",
      "metadata": {
        "colab": {
          "base_uri": "https://localhost:8080/",
          "height": 447
        },
        "id": "F9yDIkK41EJR",
        "outputId": "47a7502b-da0c-47f9-9c3d-791b2e59e6f8"
      },
      "source": [
        "df.head()"
      ],
      "execution_count": null,
      "outputs": [
        {
          "output_type": "execute_result",
          "data": {
            "text/html": [
              "<div>\n",
              "<style scoped>\n",
              "    .dataframe tbody tr th:only-of-type {\n",
              "        vertical-align: middle;\n",
              "    }\n",
              "\n",
              "    .dataframe tbody tr th {\n",
              "        vertical-align: top;\n",
              "    }\n",
              "\n",
              "    .dataframe thead th {\n",
              "        text-align: right;\n",
              "    }\n",
              "</style>\n",
              "<table border=\"1\" class=\"dataframe\">\n",
              "  <thead>\n",
              "    <tr style=\"text-align: right;\">\n",
              "      <th></th>\n",
              "      <th>index</th>\n",
              "      <th>Title</th>\n",
              "      <th>Body</th>\n",
              "      <th>Tags</th>\n",
              "    </tr>\n",
              "  </thead>\n",
              "  <tbody>\n",
              "    <tr>\n",
              "      <th>0</th>\n",
              "      <td>2</td>\n",
              "      <td>ASP.NET Site Maps</td>\n",
              "      <td>has anyone got experience creating sql-based asp.net site-map providers? i have got the default xml file web.sitemap working properly with my menu and sitemappath controls, but i will need a way for the users of my site to create and modify pages dynamically. i need to tie page viewing permissions into the standard asp.net membership system as well.</td>\n",
              "      <td>['sql', 'asp.net']</td>\n",
              "    </tr>\n",
              "    <tr>\n",
              "      <th>1</th>\n",
              "      <td>3</td>\n",
              "      <td>Function for creating color wheels</td>\n",
              "      <td>this is something i have pseudo-solved many times and never quite found a solution. that stuck with me. the problem is to come up with a way to generate n colors, that are as distinguishable as possible where n is a parameter.</td>\n",
              "      <td>['algorithm']</td>\n",
              "    </tr>\n",
              "    <tr>\n",
              "      <th>2</th>\n",
              "      <td>4</td>\n",
              "      <td>Adding scripting functionality to .NET applications</td>\n",
              "      <td>i have a little game written in c#. it uses a database as back-end. it a trading card game, and i wanted to implement the function of the cards as a script. what i mean is that i essentially have an interface, icard, which a card class implements (public class card056 : icard) and which contains function that are called by the game. now, to make the thing maintainable/moddable, i would like to have the class for each card as source code in the database and essentially compile it on first use. so when i have to add/change a card, i will just add it to the database and tell my application to...</td>\n",
              "      <td>['c#', '.net']</td>\n",
              "    </tr>\n",
              "    <tr>\n",
              "      <th>3</th>\n",
              "      <td>5</td>\n",
              "      <td>Should I use nested classes in this case?</td>\n",
              "      <td>i am working on a collection of classes used for video playback and recording. i have one main class which acts like the public interface, with methods like play(), stop(), pause(), record() etc... then i have workhorse classes which do the video decoding and video encoding. i just learned about the existence of nested classes in c++, and i am curious to know what programmers think about using them. i am a little wary and not really sure what the benefits/drawbacks are, but they seem (according to the book i am reading) to be used in cases such as mine. the book suggests that in a scenario...</td>\n",
              "      <td>['c++']</td>\n",
              "    </tr>\n",
              "    <tr>\n",
              "      <th>4</th>\n",
              "      <td>6</td>\n",
              "      <td>Homegrown consumption of web services</td>\n",
              "      <td>i have been writing a few web services for a .net app, now i am ready to consume them. i have seen numerous examples where there is homegrown code for consuming the service as opposed to using the auto generated methods visual studio creates when adding the web reference. is there some advantage to this?</td>\n",
              "      <td>['.net']</td>\n",
              "    </tr>\n",
              "  </tbody>\n",
              "</table>\n",
              "</div>"
            ],
            "text/plain": [
              "   index  ...                Tags\n",
              "0      2  ...  ['sql', 'asp.net']\n",
              "1      3  ...       ['algorithm']\n",
              "2      4  ...      ['c#', '.net']\n",
              "3      5  ...             ['c++']\n",
              "4      6  ...            ['.net']\n",
              "\n",
              "[5 rows x 4 columns]"
            ]
          },
          "metadata": {
            "tags": []
          },
          "execution_count": 70
        }
      ]
    },
    {
      "cell_type": "code",
      "metadata": {
        "id": "yGOtu24M1P3A"
      },
      "source": [
        "token=ToktokTokenizer()"
      ],
      "execution_count": null,
      "outputs": []
    },
    {
      "cell_type": "code",
      "metadata": {
        "id": "MMFJtaF41wT9"
      },
      "source": [
        "def strip_list_noempty(mylist):\r\n",
        "    newlist = (item.strip() if hasattr(item, 'strip') else item for item in mylist)\r\n",
        "    return [item for item in newlist if item != '']"
      ],
      "execution_count": null,
      "outputs": []
    },
    {
      "cell_type": "code",
      "metadata": {
        "id": "3YvwSg9q1wxr"
      },
      "source": [
        "def clean_punct(text):\r\n",
        "    punct = '!\"$%&\\'()*+,./:;<=>?@[\\\\]^_`{|}~'\r\n",
        "    words=token.tokenize(text)\r\n",
        "    punctuation_filtered = []\r\n",
        "    regex = re.compile('[%s]' % re.escape(punct))\r\n",
        "    remove_punctuation = str.maketrans(' ', ' ', punct)\r\n",
        "    for w in words:\r\n",
        "        if w in tags_features:\r\n",
        "            punctuation_filtered.append(w)\r\n",
        "        else:\r\n",
        "            punctuation_filtered.append(regex.sub('', w))\r\n",
        "  \r\n",
        "    filtered_list = strip_list_noempty(punctuation_filtered)\r\n",
        "        \r\n",
        "    return ' '.join(map(str, filtered_list))"
      ],
      "execution_count": null,
      "outputs": []
    },
    {
      "cell_type": "code",
      "metadata": {
        "id": "CY2KmQUV134R"
      },
      "source": [
        "df['Body'] = df['Body'].apply(lambda x: clean_punct(x)) "
      ],
      "execution_count": null,
      "outputs": []
    },
    {
      "cell_type": "code",
      "metadata": {
        "colab": {
          "base_uri": "https://localhost:8080/",
          "height": 447
        },
        "id": "2o6iDUkU16Fw",
        "outputId": "9e0b0a8e-0cb6-44f3-d93f-37abcfbad873"
      },
      "source": [
        "df.head()"
      ],
      "execution_count": null,
      "outputs": [
        {
          "output_type": "execute_result",
          "data": {
            "text/html": [
              "<div>\n",
              "<style scoped>\n",
              "    .dataframe tbody tr th:only-of-type {\n",
              "        vertical-align: middle;\n",
              "    }\n",
              "\n",
              "    .dataframe tbody tr th {\n",
              "        vertical-align: top;\n",
              "    }\n",
              "\n",
              "    .dataframe thead th {\n",
              "        text-align: right;\n",
              "    }\n",
              "</style>\n",
              "<table border=\"1\" class=\"dataframe\">\n",
              "  <thead>\n",
              "    <tr style=\"text-align: right;\">\n",
              "      <th></th>\n",
              "      <th>index</th>\n",
              "      <th>Title</th>\n",
              "      <th>Body</th>\n",
              "      <th>Tags</th>\n",
              "    </tr>\n",
              "  </thead>\n",
              "  <tbody>\n",
              "    <tr>\n",
              "      <th>0</th>\n",
              "      <td>2</td>\n",
              "      <td>ASP.NET Site Maps</td>\n",
              "      <td>has anyone got experience creating sql-based asp.net site-map providers i have got the default xml file websitemap working properly with my menu and sitemappath controls but i will need a way for the users of my site to create and modify pages dynamically i need to tie page viewing permissions into the standard asp.net membership system as well</td>\n",
              "      <td>['sql', 'asp.net']</td>\n",
              "    </tr>\n",
              "    <tr>\n",
              "      <th>1</th>\n",
              "      <td>3</td>\n",
              "      <td>Function for creating color wheels</td>\n",
              "      <td>this is something i have pseudo-solved many times and never quite found a solution that stuck with me the problem is to come up with a way to generate n colors that are as distinguishable as possible where n is a parameter</td>\n",
              "      <td>['algorithm']</td>\n",
              "    </tr>\n",
              "    <tr>\n",
              "      <th>2</th>\n",
              "      <td>4</td>\n",
              "      <td>Adding scripting functionality to .NET applications</td>\n",
              "      <td>i have a little game written in c# it uses a database as back-end it a trading card game and i wanted to implement the function of the cards as a script what i mean is that i essentially have an interface icard which a card class implements public class card056 icard and which contains function that are called by the game now to make the thing maintainablemoddable i would like to have the class for each card as source code in the database and essentially compile it on first use so when i have to addchange a card i will just add it to the database and tell my application to refresh without ...</td>\n",
              "      <td>['c#', '.net']</td>\n",
              "    </tr>\n",
              "    <tr>\n",
              "      <th>3</th>\n",
              "      <td>5</td>\n",
              "      <td>Should I use nested classes in this case?</td>\n",
              "      <td>i am working on a collection of classes used for video playback and recording i have one main class which acts like the public interface with methods like play stop pause record etc then i have workhorse classes which do the video decoding and video encoding i just learned about the existence of nested classes in c++ and i am curious to know what programmers think about using them i am a little wary and not really sure what the benefitsdrawbacks are but they seem according to the book i am reading to be used in cases such as mine the book suggests that in a scenario like mine a good soluti...</td>\n",
              "      <td>['c++']</td>\n",
              "    </tr>\n",
              "    <tr>\n",
              "      <th>4</th>\n",
              "      <td>6</td>\n",
              "      <td>Homegrown consumption of web services</td>\n",
              "      <td>i have been writing a few web services for a .net app now i am ready to consume them i have seen numerous examples where there is homegrown code for consuming the service as opposed to using the auto generated methods visual studio creates when adding the web reference is there some advantage to this</td>\n",
              "      <td>['.net']</td>\n",
              "    </tr>\n",
              "  </tbody>\n",
              "</table>\n",
              "</div>"
            ],
            "text/plain": [
              "   index  ...                Tags\n",
              "0      2  ...  ['sql', 'asp.net']\n",
              "1      3  ...       ['algorithm']\n",
              "2      4  ...      ['c#', '.net']\n",
              "3      5  ...             ['c++']\n",
              "4      6  ...            ['.net']\n",
              "\n",
              "[5 rows x 4 columns]"
            ]
          },
          "metadata": {
            "tags": []
          },
          "execution_count": 75
        }
      ]
    },
    {
      "cell_type": "code",
      "metadata": {
        "id": "FVbQOhuS2vkz"
      },
      "source": [
        "lemma=WordNetLemmatizer()\r\n",
        "stop_words = set(stopwords.words(\"english\"))"
      ],
      "execution_count": null,
      "outputs": []
    },
    {
      "cell_type": "code",
      "metadata": {
        "id": "SAcd9I3P3vu6"
      },
      "source": [
        "def lemitizeWords(text):\r\n",
        "    words=token.tokenize(text)\r\n",
        "    listLemma=[]\r\n",
        "    for w in words:\r\n",
        "        x=lemma.lemmatize(w, pos=\"v\")\r\n",
        "        listLemma.append(x)\r\n",
        "    return ' '.join(map(str, listLemma))"
      ],
      "execution_count": null,
      "outputs": []
    },
    {
      "cell_type": "code",
      "metadata": {
        "id": "OE-MTynZ3xnB"
      },
      "source": [
        "def stopWordsRemove(text):\r\n",
        "    stop_words = set(stopwords.words(\"english\"))\r\n",
        "    words=token.tokenize(text)\r\n",
        "    filtered = [w for w in words if not w in stop_words]\r\n",
        "    return ' '.join(map(str, filtered))"
      ],
      "execution_count": null,
      "outputs": []
    },
    {
      "cell_type": "code",
      "metadata": {
        "id": "o4tDC6IL31F-"
      },
      "source": [
        "df['Body'] = df['Body'].apply(lambda x: lemitizeWords(x)) \r\n",
        "df['Body'] = df['Body'].apply(lambda x: stopWordsRemove(x)) "
      ],
      "execution_count": null,
      "outputs": []
    },
    {
      "cell_type": "code",
      "metadata": {
        "colab": {
          "base_uri": "https://localhost:8080/",
          "height": 430
        },
        "id": "gDRcYE6Z4AXL",
        "outputId": "82dd6a0b-35b4-42cc-d395-4023bac1bb43"
      },
      "source": [
        "df.head()"
      ],
      "execution_count": null,
      "outputs": [
        {
          "output_type": "execute_result",
          "data": {
            "text/html": [
              "<div>\n",
              "<style scoped>\n",
              "    .dataframe tbody tr th:only-of-type {\n",
              "        vertical-align: middle;\n",
              "    }\n",
              "\n",
              "    .dataframe tbody tr th {\n",
              "        vertical-align: top;\n",
              "    }\n",
              "\n",
              "    .dataframe thead th {\n",
              "        text-align: right;\n",
              "    }\n",
              "</style>\n",
              "<table border=\"1\" class=\"dataframe\">\n",
              "  <thead>\n",
              "    <tr style=\"text-align: right;\">\n",
              "      <th></th>\n",
              "      <th>index</th>\n",
              "      <th>Title</th>\n",
              "      <th>Body</th>\n",
              "      <th>Tags</th>\n",
              "    </tr>\n",
              "  </thead>\n",
              "  <tbody>\n",
              "    <tr>\n",
              "      <th>0</th>\n",
              "      <td>2</td>\n",
              "      <td>ASP.NET Site Maps</td>\n",
              "      <td>anyone get experience create sql-based asp.net site-map providers get default xml file websitemap work properly menu sitemappath control need way users site create modify page dynamically need tie page view permissions standard asp.net membership system well</td>\n",
              "      <td>['sql', 'asp.net']</td>\n",
              "    </tr>\n",
              "    <tr>\n",
              "      <th>1</th>\n",
              "      <td>3</td>\n",
              "      <td>Function for creating color wheels</td>\n",
              "      <td>something pseudo-solved many time never quite find solution stick problem come way generate n color distinguishable possible n parameter</td>\n",
              "      <td>['algorithm']</td>\n",
              "    </tr>\n",
              "    <tr>\n",
              "      <th>2</th>\n",
              "      <td>4</td>\n",
              "      <td>Adding scripting functionality to .NET applications</td>\n",
              "      <td>little game write c# use database back-end trade card game want implement function card script mean essentially interface icard card class implement public class card056 icard contain function call game make thing maintainablemoddable would like class card source code database essentially compile first use addchange card add database tell application refresh without need assembly deployment especially since would talk 1 assembly per card mean hundreds assemblies possible register class source file instantiate etc icard card current new mygamecardlibrarycard056 card current onenterplay ref ...</td>\n",
              "      <td>['c#', '.net']</td>\n",
              "    </tr>\n",
              "    <tr>\n",
              "      <th>3</th>\n",
              "      <td>5</td>\n",
              "      <td>Should I use nested classes in this case?</td>\n",
              "      <td>work collection class use video playback record one main class act like public interface methods like play stop pause record etc workhorse class video decode video encode learn existence nest class c++ curious know programmers think use little wary really sure benefitsdrawbacks seem accord book read use case mine book suggest scenario like mine good solution would nest workhorse class inside interface class separate file class client mean use avoid possible name conflict know justifications nest class new concept want see programmers think issue</td>\n",
              "      <td>['c++']</td>\n",
              "    </tr>\n",
              "    <tr>\n",
              "      <th>4</th>\n",
              "      <td>6</td>\n",
              "      <td>Homegrown consumption of web services</td>\n",
              "      <td>write web service .net app ready consume see numerous examples homegrown code consume service oppose use auto generate methods visual studio create add web reference advantage</td>\n",
              "      <td>['.net']</td>\n",
              "    </tr>\n",
              "  </tbody>\n",
              "</table>\n",
              "</div>"
            ],
            "text/plain": [
              "   index  ...                Tags\n",
              "0      2  ...  ['sql', 'asp.net']\n",
              "1      3  ...       ['algorithm']\n",
              "2      4  ...      ['c#', '.net']\n",
              "3      5  ...             ['c++']\n",
              "4      6  ...            ['.net']\n",
              "\n",
              "[5 rows x 4 columns]"
            ]
          },
          "metadata": {
            "tags": []
          },
          "execution_count": 88
        }
      ]
    },
    {
      "cell_type": "code",
      "metadata": {
        "id": "UdlHTD-74Bhm"
      },
      "source": [
        "df['Title'] = df['Title'].apply(lambda x: str(x))\r\n",
        "df['Title'] = df['Title'].apply(lambda x: clean_text(x)) \r\n",
        "df['Title'] = df['Title'].apply(lambda x: clean_punct(x)) \r\n",
        "df['Title'] = df['Title'].apply(lambda x: lemitizeWords(x)) \r\n",
        "df['Title'] = df['Title'].apply(lambda x: stopWordsRemove(x)) "
      ],
      "execution_count": null,
      "outputs": []
    },
    {
      "cell_type": "code",
      "metadata": {
        "colab": {
          "base_uri": "https://localhost:8080/",
          "height": 414
        },
        "id": "lYfTWR0N4FEH",
        "outputId": "e9b01381-c74b-4d1f-833e-2faca098fbe6"
      },
      "source": [
        "df.head()"
      ],
      "execution_count": null,
      "outputs": [
        {
          "output_type": "execute_result",
          "data": {
            "text/html": [
              "<div>\n",
              "<style scoped>\n",
              "    .dataframe tbody tr th:only-of-type {\n",
              "        vertical-align: middle;\n",
              "    }\n",
              "\n",
              "    .dataframe tbody tr th {\n",
              "        vertical-align: top;\n",
              "    }\n",
              "\n",
              "    .dataframe thead th {\n",
              "        text-align: right;\n",
              "    }\n",
              "</style>\n",
              "<table border=\"1\" class=\"dataframe\">\n",
              "  <thead>\n",
              "    <tr style=\"text-align: right;\">\n",
              "      <th></th>\n",
              "      <th>index</th>\n",
              "      <th>Title</th>\n",
              "      <th>Body</th>\n",
              "      <th>Tags</th>\n",
              "    </tr>\n",
              "  </thead>\n",
              "  <tbody>\n",
              "    <tr>\n",
              "      <th>0</th>\n",
              "      <td>2</td>\n",
              "      <td>asp.net site map</td>\n",
              "      <td>anyone get experience create sql-based asp.net site-map providers get default xml file websitemap work properly menu sitemappath control need way users site create modify page dynamically need tie page view permissions standard asp.net membership system well</td>\n",
              "      <td>['sql', 'asp.net']</td>\n",
              "    </tr>\n",
              "    <tr>\n",
              "      <th>1</th>\n",
              "      <td>3</td>\n",
              "      <td>function create color wheel</td>\n",
              "      <td>something pseudo-solved many time never quite find solution stick problem come way generate n color distinguishable possible n parameter</td>\n",
              "      <td>['algorithm']</td>\n",
              "    </tr>\n",
              "    <tr>\n",
              "      <th>2</th>\n",
              "      <td>4</td>\n",
              "      <td>add script functionality .net applications</td>\n",
              "      <td>little game write c# use database back-end trade card game want implement function card script mean essentially interface icard card class implement public class card056 icard contain function call game make thing maintainablemoddable would like class card source code database essentially compile first use addchange card add database tell application refresh without need assembly deployment especially since would talk 1 assembly per card mean hundreds assemblies possible register class source file instantiate etc icard card current new mygamecardlibrarycard056 card current onenterplay ref ...</td>\n",
              "      <td>['c#', '.net']</td>\n",
              "    </tr>\n",
              "    <tr>\n",
              "      <th>3</th>\n",
              "      <td>5</td>\n",
              "      <td>use nest class case</td>\n",
              "      <td>work collection class use video playback record one main class act like public interface methods like play stop pause record etc workhorse class video decode video encode learn existence nest class c++ curious know programmers think use little wary really sure benefitsdrawbacks seem accord book read use case mine book suggest scenario like mine good solution would nest workhorse class inside interface class separate file class client mean use avoid possible name conflict know justifications nest class new concept want see programmers think issue</td>\n",
              "      <td>['c++']</td>\n",
              "    </tr>\n",
              "    <tr>\n",
              "      <th>4</th>\n",
              "      <td>6</td>\n",
              "      <td>homegrown consumption web service</td>\n",
              "      <td>write web service .net app ready consume see numerous examples homegrown code consume service oppose use auto generate methods visual studio create add web reference advantage</td>\n",
              "      <td>['.net']</td>\n",
              "    </tr>\n",
              "  </tbody>\n",
              "</table>\n",
              "</div>"
            ],
            "text/plain": [
              "   index  ...                Tags\n",
              "0      2  ...  ['sql', 'asp.net']\n",
              "1      3  ...       ['algorithm']\n",
              "2      4  ...      ['c#', '.net']\n",
              "3      5  ...             ['c++']\n",
              "4      6  ...            ['.net']\n",
              "\n",
              "[5 rows x 4 columns]"
            ]
          },
          "metadata": {
            "tags": []
          },
          "execution_count": 90
        }
      ]
    },
    {
      "cell_type": "code",
      "metadata": {
        "id": "wV6eZIkE4F7u"
      },
      "source": [
        "df.to_csv('Cleaned_Data.csv')"
      ],
      "execution_count": null,
      "outputs": []
    },
    {
      "cell_type": "markdown",
      "metadata": {
        "id": "JuDRwKYD4d-_"
      },
      "source": [
        "#Model"
      ]
    },
    {
      "cell_type": "markdown",
      "metadata": {
        "id": "U7cTCO5hLYlr"
      },
      "source": [
        "##Preparing `Model_Data.csv` to use it in the model"
      ]
    },
    {
      "cell_type": "code",
      "metadata": {
        "id": "cFj95_hc4fSq"
      },
      "source": [
        "os.chdir(\"/content/drive/Shareddrives/Datasets/STACKOVERFLOW_V2\")"
      ],
      "execution_count": null,
      "outputs": []
    },
    {
      "cell_type": "code",
      "metadata": {
        "id": "mZ_pQndb4pGL"
      },
      "source": [
        "df = pd.read_csv(\"Cleaned_Data.csv\", encoding=\"ISO-8859-1\",index_col=0)"
      ],
      "execution_count": null,
      "outputs": []
    },
    {
      "cell_type": "code",
      "metadata": {
        "colab": {
          "base_uri": "https://localhost:8080/",
          "height": 414
        },
        "id": "qA6LK4Xx4q8N",
        "outputId": "23538e0b-cc63-40b8-91c6-760a72103f87"
      },
      "source": [
        "df.head()"
      ],
      "execution_count": null,
      "outputs": [
        {
          "output_type": "execute_result",
          "data": {
            "text/html": [
              "<div>\n",
              "<style scoped>\n",
              "    .dataframe tbody tr th:only-of-type {\n",
              "        vertical-align: middle;\n",
              "    }\n",
              "\n",
              "    .dataframe tbody tr th {\n",
              "        vertical-align: top;\n",
              "    }\n",
              "\n",
              "    .dataframe thead th {\n",
              "        text-align: right;\n",
              "    }\n",
              "</style>\n",
              "<table border=\"1\" class=\"dataframe\">\n",
              "  <thead>\n",
              "    <tr style=\"text-align: right;\">\n",
              "      <th></th>\n",
              "      <th>index</th>\n",
              "      <th>Title</th>\n",
              "      <th>Body</th>\n",
              "      <th>Tags</th>\n",
              "    </tr>\n",
              "  </thead>\n",
              "  <tbody>\n",
              "    <tr>\n",
              "      <th>0</th>\n",
              "      <td>2</td>\n",
              "      <td>asp.net site map</td>\n",
              "      <td>anyone get experience create sql-based asp.net site-map providers get default xml file websitemap work properly menu sitemappath control need way users site create modify page dynamically need tie page view permissions standard asp.net membership system well</td>\n",
              "      <td>['sql', 'asp.net']</td>\n",
              "    </tr>\n",
              "    <tr>\n",
              "      <th>1</th>\n",
              "      <td>3</td>\n",
              "      <td>function create color wheel</td>\n",
              "      <td>something pseudo-solved many time never quite find solution stick problem come way generate n color distinguishable possible n parameter</td>\n",
              "      <td>['algorithm']</td>\n",
              "    </tr>\n",
              "    <tr>\n",
              "      <th>2</th>\n",
              "      <td>4</td>\n",
              "      <td>add script functionality .net applications</td>\n",
              "      <td>little game write c# use database back-end trade card game want implement function card script mean essentially interface icard card class implement public class card056 icard contain function call game make thing maintainablemoddable would like class card source code database essentially compile first use addchange card add database tell application refresh without need assembly deployment especially since would talk 1 assembly per card mean hundreds assemblies possible register class source file instantiate etc icard card current new mygamecardlibrarycard056 card current onenterplay ref ...</td>\n",
              "      <td>['c#', '.net']</td>\n",
              "    </tr>\n",
              "    <tr>\n",
              "      <th>3</th>\n",
              "      <td>5</td>\n",
              "      <td>use nest class case</td>\n",
              "      <td>work collection class use video playback record one main class act like public interface methods like play stop pause record etc workhorse class video decode video encode learn existence nest class c++ curious know programmers think use little wary really sure benefitsdrawbacks seem accord book read use case mine book suggest scenario like mine good solution would nest workhorse class inside interface class separate file class client mean use avoid possible name conflict know justifications nest class new concept want see programmers think issue</td>\n",
              "      <td>['c++']</td>\n",
              "    </tr>\n",
              "    <tr>\n",
              "      <th>4</th>\n",
              "      <td>6</td>\n",
              "      <td>homegrown consumption web service</td>\n",
              "      <td>write web service .net app ready consume see numerous examples homegrown code consume service oppose use auto generate methods visual studio create add web reference advantage</td>\n",
              "      <td>['.net']</td>\n",
              "    </tr>\n",
              "  </tbody>\n",
              "</table>\n",
              "</div>"
            ],
            "text/plain": [
              "   index  ...                Tags\n",
              "0      2  ...  ['sql', 'asp.net']\n",
              "1      3  ...       ['algorithm']\n",
              "2      4  ...      ['c#', '.net']\n",
              "3      5  ...             ['c++']\n",
              "4      6  ...            ['.net']\n",
              "\n",
              "[5 rows x 4 columns]"
            ]
          },
          "metadata": {
            "tags": []
          },
          "execution_count": 139
        }
      ]
    },
    {
      "cell_type": "code",
      "metadata": {
        "id": "9OgX2-UL42Rq"
      },
      "source": [
        "df = df.drop('index',1)"
      ],
      "execution_count": null,
      "outputs": []
    },
    {
      "cell_type": "code",
      "metadata": {
        "colab": {
          "base_uri": "https://localhost:8080/",
          "height": 397
        },
        "id": "zVVfMGC345M7",
        "outputId": "3752af7a-2874-4972-8cc2-be1277fce1e1"
      },
      "source": [
        "df.head()"
      ],
      "execution_count": null,
      "outputs": [
        {
          "output_type": "execute_result",
          "data": {
            "text/html": [
              "<div>\n",
              "<style scoped>\n",
              "    .dataframe tbody tr th:only-of-type {\n",
              "        vertical-align: middle;\n",
              "    }\n",
              "\n",
              "    .dataframe tbody tr th {\n",
              "        vertical-align: top;\n",
              "    }\n",
              "\n",
              "    .dataframe thead th {\n",
              "        text-align: right;\n",
              "    }\n",
              "</style>\n",
              "<table border=\"1\" class=\"dataframe\">\n",
              "  <thead>\n",
              "    <tr style=\"text-align: right;\">\n",
              "      <th></th>\n",
              "      <th>Title</th>\n",
              "      <th>Body</th>\n",
              "      <th>Tags</th>\n",
              "    </tr>\n",
              "  </thead>\n",
              "  <tbody>\n",
              "    <tr>\n",
              "      <th>0</th>\n",
              "      <td>asp.net site map</td>\n",
              "      <td>anyone get experience create sql-based asp.net site-map providers get default xml file websitemap work properly menu sitemappath control need way users site create modify page dynamically need tie page view permissions standard asp.net membership system well</td>\n",
              "      <td>['sql', 'asp.net']</td>\n",
              "    </tr>\n",
              "    <tr>\n",
              "      <th>1</th>\n",
              "      <td>function create color wheel</td>\n",
              "      <td>something pseudo-solved many time never quite find solution stick problem come way generate n color distinguishable possible n parameter</td>\n",
              "      <td>['algorithm']</td>\n",
              "    </tr>\n",
              "    <tr>\n",
              "      <th>2</th>\n",
              "      <td>add script functionality .net applications</td>\n",
              "      <td>little game write c# use database back-end trade card game want implement function card script mean essentially interface icard card class implement public class card056 icard contain function call game make thing maintainablemoddable would like class card source code database essentially compile first use addchange card add database tell application refresh without need assembly deployment especially since would talk 1 assembly per card mean hundreds assemblies possible register class source file instantiate etc icard card current new mygamecardlibrarycard056 card current onenterplay ref ...</td>\n",
              "      <td>['c#', '.net']</td>\n",
              "    </tr>\n",
              "    <tr>\n",
              "      <th>3</th>\n",
              "      <td>use nest class case</td>\n",
              "      <td>work collection class use video playback record one main class act like public interface methods like play stop pause record etc workhorse class video decode video encode learn existence nest class c++ curious know programmers think use little wary really sure benefitsdrawbacks seem accord book read use case mine book suggest scenario like mine good solution would nest workhorse class inside interface class separate file class client mean use avoid possible name conflict know justifications nest class new concept want see programmers think issue</td>\n",
              "      <td>['c++']</td>\n",
              "    </tr>\n",
              "    <tr>\n",
              "      <th>4</th>\n",
              "      <td>homegrown consumption web service</td>\n",
              "      <td>write web service .net app ready consume see numerous examples homegrown code consume service oppose use auto generate methods visual studio create add web reference advantage</td>\n",
              "      <td>['.net']</td>\n",
              "    </tr>\n",
              "  </tbody>\n",
              "</table>\n",
              "</div>"
            ],
            "text/plain": [
              "                                        Title  ...                Tags\n",
              "0                            asp.net site map  ...  ['sql', 'asp.net']\n",
              "1                 function create color wheel  ...       ['algorithm']\n",
              "2  add script functionality .net applications  ...      ['c#', '.net']\n",
              "3                         use nest class case  ...             ['c++']\n",
              "4           homegrown consumption web service  ...            ['.net']\n",
              "\n",
              "[5 rows x 3 columns]"
            ]
          },
          "metadata": {
            "tags": []
          },
          "execution_count": 141
        }
      ]
    },
    {
      "cell_type": "code",
      "metadata": {
        "id": "WqJpiZgEGKhO"
      },
      "source": [
        "title_df = df[['Title', 'Tags']]\r\n",
        "title_df.columns = ['Text', 'Tags']"
      ],
      "execution_count": null,
      "outputs": []
    },
    {
      "cell_type": "code",
      "metadata": {
        "id": "NYKh3PVCGUk4"
      },
      "source": [
        "body_df = df[['Body', 'Tags']]\r\n",
        "body_df.columns = ['Text', 'Tags']"
      ],
      "execution_count": null,
      "outputs": []
    },
    {
      "cell_type": "code",
      "metadata": {
        "colab": {
          "base_uri": "https://localhost:8080/",
          "height": 195
        },
        "id": "uoAF7hX8GagA",
        "outputId": "edb9c5d0-592a-4abb-bcd4-2193eceafbd3"
      },
      "source": [
        "title_df.head()"
      ],
      "execution_count": null,
      "outputs": [
        {
          "output_type": "execute_result",
          "data": {
            "text/html": [
              "<div>\n",
              "<style scoped>\n",
              "    .dataframe tbody tr th:only-of-type {\n",
              "        vertical-align: middle;\n",
              "    }\n",
              "\n",
              "    .dataframe tbody tr th {\n",
              "        vertical-align: top;\n",
              "    }\n",
              "\n",
              "    .dataframe thead th {\n",
              "        text-align: right;\n",
              "    }\n",
              "</style>\n",
              "<table border=\"1\" class=\"dataframe\">\n",
              "  <thead>\n",
              "    <tr style=\"text-align: right;\">\n",
              "      <th></th>\n",
              "      <th>Text</th>\n",
              "      <th>Tags</th>\n",
              "    </tr>\n",
              "  </thead>\n",
              "  <tbody>\n",
              "    <tr>\n",
              "      <th>0</th>\n",
              "      <td>asp.net site map</td>\n",
              "      <td>['sql', 'asp.net']</td>\n",
              "    </tr>\n",
              "    <tr>\n",
              "      <th>1</th>\n",
              "      <td>function create color wheel</td>\n",
              "      <td>['algorithm']</td>\n",
              "    </tr>\n",
              "    <tr>\n",
              "      <th>2</th>\n",
              "      <td>add script functionality .net applications</td>\n",
              "      <td>['c#', '.net']</td>\n",
              "    </tr>\n",
              "    <tr>\n",
              "      <th>3</th>\n",
              "      <td>use nest class case</td>\n",
              "      <td>['c++']</td>\n",
              "    </tr>\n",
              "    <tr>\n",
              "      <th>4</th>\n",
              "      <td>homegrown consumption web service</td>\n",
              "      <td>['.net']</td>\n",
              "    </tr>\n",
              "  </tbody>\n",
              "</table>\n",
              "</div>"
            ],
            "text/plain": [
              "                                         Text                Tags\n",
              "0                            asp.net site map  ['sql', 'asp.net']\n",
              "1                 function create color wheel       ['algorithm']\n",
              "2  add script functionality .net applications      ['c#', '.net']\n",
              "3                         use nest class case             ['c++']\n",
              "4           homegrown consumption web service            ['.net']"
            ]
          },
          "metadata": {
            "tags": []
          },
          "execution_count": 143
        }
      ]
    },
    {
      "cell_type": "code",
      "metadata": {
        "colab": {
          "base_uri": "https://localhost:8080/",
          "height": 330
        },
        "id": "_YqIvck8Gb_u",
        "outputId": "22cfdc6e-6b99-4524-d9b1-d0f7e66ad1aa"
      },
      "source": [
        "body_df.head()"
      ],
      "execution_count": null,
      "outputs": [
        {
          "output_type": "execute_result",
          "data": {
            "text/html": [
              "<div>\n",
              "<style scoped>\n",
              "    .dataframe tbody tr th:only-of-type {\n",
              "        vertical-align: middle;\n",
              "    }\n",
              "\n",
              "    .dataframe tbody tr th {\n",
              "        vertical-align: top;\n",
              "    }\n",
              "\n",
              "    .dataframe thead th {\n",
              "        text-align: right;\n",
              "    }\n",
              "</style>\n",
              "<table border=\"1\" class=\"dataframe\">\n",
              "  <thead>\n",
              "    <tr style=\"text-align: right;\">\n",
              "      <th></th>\n",
              "      <th>Text</th>\n",
              "      <th>Tags</th>\n",
              "    </tr>\n",
              "  </thead>\n",
              "  <tbody>\n",
              "    <tr>\n",
              "      <th>0</th>\n",
              "      <td>anyone get experience create sql-based asp.net site-map providers get default xml file websitemap work properly menu sitemappath control need way users site create modify page dynamically need tie page view permissions standard asp.net membership system well</td>\n",
              "      <td>['sql', 'asp.net']</td>\n",
              "    </tr>\n",
              "    <tr>\n",
              "      <th>1</th>\n",
              "      <td>something pseudo-solved many time never quite find solution stick problem come way generate n color distinguishable possible n parameter</td>\n",
              "      <td>['algorithm']</td>\n",
              "    </tr>\n",
              "    <tr>\n",
              "      <th>2</th>\n",
              "      <td>little game write c# use database back-end trade card game want implement function card script mean essentially interface icard card class implement public class card056 icard contain function call game make thing maintainablemoddable would like class card source code database essentially compile first use addchange card add database tell application refresh without need assembly deployment especially since would talk 1 assembly per card mean hundreds assemblies possible register class source file instantiate etc icard card current new mygamecardlibrarycard056 card current onenterplay ref ...</td>\n",
              "      <td>['c#', '.net']</td>\n",
              "    </tr>\n",
              "    <tr>\n",
              "      <th>3</th>\n",
              "      <td>work collection class use video playback record one main class act like public interface methods like play stop pause record etc workhorse class video decode video encode learn existence nest class c++ curious know programmers think use little wary really sure benefitsdrawbacks seem accord book read use case mine book suggest scenario like mine good solution would nest workhorse class inside interface class separate file class client mean use avoid possible name conflict know justifications nest class new concept want see programmers think issue</td>\n",
              "      <td>['c++']</td>\n",
              "    </tr>\n",
              "    <tr>\n",
              "      <th>4</th>\n",
              "      <td>write web service .net app ready consume see numerous examples homegrown code consume service oppose use auto generate methods visual studio create add web reference advantage</td>\n",
              "      <td>['.net']</td>\n",
              "    </tr>\n",
              "  </tbody>\n",
              "</table>\n",
              "</div>"
            ],
            "text/plain": [
              "                                                                                                                                                                                                                                                                                                                                                                                                                                                                                                                                                                                                                      Text                Tags\n",
              "0                                                                                                                                                                                                                                                                                                                                                       anyone get experience create sql-based asp.net site-map providers get default xml file websitemap work properly menu sitemappath control need way users site create modify page dynamically need tie page view permissions standard asp.net membership system well  ['sql', 'asp.net']\n",
              "1                                                                                                                                                                                                                                                                                                                                                                                                                                                                                 something pseudo-solved many time never quite find solution stick problem come way generate n color distinguishable possible n parameter       ['algorithm']\n",
              "2  little game write c# use database back-end trade card game want implement function card script mean essentially interface icard card class implement public class card056 icard contain function call game make thing maintainablemoddable would like class card source code database essentially compile first use addchange card add database tell application refresh without need assembly deployment especially since would talk 1 assembly per card mean hundreds assemblies possible register class source file instantiate etc icard card current new mygamecardlibrarycard056 card current onenterplay ref ...      ['c#', '.net']\n",
              "3                                                  work collection class use video playback record one main class act like public interface methods like play stop pause record etc workhorse class video decode video encode learn existence nest class c++ curious know programmers think use little wary really sure benefitsdrawbacks seem accord book read use case mine book suggest scenario like mine good solution would nest workhorse class inside interface class separate file class client mean use avoid possible name conflict know justifications nest class new concept want see programmers think issue             ['c++']\n",
              "4                                                                                                                                                                                                                                                                                                                                                                                                                                          write web service .net app ready consume see numerous examples homegrown code consume service oppose use auto generate methods visual studio create add web reference advantage            ['.net']"
            ]
          },
          "metadata": {
            "tags": []
          },
          "execution_count": 145
        }
      ]
    },
    {
      "cell_type": "code",
      "metadata": {
        "id": "5x2r2Rk6G2kU"
      },
      "source": [
        "df = pd.concat([body_df,title_df])"
      ],
      "execution_count": null,
      "outputs": []
    },
    {
      "cell_type": "code",
      "metadata": {
        "colab": {
          "base_uri": "https://localhost:8080/",
          "height": 536
        },
        "id": "cJmVD7HnHtul",
        "outputId": "37fd1719-3966-4ffc-a269-13f15f20ec2c"
      },
      "source": [
        "df"
      ],
      "execution_count": null,
      "outputs": [
        {
          "output_type": "execute_result",
          "data": {
            "text/html": [
              "<div>\n",
              "<style scoped>\n",
              "    .dataframe tbody tr th:only-of-type {\n",
              "        vertical-align: middle;\n",
              "    }\n",
              "\n",
              "    .dataframe tbody tr th {\n",
              "        vertical-align: top;\n",
              "    }\n",
              "\n",
              "    .dataframe thead th {\n",
              "        text-align: right;\n",
              "    }\n",
              "</style>\n",
              "<table border=\"1\" class=\"dataframe\">\n",
              "  <thead>\n",
              "    <tr style=\"text-align: right;\">\n",
              "      <th></th>\n",
              "      <th>Text</th>\n",
              "      <th>Tags</th>\n",
              "    </tr>\n",
              "  </thead>\n",
              "  <tbody>\n",
              "    <tr>\n",
              "      <th>0</th>\n",
              "      <td>anyone get experience create sql-based asp.net site-map providers get default xml file websitemap work properly menu sitemappath control need way users site create modify page dynamically need tie page view permissions standard asp.net membership system well</td>\n",
              "      <td>['sql', 'asp.net']</td>\n",
              "    </tr>\n",
              "    <tr>\n",
              "      <th>1</th>\n",
              "      <td>something pseudo-solved many time never quite find solution stick problem come way generate n color distinguishable possible n parameter</td>\n",
              "      <td>['algorithm']</td>\n",
              "    </tr>\n",
              "    <tr>\n",
              "      <th>2</th>\n",
              "      <td>little game write c# use database back-end trade card game want implement function card script mean essentially interface icard card class implement public class card056 icard contain function call game make thing maintainablemoddable would like class card source code database essentially compile first use addchange card add database tell application refresh without need assembly deployment especially since would talk 1 assembly per card mean hundreds assemblies possible register class source file instantiate etc icard card current new mygamecardlibrarycard056 card current onenterplay ref ...</td>\n",
              "      <td>['c#', '.net']</td>\n",
              "    </tr>\n",
              "    <tr>\n",
              "      <th>3</th>\n",
              "      <td>work collection class use video playback record one main class act like public interface methods like play stop pause record etc workhorse class video decode video encode learn existence nest class c++ curious know programmers think use little wary really sure benefitsdrawbacks seem accord book read use case mine book suggest scenario like mine good solution would nest workhorse class inside interface class separate file class client mean use avoid possible name conflict know justifications nest class new concept want see programmers think issue</td>\n",
              "      <td>['c++']</td>\n",
              "    </tr>\n",
              "    <tr>\n",
              "      <th>4</th>\n",
              "      <td>write web service .net app ready consume see numerous examples homegrown code consume service oppose use auto generate methods visual studio create add web reference advantage</td>\n",
              "      <td>['.net']</td>\n",
              "    </tr>\n",
              "    <tr>\n",
              "      <th>...</th>\n",
              "      <td>...</td>\n",
              "      <td>...</td>\n",
              "    </tr>\n",
              "    <tr>\n",
              "      <th>60222</th>\n",
              "      <td>stl list bad performance</td>\n",
              "      <td>['c++']</td>\n",
              "    </tr>\n",
              "    <tr>\n",
              "      <th>60223</th>\n",
              "      <td>use dict subset dataframe</td>\n",
              "      <td>['python']</td>\n",
              "    </tr>\n",
              "    <tr>\n",
              "      <th>60224</th>\n",
              "      <td>way use itertools python clean nest iterations</td>\n",
              "      <td>['python']</td>\n",
              "    </tr>\n",
              "    <tr>\n",
              "      <th>60225</th>\n",
              "      <td>result data return void get break</td>\n",
              "      <td>['c++']</td>\n",
              "    </tr>\n",
              "    <tr>\n",
              "      <th>60226</th>\n",
              "      <td>exactly make type system consistent</td>\n",
              "      <td>['haskell']</td>\n",
              "    </tr>\n",
              "  </tbody>\n",
              "</table>\n",
              "<p>120454 rows × 2 columns</p>\n",
              "</div>"
            ],
            "text/plain": [
              "                                                                                                                                                                                                                                                                                                                                                                                                                                                                                                                                                                                                                          Text                Tags\n",
              "0                                                                                                                                                                                                                                                                                                                                                           anyone get experience create sql-based asp.net site-map providers get default xml file websitemap work properly menu sitemappath control need way users site create modify page dynamically need tie page view permissions standard asp.net membership system well  ['sql', 'asp.net']\n",
              "1                                                                                                                                                                                                                                                                                                                                                                                                                                                                                     something pseudo-solved many time never quite find solution stick problem come way generate n color distinguishable possible n parameter       ['algorithm']\n",
              "2      little game write c# use database back-end trade card game want implement function card script mean essentially interface icard card class implement public class card056 icard contain function call game make thing maintainablemoddable would like class card source code database essentially compile first use addchange card add database tell application refresh without need assembly deployment especially since would talk 1 assembly per card mean hundreds assemblies possible register class source file instantiate etc icard card current new mygamecardlibrarycard056 card current onenterplay ref ...      ['c#', '.net']\n",
              "3                                                      work collection class use video playback record one main class act like public interface methods like play stop pause record etc workhorse class video decode video encode learn existence nest class c++ curious know programmers think use little wary really sure benefitsdrawbacks seem accord book read use case mine book suggest scenario like mine good solution would nest workhorse class inside interface class separate file class client mean use avoid possible name conflict know justifications nest class new concept want see programmers think issue             ['c++']\n",
              "4                                                                                                                                                                                                                                                                                                                                                                                                                                              write web service .net app ready consume see numerous examples homegrown code consume service oppose use auto generate methods visual studio create add web reference advantage            ['.net']\n",
              "...                                                                                                                                                                                                                                                                                                                                                                                                                                                                                                                                                                                                                        ...                 ...\n",
              "60222                                                                                                                                                                                                                                                                                                                                                                                                                                                                                                                                                                                                 stl list bad performance             ['c++']\n",
              "60223                                                                                                                                                                                                                                                                                                                                                                                                                                                                                                                                                                                                use dict subset dataframe          ['python']\n",
              "60224                                                                                                                                                                                                                                                                                                                                                                                                                                                                                                                                                                           way use itertools python clean nest iterations          ['python']\n",
              "60225                                                                                                                                                                                                                                                                                                                                                                                                                                                                                                                                                                                        result data return void get break             ['c++']\n",
              "60226                                                                                                                                                                                                                                                                                                                                                                                                                                                                                                                                                                                      exactly make type system consistent         ['haskell']\n",
              "\n",
              "[120454 rows x 2 columns]"
            ]
          },
          "metadata": {
            "tags": []
          },
          "execution_count": 148
        }
      ]
    },
    {
      "cell_type": "code",
      "metadata": {
        "colab": {
          "base_uri": "https://localhost:8080/"
        },
        "id": "nkJirv-sFtyE",
        "outputId": "6b925550-bbf0-452c-c10d-175c405747b2"
      },
      "source": [
        "type(df['Tags'].iloc[0])"
      ],
      "execution_count": null,
      "outputs": [
        {
          "output_type": "execute_result",
          "data": {
            "text/plain": [
              "str"
            ]
          },
          "metadata": {
            "tags": []
          },
          "execution_count": 149
        }
      ]
    },
    {
      "cell_type": "code",
      "metadata": {
        "colab": {
          "base_uri": "https://localhost:8080/",
          "height": 35
        },
        "id": "CLFkiTPvFwHG",
        "outputId": "1fe5822c-4edf-4e22-88f0-c1fffb09b295"
      },
      "source": [
        "df['Tags'].iloc[0]"
      ],
      "execution_count": null,
      "outputs": [
        {
          "output_type": "execute_result",
          "data": {
            "application/vnd.google.colaboratory.intrinsic+json": {
              "type": "string"
            },
            "text/plain": [
              "\"['sql', 'asp.net']\""
            ]
          },
          "metadata": {
            "tags": []
          },
          "execution_count": 150
        }
      ]
    },
    {
      "cell_type": "code",
      "metadata": {
        "colab": {
          "base_uri": "https://localhost:8080/"
        },
        "id": "T2TuLS88Fzjn",
        "outputId": "1fde6398-e043-446e-a953-9c282a23468d"
      },
      "source": [
        "ast.literal_eval(df['Tags'].iloc[0])"
      ],
      "execution_count": null,
      "outputs": [
        {
          "output_type": "execute_result",
          "data": {
            "text/plain": [
              "['sql', 'asp.net']"
            ]
          },
          "metadata": {
            "tags": []
          },
          "execution_count": 151
        }
      ]
    },
    {
      "cell_type": "code",
      "metadata": {
        "id": "VemGep3QF1EK"
      },
      "source": [
        "df['Tags'] = df['Tags'].apply(lambda tag: ast.literal_eval(tag))"
      ],
      "execution_count": null,
      "outputs": []
    },
    {
      "cell_type": "code",
      "metadata": {
        "colab": {
          "base_uri": "https://localhost:8080/"
        },
        "id": "JFiuHhm0GAN8",
        "outputId": "79d26adf-96f3-4b5c-a325-f517931cd0b8"
      },
      "source": [
        "df['Tags'].iloc[0]"
      ],
      "execution_count": null,
      "outputs": [
        {
          "output_type": "execute_result",
          "data": {
            "text/plain": [
              "['sql', 'asp.net']"
            ]
          },
          "metadata": {
            "tags": []
          },
          "execution_count": 153
        }
      ]
    },
    {
      "cell_type": "code",
      "metadata": {
        "id": "0_iMKUX2GCu7"
      },
      "source": [
        "binarizer = MultiLabelBinarizer()\r\n",
        "tags_binarized = binarizer.fit_transform(df['Tags'])"
      ],
      "execution_count": null,
      "outputs": []
    },
    {
      "cell_type": "code",
      "metadata": {
        "colab": {
          "base_uri": "https://localhost:8080/"
        },
        "id": "dnHWHSbXIEkM",
        "outputId": "a073d216-c16f-4a16-b439-87bd8117eca9"
      },
      "source": [
        "tags_binarized"
      ],
      "execution_count": null,
      "outputs": [
        {
          "output_type": "execute_result",
          "data": {
            "text/plain": [
              "array([[0, 0, 0, ..., 0, 0, 0],\n",
              "       [0, 0, 1, ..., 0, 0, 0],\n",
              "       [1, 0, 0, ..., 0, 0, 0],\n",
              "       ...,\n",
              "       [0, 0, 0, ..., 0, 0, 0],\n",
              "       [0, 0, 0, ..., 0, 0, 0],\n",
              "       [0, 0, 0, ..., 0, 0, 0]])"
            ]
          },
          "metadata": {
            "tags": []
          },
          "execution_count": 156
        }
      ]
    },
    {
      "cell_type": "code",
      "metadata": {
        "colab": {
          "base_uri": "https://localhost:8080/"
        },
        "id": "0YyEB4QXIFwc",
        "outputId": "8eef04c8-105c-4520-cfd7-b0ae5a1e048e"
      },
      "source": [
        "binarizer.classes_"
      ],
      "execution_count": null,
      "outputs": [
        {
          "output_type": "execute_result",
          "data": {
            "text/plain": [
              "array(['.net', 'ajax', 'algorithm', 'android', 'angularjs', 'arrays',\n",
              "       'asp.net', 'asp.net-mvc', 'bash', 'c', 'c#', 'c++', 'c++11',\n",
              "       'cocoa-touch', 'css', 'database', 'debugging', 'delphi', 'django',\n",
              "       'eclipse', 'generics', 'git', 'haskell', 'html', 'html5', 'ios',\n",
              "       'iphone', 'java', 'javascript', 'jquery', 'json', 'linq', 'linux',\n",
              "       'multithreading', 'mysql', 'node.js', 'objective-c', 'osx',\n",
              "       'performance', 'perl', 'php', 'python', 'r', 'regex', 'ruby',\n",
              "       'ruby-on-rails', 'ruby-on-rails-3', 'scala', 'spring', 'sql',\n",
              "       'sql-server', 'string', 'swift', 'unit-testing', 'visual-studio',\n",
              "       'visual-studio-2010', 'windows', 'wpf', 'xcode', 'xml'],\n",
              "      dtype=object)"
            ]
          },
          "metadata": {
            "tags": []
          },
          "execution_count": 157
        }
      ]
    },
    {
      "cell_type": "code",
      "metadata": {
        "id": "nLVNXlL4IHMR"
      },
      "source": [
        "df_binarized = pd.DataFrame(tags_binarized,columns=binarizer.classes_)"
      ],
      "execution_count": null,
      "outputs": []
    },
    {
      "cell_type": "code",
      "metadata": {
        "colab": {
          "base_uri": "https://localhost:8080/",
          "height": 472
        },
        "id": "ZabYAU6MILTg",
        "outputId": "6aa489c6-e871-41ac-84b3-7048470b71c6"
      },
      "source": [
        "df_binarized"
      ],
      "execution_count": null,
      "outputs": [
        {
          "output_type": "execute_result",
          "data": {
            "text/html": [
              "<div>\n",
              "<style scoped>\n",
              "    .dataframe tbody tr th:only-of-type {\n",
              "        vertical-align: middle;\n",
              "    }\n",
              "\n",
              "    .dataframe tbody tr th {\n",
              "        vertical-align: top;\n",
              "    }\n",
              "\n",
              "    .dataframe thead th {\n",
              "        text-align: right;\n",
              "    }\n",
              "</style>\n",
              "<table border=\"1\" class=\"dataframe\">\n",
              "  <thead>\n",
              "    <tr style=\"text-align: right;\">\n",
              "      <th></th>\n",
              "      <th>.net</th>\n",
              "      <th>ajax</th>\n",
              "      <th>algorithm</th>\n",
              "      <th>android</th>\n",
              "      <th>angularjs</th>\n",
              "      <th>arrays</th>\n",
              "      <th>asp.net</th>\n",
              "      <th>asp.net-mvc</th>\n",
              "      <th>bash</th>\n",
              "      <th>c</th>\n",
              "      <th>c#</th>\n",
              "      <th>c++</th>\n",
              "      <th>c++11</th>\n",
              "      <th>cocoa-touch</th>\n",
              "      <th>css</th>\n",
              "      <th>database</th>\n",
              "      <th>debugging</th>\n",
              "      <th>delphi</th>\n",
              "      <th>django</th>\n",
              "      <th>eclipse</th>\n",
              "      <th>generics</th>\n",
              "      <th>git</th>\n",
              "      <th>haskell</th>\n",
              "      <th>html</th>\n",
              "      <th>html5</th>\n",
              "      <th>ios</th>\n",
              "      <th>iphone</th>\n",
              "      <th>java</th>\n",
              "      <th>javascript</th>\n",
              "      <th>jquery</th>\n",
              "      <th>json</th>\n",
              "      <th>linq</th>\n",
              "      <th>linux</th>\n",
              "      <th>multithreading</th>\n",
              "      <th>mysql</th>\n",
              "      <th>node.js</th>\n",
              "      <th>objective-c</th>\n",
              "      <th>osx</th>\n",
              "      <th>performance</th>\n",
              "      <th>perl</th>\n",
              "      <th>php</th>\n",
              "      <th>python</th>\n",
              "      <th>r</th>\n",
              "      <th>regex</th>\n",
              "      <th>ruby</th>\n",
              "      <th>ruby-on-rails</th>\n",
              "      <th>ruby-on-rails-3</th>\n",
              "      <th>scala</th>\n",
              "      <th>spring</th>\n",
              "      <th>sql</th>\n",
              "      <th>sql-server</th>\n",
              "      <th>string</th>\n",
              "      <th>swift</th>\n",
              "      <th>unit-testing</th>\n",
              "      <th>visual-studio</th>\n",
              "      <th>visual-studio-2010</th>\n",
              "      <th>windows</th>\n",
              "      <th>wpf</th>\n",
              "      <th>xcode</th>\n",
              "      <th>xml</th>\n",
              "    </tr>\n",
              "  </thead>\n",
              "  <tbody>\n",
              "    <tr>\n",
              "      <th>0</th>\n",
              "      <td>0</td>\n",
              "      <td>0</td>\n",
              "      <td>0</td>\n",
              "      <td>0</td>\n",
              "      <td>0</td>\n",
              "      <td>0</td>\n",
              "      <td>1</td>\n",
              "      <td>0</td>\n",
              "      <td>0</td>\n",
              "      <td>0</td>\n",
              "      <td>0</td>\n",
              "      <td>0</td>\n",
              "      <td>0</td>\n",
              "      <td>0</td>\n",
              "      <td>0</td>\n",
              "      <td>0</td>\n",
              "      <td>0</td>\n",
              "      <td>0</td>\n",
              "      <td>0</td>\n",
              "      <td>0</td>\n",
              "      <td>0</td>\n",
              "      <td>0</td>\n",
              "      <td>0</td>\n",
              "      <td>0</td>\n",
              "      <td>0</td>\n",
              "      <td>0</td>\n",
              "      <td>0</td>\n",
              "      <td>0</td>\n",
              "      <td>0</td>\n",
              "      <td>0</td>\n",
              "      <td>0</td>\n",
              "      <td>0</td>\n",
              "      <td>0</td>\n",
              "      <td>0</td>\n",
              "      <td>0</td>\n",
              "      <td>0</td>\n",
              "      <td>0</td>\n",
              "      <td>0</td>\n",
              "      <td>0</td>\n",
              "      <td>0</td>\n",
              "      <td>0</td>\n",
              "      <td>0</td>\n",
              "      <td>0</td>\n",
              "      <td>0</td>\n",
              "      <td>0</td>\n",
              "      <td>0</td>\n",
              "      <td>0</td>\n",
              "      <td>0</td>\n",
              "      <td>0</td>\n",
              "      <td>1</td>\n",
              "      <td>0</td>\n",
              "      <td>0</td>\n",
              "      <td>0</td>\n",
              "      <td>0</td>\n",
              "      <td>0</td>\n",
              "      <td>0</td>\n",
              "      <td>0</td>\n",
              "      <td>0</td>\n",
              "      <td>0</td>\n",
              "      <td>0</td>\n",
              "    </tr>\n",
              "    <tr>\n",
              "      <th>1</th>\n",
              "      <td>0</td>\n",
              "      <td>0</td>\n",
              "      <td>1</td>\n",
              "      <td>0</td>\n",
              "      <td>0</td>\n",
              "      <td>0</td>\n",
              "      <td>0</td>\n",
              "      <td>0</td>\n",
              "      <td>0</td>\n",
              "      <td>0</td>\n",
              "      <td>0</td>\n",
              "      <td>0</td>\n",
              "      <td>0</td>\n",
              "      <td>0</td>\n",
              "      <td>0</td>\n",
              "      <td>0</td>\n",
              "      <td>0</td>\n",
              "      <td>0</td>\n",
              "      <td>0</td>\n",
              "      <td>0</td>\n",
              "      <td>0</td>\n",
              "      <td>0</td>\n",
              "      <td>0</td>\n",
              "      <td>0</td>\n",
              "      <td>0</td>\n",
              "      <td>0</td>\n",
              "      <td>0</td>\n",
              "      <td>0</td>\n",
              "      <td>0</td>\n",
              "      <td>0</td>\n",
              "      <td>0</td>\n",
              "      <td>0</td>\n",
              "      <td>0</td>\n",
              "      <td>0</td>\n",
              "      <td>0</td>\n",
              "      <td>0</td>\n",
              "      <td>0</td>\n",
              "      <td>0</td>\n",
              "      <td>0</td>\n",
              "      <td>0</td>\n",
              "      <td>0</td>\n",
              "      <td>0</td>\n",
              "      <td>0</td>\n",
              "      <td>0</td>\n",
              "      <td>0</td>\n",
              "      <td>0</td>\n",
              "      <td>0</td>\n",
              "      <td>0</td>\n",
              "      <td>0</td>\n",
              "      <td>0</td>\n",
              "      <td>0</td>\n",
              "      <td>0</td>\n",
              "      <td>0</td>\n",
              "      <td>0</td>\n",
              "      <td>0</td>\n",
              "      <td>0</td>\n",
              "      <td>0</td>\n",
              "      <td>0</td>\n",
              "      <td>0</td>\n",
              "      <td>0</td>\n",
              "    </tr>\n",
              "    <tr>\n",
              "      <th>2</th>\n",
              "      <td>1</td>\n",
              "      <td>0</td>\n",
              "      <td>0</td>\n",
              "      <td>0</td>\n",
              "      <td>0</td>\n",
              "      <td>0</td>\n",
              "      <td>0</td>\n",
              "      <td>0</td>\n",
              "      <td>0</td>\n",
              "      <td>0</td>\n",
              "      <td>1</td>\n",
              "      <td>0</td>\n",
              "      <td>0</td>\n",
              "      <td>0</td>\n",
              "      <td>0</td>\n",
              "      <td>0</td>\n",
              "      <td>0</td>\n",
              "      <td>0</td>\n",
              "      <td>0</td>\n",
              "      <td>0</td>\n",
              "      <td>0</td>\n",
              "      <td>0</td>\n",
              "      <td>0</td>\n",
              "      <td>0</td>\n",
              "      <td>0</td>\n",
              "      <td>0</td>\n",
              "      <td>0</td>\n",
              "      <td>0</td>\n",
              "      <td>0</td>\n",
              "      <td>0</td>\n",
              "      <td>0</td>\n",
              "      <td>0</td>\n",
              "      <td>0</td>\n",
              "      <td>0</td>\n",
              "      <td>0</td>\n",
              "      <td>0</td>\n",
              "      <td>0</td>\n",
              "      <td>0</td>\n",
              "      <td>0</td>\n",
              "      <td>0</td>\n",
              "      <td>0</td>\n",
              "      <td>0</td>\n",
              "      <td>0</td>\n",
              "      <td>0</td>\n",
              "      <td>0</td>\n",
              "      <td>0</td>\n",
              "      <td>0</td>\n",
              "      <td>0</td>\n",
              "      <td>0</td>\n",
              "      <td>0</td>\n",
              "      <td>0</td>\n",
              "      <td>0</td>\n",
              "      <td>0</td>\n",
              "      <td>0</td>\n",
              "      <td>0</td>\n",
              "      <td>0</td>\n",
              "      <td>0</td>\n",
              "      <td>0</td>\n",
              "      <td>0</td>\n",
              "      <td>0</td>\n",
              "    </tr>\n",
              "    <tr>\n",
              "      <th>3</th>\n",
              "      <td>0</td>\n",
              "      <td>0</td>\n",
              "      <td>0</td>\n",
              "      <td>0</td>\n",
              "      <td>0</td>\n",
              "      <td>0</td>\n",
              "      <td>0</td>\n",
              "      <td>0</td>\n",
              "      <td>0</td>\n",
              "      <td>0</td>\n",
              "      <td>0</td>\n",
              "      <td>1</td>\n",
              "      <td>0</td>\n",
              "      <td>0</td>\n",
              "      <td>0</td>\n",
              "      <td>0</td>\n",
              "      <td>0</td>\n",
              "      <td>0</td>\n",
              "      <td>0</td>\n",
              "      <td>0</td>\n",
              "      <td>0</td>\n",
              "      <td>0</td>\n",
              "      <td>0</td>\n",
              "      <td>0</td>\n",
              "      <td>0</td>\n",
              "      <td>0</td>\n",
              "      <td>0</td>\n",
              "      <td>0</td>\n",
              "      <td>0</td>\n",
              "      <td>0</td>\n",
              "      <td>0</td>\n",
              "      <td>0</td>\n",
              "      <td>0</td>\n",
              "      <td>0</td>\n",
              "      <td>0</td>\n",
              "      <td>0</td>\n",
              "      <td>0</td>\n",
              "      <td>0</td>\n",
              "      <td>0</td>\n",
              "      <td>0</td>\n",
              "      <td>0</td>\n",
              "      <td>0</td>\n",
              "      <td>0</td>\n",
              "      <td>0</td>\n",
              "      <td>0</td>\n",
              "      <td>0</td>\n",
              "      <td>0</td>\n",
              "      <td>0</td>\n",
              "      <td>0</td>\n",
              "      <td>0</td>\n",
              "      <td>0</td>\n",
              "      <td>0</td>\n",
              "      <td>0</td>\n",
              "      <td>0</td>\n",
              "      <td>0</td>\n",
              "      <td>0</td>\n",
              "      <td>0</td>\n",
              "      <td>0</td>\n",
              "      <td>0</td>\n",
              "      <td>0</td>\n",
              "    </tr>\n",
              "    <tr>\n",
              "      <th>4</th>\n",
              "      <td>1</td>\n",
              "      <td>0</td>\n",
              "      <td>0</td>\n",
              "      <td>0</td>\n",
              "      <td>0</td>\n",
              "      <td>0</td>\n",
              "      <td>0</td>\n",
              "      <td>0</td>\n",
              "      <td>0</td>\n",
              "      <td>0</td>\n",
              "      <td>0</td>\n",
              "      <td>0</td>\n",
              "      <td>0</td>\n",
              "      <td>0</td>\n",
              "      <td>0</td>\n",
              "      <td>0</td>\n",
              "      <td>0</td>\n",
              "      <td>0</td>\n",
              "      <td>0</td>\n",
              "      <td>0</td>\n",
              "      <td>0</td>\n",
              "      <td>0</td>\n",
              "      <td>0</td>\n",
              "      <td>0</td>\n",
              "      <td>0</td>\n",
              "      <td>0</td>\n",
              "      <td>0</td>\n",
              "      <td>0</td>\n",
              "      <td>0</td>\n",
              "      <td>0</td>\n",
              "      <td>0</td>\n",
              "      <td>0</td>\n",
              "      <td>0</td>\n",
              "      <td>0</td>\n",
              "      <td>0</td>\n",
              "      <td>0</td>\n",
              "      <td>0</td>\n",
              "      <td>0</td>\n",
              "      <td>0</td>\n",
              "      <td>0</td>\n",
              "      <td>0</td>\n",
              "      <td>0</td>\n",
              "      <td>0</td>\n",
              "      <td>0</td>\n",
              "      <td>0</td>\n",
              "      <td>0</td>\n",
              "      <td>0</td>\n",
              "      <td>0</td>\n",
              "      <td>0</td>\n",
              "      <td>0</td>\n",
              "      <td>0</td>\n",
              "      <td>0</td>\n",
              "      <td>0</td>\n",
              "      <td>0</td>\n",
              "      <td>0</td>\n",
              "      <td>0</td>\n",
              "      <td>0</td>\n",
              "      <td>0</td>\n",
              "      <td>0</td>\n",
              "      <td>0</td>\n",
              "    </tr>\n",
              "    <tr>\n",
              "      <th>...</th>\n",
              "      <td>...</td>\n",
              "      <td>...</td>\n",
              "      <td>...</td>\n",
              "      <td>...</td>\n",
              "      <td>...</td>\n",
              "      <td>...</td>\n",
              "      <td>...</td>\n",
              "      <td>...</td>\n",
              "      <td>...</td>\n",
              "      <td>...</td>\n",
              "      <td>...</td>\n",
              "      <td>...</td>\n",
              "      <td>...</td>\n",
              "      <td>...</td>\n",
              "      <td>...</td>\n",
              "      <td>...</td>\n",
              "      <td>...</td>\n",
              "      <td>...</td>\n",
              "      <td>...</td>\n",
              "      <td>...</td>\n",
              "      <td>...</td>\n",
              "      <td>...</td>\n",
              "      <td>...</td>\n",
              "      <td>...</td>\n",
              "      <td>...</td>\n",
              "      <td>...</td>\n",
              "      <td>...</td>\n",
              "      <td>...</td>\n",
              "      <td>...</td>\n",
              "      <td>...</td>\n",
              "      <td>...</td>\n",
              "      <td>...</td>\n",
              "      <td>...</td>\n",
              "      <td>...</td>\n",
              "      <td>...</td>\n",
              "      <td>...</td>\n",
              "      <td>...</td>\n",
              "      <td>...</td>\n",
              "      <td>...</td>\n",
              "      <td>...</td>\n",
              "      <td>...</td>\n",
              "      <td>...</td>\n",
              "      <td>...</td>\n",
              "      <td>...</td>\n",
              "      <td>...</td>\n",
              "      <td>...</td>\n",
              "      <td>...</td>\n",
              "      <td>...</td>\n",
              "      <td>...</td>\n",
              "      <td>...</td>\n",
              "      <td>...</td>\n",
              "      <td>...</td>\n",
              "      <td>...</td>\n",
              "      <td>...</td>\n",
              "      <td>...</td>\n",
              "      <td>...</td>\n",
              "      <td>...</td>\n",
              "      <td>...</td>\n",
              "      <td>...</td>\n",
              "      <td>...</td>\n",
              "    </tr>\n",
              "    <tr>\n",
              "      <th>120449</th>\n",
              "      <td>0</td>\n",
              "      <td>0</td>\n",
              "      <td>0</td>\n",
              "      <td>0</td>\n",
              "      <td>0</td>\n",
              "      <td>0</td>\n",
              "      <td>0</td>\n",
              "      <td>0</td>\n",
              "      <td>0</td>\n",
              "      <td>0</td>\n",
              "      <td>0</td>\n",
              "      <td>1</td>\n",
              "      <td>0</td>\n",
              "      <td>0</td>\n",
              "      <td>0</td>\n",
              "      <td>0</td>\n",
              "      <td>0</td>\n",
              "      <td>0</td>\n",
              "      <td>0</td>\n",
              "      <td>0</td>\n",
              "      <td>0</td>\n",
              "      <td>0</td>\n",
              "      <td>0</td>\n",
              "      <td>0</td>\n",
              "      <td>0</td>\n",
              "      <td>0</td>\n",
              "      <td>0</td>\n",
              "      <td>0</td>\n",
              "      <td>0</td>\n",
              "      <td>0</td>\n",
              "      <td>0</td>\n",
              "      <td>0</td>\n",
              "      <td>0</td>\n",
              "      <td>0</td>\n",
              "      <td>0</td>\n",
              "      <td>0</td>\n",
              "      <td>0</td>\n",
              "      <td>0</td>\n",
              "      <td>0</td>\n",
              "      <td>0</td>\n",
              "      <td>0</td>\n",
              "      <td>0</td>\n",
              "      <td>0</td>\n",
              "      <td>0</td>\n",
              "      <td>0</td>\n",
              "      <td>0</td>\n",
              "      <td>0</td>\n",
              "      <td>0</td>\n",
              "      <td>0</td>\n",
              "      <td>0</td>\n",
              "      <td>0</td>\n",
              "      <td>0</td>\n",
              "      <td>0</td>\n",
              "      <td>0</td>\n",
              "      <td>0</td>\n",
              "      <td>0</td>\n",
              "      <td>0</td>\n",
              "      <td>0</td>\n",
              "      <td>0</td>\n",
              "      <td>0</td>\n",
              "    </tr>\n",
              "    <tr>\n",
              "      <th>120450</th>\n",
              "      <td>0</td>\n",
              "      <td>0</td>\n",
              "      <td>0</td>\n",
              "      <td>0</td>\n",
              "      <td>0</td>\n",
              "      <td>0</td>\n",
              "      <td>0</td>\n",
              "      <td>0</td>\n",
              "      <td>0</td>\n",
              "      <td>0</td>\n",
              "      <td>0</td>\n",
              "      <td>0</td>\n",
              "      <td>0</td>\n",
              "      <td>0</td>\n",
              "      <td>0</td>\n",
              "      <td>0</td>\n",
              "      <td>0</td>\n",
              "      <td>0</td>\n",
              "      <td>0</td>\n",
              "      <td>0</td>\n",
              "      <td>0</td>\n",
              "      <td>0</td>\n",
              "      <td>0</td>\n",
              "      <td>0</td>\n",
              "      <td>0</td>\n",
              "      <td>0</td>\n",
              "      <td>0</td>\n",
              "      <td>0</td>\n",
              "      <td>0</td>\n",
              "      <td>0</td>\n",
              "      <td>0</td>\n",
              "      <td>0</td>\n",
              "      <td>0</td>\n",
              "      <td>0</td>\n",
              "      <td>0</td>\n",
              "      <td>0</td>\n",
              "      <td>0</td>\n",
              "      <td>0</td>\n",
              "      <td>0</td>\n",
              "      <td>0</td>\n",
              "      <td>0</td>\n",
              "      <td>1</td>\n",
              "      <td>0</td>\n",
              "      <td>0</td>\n",
              "      <td>0</td>\n",
              "      <td>0</td>\n",
              "      <td>0</td>\n",
              "      <td>0</td>\n",
              "      <td>0</td>\n",
              "      <td>0</td>\n",
              "      <td>0</td>\n",
              "      <td>0</td>\n",
              "      <td>0</td>\n",
              "      <td>0</td>\n",
              "      <td>0</td>\n",
              "      <td>0</td>\n",
              "      <td>0</td>\n",
              "      <td>0</td>\n",
              "      <td>0</td>\n",
              "      <td>0</td>\n",
              "    </tr>\n",
              "    <tr>\n",
              "      <th>120451</th>\n",
              "      <td>0</td>\n",
              "      <td>0</td>\n",
              "      <td>0</td>\n",
              "      <td>0</td>\n",
              "      <td>0</td>\n",
              "      <td>0</td>\n",
              "      <td>0</td>\n",
              "      <td>0</td>\n",
              "      <td>0</td>\n",
              "      <td>0</td>\n",
              "      <td>0</td>\n",
              "      <td>0</td>\n",
              "      <td>0</td>\n",
              "      <td>0</td>\n",
              "      <td>0</td>\n",
              "      <td>0</td>\n",
              "      <td>0</td>\n",
              "      <td>0</td>\n",
              "      <td>0</td>\n",
              "      <td>0</td>\n",
              "      <td>0</td>\n",
              "      <td>0</td>\n",
              "      <td>0</td>\n",
              "      <td>0</td>\n",
              "      <td>0</td>\n",
              "      <td>0</td>\n",
              "      <td>0</td>\n",
              "      <td>0</td>\n",
              "      <td>0</td>\n",
              "      <td>0</td>\n",
              "      <td>0</td>\n",
              "      <td>0</td>\n",
              "      <td>0</td>\n",
              "      <td>0</td>\n",
              "      <td>0</td>\n",
              "      <td>0</td>\n",
              "      <td>0</td>\n",
              "      <td>0</td>\n",
              "      <td>0</td>\n",
              "      <td>0</td>\n",
              "      <td>0</td>\n",
              "      <td>1</td>\n",
              "      <td>0</td>\n",
              "      <td>0</td>\n",
              "      <td>0</td>\n",
              "      <td>0</td>\n",
              "      <td>0</td>\n",
              "      <td>0</td>\n",
              "      <td>0</td>\n",
              "      <td>0</td>\n",
              "      <td>0</td>\n",
              "      <td>0</td>\n",
              "      <td>0</td>\n",
              "      <td>0</td>\n",
              "      <td>0</td>\n",
              "      <td>0</td>\n",
              "      <td>0</td>\n",
              "      <td>0</td>\n",
              "      <td>0</td>\n",
              "      <td>0</td>\n",
              "    </tr>\n",
              "    <tr>\n",
              "      <th>120452</th>\n",
              "      <td>0</td>\n",
              "      <td>0</td>\n",
              "      <td>0</td>\n",
              "      <td>0</td>\n",
              "      <td>0</td>\n",
              "      <td>0</td>\n",
              "      <td>0</td>\n",
              "      <td>0</td>\n",
              "      <td>0</td>\n",
              "      <td>0</td>\n",
              "      <td>0</td>\n",
              "      <td>1</td>\n",
              "      <td>0</td>\n",
              "      <td>0</td>\n",
              "      <td>0</td>\n",
              "      <td>0</td>\n",
              "      <td>0</td>\n",
              "      <td>0</td>\n",
              "      <td>0</td>\n",
              "      <td>0</td>\n",
              "      <td>0</td>\n",
              "      <td>0</td>\n",
              "      <td>0</td>\n",
              "      <td>0</td>\n",
              "      <td>0</td>\n",
              "      <td>0</td>\n",
              "      <td>0</td>\n",
              "      <td>0</td>\n",
              "      <td>0</td>\n",
              "      <td>0</td>\n",
              "      <td>0</td>\n",
              "      <td>0</td>\n",
              "      <td>0</td>\n",
              "      <td>0</td>\n",
              "      <td>0</td>\n",
              "      <td>0</td>\n",
              "      <td>0</td>\n",
              "      <td>0</td>\n",
              "      <td>0</td>\n",
              "      <td>0</td>\n",
              "      <td>0</td>\n",
              "      <td>0</td>\n",
              "      <td>0</td>\n",
              "      <td>0</td>\n",
              "      <td>0</td>\n",
              "      <td>0</td>\n",
              "      <td>0</td>\n",
              "      <td>0</td>\n",
              "      <td>0</td>\n",
              "      <td>0</td>\n",
              "      <td>0</td>\n",
              "      <td>0</td>\n",
              "      <td>0</td>\n",
              "      <td>0</td>\n",
              "      <td>0</td>\n",
              "      <td>0</td>\n",
              "      <td>0</td>\n",
              "      <td>0</td>\n",
              "      <td>0</td>\n",
              "      <td>0</td>\n",
              "    </tr>\n",
              "    <tr>\n",
              "      <th>120453</th>\n",
              "      <td>0</td>\n",
              "      <td>0</td>\n",
              "      <td>0</td>\n",
              "      <td>0</td>\n",
              "      <td>0</td>\n",
              "      <td>0</td>\n",
              "      <td>0</td>\n",
              "      <td>0</td>\n",
              "      <td>0</td>\n",
              "      <td>0</td>\n",
              "      <td>0</td>\n",
              "      <td>0</td>\n",
              "      <td>0</td>\n",
              "      <td>0</td>\n",
              "      <td>0</td>\n",
              "      <td>0</td>\n",
              "      <td>0</td>\n",
              "      <td>0</td>\n",
              "      <td>0</td>\n",
              "      <td>0</td>\n",
              "      <td>0</td>\n",
              "      <td>0</td>\n",
              "      <td>1</td>\n",
              "      <td>0</td>\n",
              "      <td>0</td>\n",
              "      <td>0</td>\n",
              "      <td>0</td>\n",
              "      <td>0</td>\n",
              "      <td>0</td>\n",
              "      <td>0</td>\n",
              "      <td>0</td>\n",
              "      <td>0</td>\n",
              "      <td>0</td>\n",
              "      <td>0</td>\n",
              "      <td>0</td>\n",
              "      <td>0</td>\n",
              "      <td>0</td>\n",
              "      <td>0</td>\n",
              "      <td>0</td>\n",
              "      <td>0</td>\n",
              "      <td>0</td>\n",
              "      <td>0</td>\n",
              "      <td>0</td>\n",
              "      <td>0</td>\n",
              "      <td>0</td>\n",
              "      <td>0</td>\n",
              "      <td>0</td>\n",
              "      <td>0</td>\n",
              "      <td>0</td>\n",
              "      <td>0</td>\n",
              "      <td>0</td>\n",
              "      <td>0</td>\n",
              "      <td>0</td>\n",
              "      <td>0</td>\n",
              "      <td>0</td>\n",
              "      <td>0</td>\n",
              "      <td>0</td>\n",
              "      <td>0</td>\n",
              "      <td>0</td>\n",
              "      <td>0</td>\n",
              "    </tr>\n",
              "  </tbody>\n",
              "</table>\n",
              "<p>120454 rows × 60 columns</p>\n",
              "</div>"
            ],
            "text/plain": [
              "        .net  ajax  algorithm  android  ...  windows  wpf  xcode  xml\n",
              "0          0     0          0        0  ...        0    0      0    0\n",
              "1          0     0          1        0  ...        0    0      0    0\n",
              "2          1     0          0        0  ...        0    0      0    0\n",
              "3          0     0          0        0  ...        0    0      0    0\n",
              "4          1     0          0        0  ...        0    0      0    0\n",
              "...      ...   ...        ...      ...  ...      ...  ...    ...  ...\n",
              "120449     0     0          0        0  ...        0    0      0    0\n",
              "120450     0     0          0        0  ...        0    0      0    0\n",
              "120451     0     0          0        0  ...        0    0      0    0\n",
              "120452     0     0          0        0  ...        0    0      0    0\n",
              "120453     0     0          0        0  ...        0    0      0    0\n",
              "\n",
              "[120454 rows x 60 columns]"
            ]
          },
          "metadata": {
            "tags": []
          },
          "execution_count": 159
        }
      ]
    },
    {
      "cell_type": "code",
      "metadata": {
        "id": "wny06cMvJpBc"
      },
      "source": [
        "df.reset_index(drop=True, inplace=True)\r\n",
        "df_binarized.reset_index(drop=True, inplace=True)"
      ],
      "execution_count": null,
      "outputs": []
    },
    {
      "cell_type": "code",
      "metadata": {
        "id": "5kYYIERQIMEa"
      },
      "source": [
        "df = pd.concat([df[df.columns[:-1]],df_binarized,df[df.columns[-1]]],axis = 1)"
      ],
      "execution_count": null,
      "outputs": []
    },
    {
      "cell_type": "code",
      "metadata": {
        "colab": {
          "base_uri": "https://localhost:8080/",
          "height": 1000
        },
        "id": "o85vv4uLJXB6",
        "outputId": "005c5d1a-2ac2-40ed-8858-2b113ced0cb3"
      },
      "source": [
        "df.head()"
      ],
      "execution_count": null,
      "outputs": [
        {
          "output_type": "execute_result",
          "data": {
            "text/html": [
              "<div>\n",
              "<style scoped>\n",
              "    .dataframe tbody tr th:only-of-type {\n",
              "        vertical-align: middle;\n",
              "    }\n",
              "\n",
              "    .dataframe tbody tr th {\n",
              "        vertical-align: top;\n",
              "    }\n",
              "\n",
              "    .dataframe thead th {\n",
              "        text-align: right;\n",
              "    }\n",
              "</style>\n",
              "<table border=\"1\" class=\"dataframe\">\n",
              "  <thead>\n",
              "    <tr style=\"text-align: right;\">\n",
              "      <th></th>\n",
              "      <th>Text</th>\n",
              "      <th>.net</th>\n",
              "      <th>ajax</th>\n",
              "      <th>algorithm</th>\n",
              "      <th>android</th>\n",
              "      <th>angularjs</th>\n",
              "      <th>arrays</th>\n",
              "      <th>asp.net</th>\n",
              "      <th>asp.net-mvc</th>\n",
              "      <th>bash</th>\n",
              "      <th>c</th>\n",
              "      <th>c#</th>\n",
              "      <th>c++</th>\n",
              "      <th>c++11</th>\n",
              "      <th>cocoa-touch</th>\n",
              "      <th>css</th>\n",
              "      <th>database</th>\n",
              "      <th>debugging</th>\n",
              "      <th>delphi</th>\n",
              "      <th>django</th>\n",
              "      <th>eclipse</th>\n",
              "      <th>generics</th>\n",
              "      <th>git</th>\n",
              "      <th>haskell</th>\n",
              "      <th>html</th>\n",
              "      <th>html5</th>\n",
              "      <th>ios</th>\n",
              "      <th>iphone</th>\n",
              "      <th>java</th>\n",
              "      <th>javascript</th>\n",
              "      <th>jquery</th>\n",
              "      <th>json</th>\n",
              "      <th>linq</th>\n",
              "      <th>linux</th>\n",
              "      <th>multithreading</th>\n",
              "      <th>mysql</th>\n",
              "      <th>node.js</th>\n",
              "      <th>objective-c</th>\n",
              "      <th>osx</th>\n",
              "      <th>performance</th>\n",
              "      <th>perl</th>\n",
              "      <th>php</th>\n",
              "      <th>python</th>\n",
              "      <th>r</th>\n",
              "      <th>regex</th>\n",
              "      <th>ruby</th>\n",
              "      <th>ruby-on-rails</th>\n",
              "      <th>ruby-on-rails-3</th>\n",
              "      <th>scala</th>\n",
              "      <th>spring</th>\n",
              "      <th>sql</th>\n",
              "      <th>sql-server</th>\n",
              "      <th>string</th>\n",
              "      <th>swift</th>\n",
              "      <th>unit-testing</th>\n",
              "      <th>visual-studio</th>\n",
              "      <th>visual-studio-2010</th>\n",
              "      <th>windows</th>\n",
              "      <th>wpf</th>\n",
              "      <th>xcode</th>\n",
              "      <th>xml</th>\n",
              "      <th>Tags</th>\n",
              "    </tr>\n",
              "  </thead>\n",
              "  <tbody>\n",
              "    <tr>\n",
              "      <th>0</th>\n",
              "      <td>anyone get experience create sql-based asp.net site-map providers get default xml file websitemap work properly menu sitemappath control need way users site create modify page dynamically need tie page view permissions standard asp.net membership system well</td>\n",
              "      <td>0</td>\n",
              "      <td>0</td>\n",
              "      <td>0</td>\n",
              "      <td>0</td>\n",
              "      <td>0</td>\n",
              "      <td>0</td>\n",
              "      <td>1</td>\n",
              "      <td>0</td>\n",
              "      <td>0</td>\n",
              "      <td>0</td>\n",
              "      <td>0</td>\n",
              "      <td>0</td>\n",
              "      <td>0</td>\n",
              "      <td>0</td>\n",
              "      <td>0</td>\n",
              "      <td>0</td>\n",
              "      <td>0</td>\n",
              "      <td>0</td>\n",
              "      <td>0</td>\n",
              "      <td>0</td>\n",
              "      <td>0</td>\n",
              "      <td>0</td>\n",
              "      <td>0</td>\n",
              "      <td>0</td>\n",
              "      <td>0</td>\n",
              "      <td>0</td>\n",
              "      <td>0</td>\n",
              "      <td>0</td>\n",
              "      <td>0</td>\n",
              "      <td>0</td>\n",
              "      <td>0</td>\n",
              "      <td>0</td>\n",
              "      <td>0</td>\n",
              "      <td>0</td>\n",
              "      <td>0</td>\n",
              "      <td>0</td>\n",
              "      <td>0</td>\n",
              "      <td>0</td>\n",
              "      <td>0</td>\n",
              "      <td>0</td>\n",
              "      <td>0</td>\n",
              "      <td>0</td>\n",
              "      <td>0</td>\n",
              "      <td>0</td>\n",
              "      <td>0</td>\n",
              "      <td>0</td>\n",
              "      <td>0</td>\n",
              "      <td>0</td>\n",
              "      <td>0</td>\n",
              "      <td>1</td>\n",
              "      <td>0</td>\n",
              "      <td>0</td>\n",
              "      <td>0</td>\n",
              "      <td>0</td>\n",
              "      <td>0</td>\n",
              "      <td>0</td>\n",
              "      <td>0</td>\n",
              "      <td>0</td>\n",
              "      <td>0</td>\n",
              "      <td>0</td>\n",
              "      <td>[sql, asp.net]</td>\n",
              "    </tr>\n",
              "    <tr>\n",
              "      <th>1</th>\n",
              "      <td>something pseudo-solved many time never quite find solution stick problem come way generate n color distinguishable possible n parameter</td>\n",
              "      <td>0</td>\n",
              "      <td>0</td>\n",
              "      <td>1</td>\n",
              "      <td>0</td>\n",
              "      <td>0</td>\n",
              "      <td>0</td>\n",
              "      <td>0</td>\n",
              "      <td>0</td>\n",
              "      <td>0</td>\n",
              "      <td>0</td>\n",
              "      <td>0</td>\n",
              "      <td>0</td>\n",
              "      <td>0</td>\n",
              "      <td>0</td>\n",
              "      <td>0</td>\n",
              "      <td>0</td>\n",
              "      <td>0</td>\n",
              "      <td>0</td>\n",
              "      <td>0</td>\n",
              "      <td>0</td>\n",
              "      <td>0</td>\n",
              "      <td>0</td>\n",
              "      <td>0</td>\n",
              "      <td>0</td>\n",
              "      <td>0</td>\n",
              "      <td>0</td>\n",
              "      <td>0</td>\n",
              "      <td>0</td>\n",
              "      <td>0</td>\n",
              "      <td>0</td>\n",
              "      <td>0</td>\n",
              "      <td>0</td>\n",
              "      <td>0</td>\n",
              "      <td>0</td>\n",
              "      <td>0</td>\n",
              "      <td>0</td>\n",
              "      <td>0</td>\n",
              "      <td>0</td>\n",
              "      <td>0</td>\n",
              "      <td>0</td>\n",
              "      <td>0</td>\n",
              "      <td>0</td>\n",
              "      <td>0</td>\n",
              "      <td>0</td>\n",
              "      <td>0</td>\n",
              "      <td>0</td>\n",
              "      <td>0</td>\n",
              "      <td>0</td>\n",
              "      <td>0</td>\n",
              "      <td>0</td>\n",
              "      <td>0</td>\n",
              "      <td>0</td>\n",
              "      <td>0</td>\n",
              "      <td>0</td>\n",
              "      <td>0</td>\n",
              "      <td>0</td>\n",
              "      <td>0</td>\n",
              "      <td>0</td>\n",
              "      <td>0</td>\n",
              "      <td>0</td>\n",
              "      <td>[algorithm]</td>\n",
              "    </tr>\n",
              "    <tr>\n",
              "      <th>2</th>\n",
              "      <td>little game write c# use database back-end trade card game want implement function card script mean essentially interface icard card class implement public class card056 icard contain function call game make thing maintainablemoddable would like class card source code database essentially compile first use addchange card add database tell application refresh without need assembly deployment especially since would talk 1 assembly per card mean hundreds assemblies possible register class source file instantiate etc icard card current new mygamecardlibrarycard056 card current onenterplay ref ...</td>\n",
              "      <td>1</td>\n",
              "      <td>0</td>\n",
              "      <td>0</td>\n",
              "      <td>0</td>\n",
              "      <td>0</td>\n",
              "      <td>0</td>\n",
              "      <td>0</td>\n",
              "      <td>0</td>\n",
              "      <td>0</td>\n",
              "      <td>0</td>\n",
              "      <td>1</td>\n",
              "      <td>0</td>\n",
              "      <td>0</td>\n",
              "      <td>0</td>\n",
              "      <td>0</td>\n",
              "      <td>0</td>\n",
              "      <td>0</td>\n",
              "      <td>0</td>\n",
              "      <td>0</td>\n",
              "      <td>0</td>\n",
              "      <td>0</td>\n",
              "      <td>0</td>\n",
              "      <td>0</td>\n",
              "      <td>0</td>\n",
              "      <td>0</td>\n",
              "      <td>0</td>\n",
              "      <td>0</td>\n",
              "      <td>0</td>\n",
              "      <td>0</td>\n",
              "      <td>0</td>\n",
              "      <td>0</td>\n",
              "      <td>0</td>\n",
              "      <td>0</td>\n",
              "      <td>0</td>\n",
              "      <td>0</td>\n",
              "      <td>0</td>\n",
              "      <td>0</td>\n",
              "      <td>0</td>\n",
              "      <td>0</td>\n",
              "      <td>0</td>\n",
              "      <td>0</td>\n",
              "      <td>0</td>\n",
              "      <td>0</td>\n",
              "      <td>0</td>\n",
              "      <td>0</td>\n",
              "      <td>0</td>\n",
              "      <td>0</td>\n",
              "      <td>0</td>\n",
              "      <td>0</td>\n",
              "      <td>0</td>\n",
              "      <td>0</td>\n",
              "      <td>0</td>\n",
              "      <td>0</td>\n",
              "      <td>0</td>\n",
              "      <td>0</td>\n",
              "      <td>0</td>\n",
              "      <td>0</td>\n",
              "      <td>0</td>\n",
              "      <td>0</td>\n",
              "      <td>0</td>\n",
              "      <td>[c#, .net]</td>\n",
              "    </tr>\n",
              "    <tr>\n",
              "      <th>3</th>\n",
              "      <td>work collection class use video playback record one main class act like public interface methods like play stop pause record etc workhorse class video decode video encode learn existence nest class c++ curious know programmers think use little wary really sure benefitsdrawbacks seem accord book read use case mine book suggest scenario like mine good solution would nest workhorse class inside interface class separate file class client mean use avoid possible name conflict know justifications nest class new concept want see programmers think issue</td>\n",
              "      <td>0</td>\n",
              "      <td>0</td>\n",
              "      <td>0</td>\n",
              "      <td>0</td>\n",
              "      <td>0</td>\n",
              "      <td>0</td>\n",
              "      <td>0</td>\n",
              "      <td>0</td>\n",
              "      <td>0</td>\n",
              "      <td>0</td>\n",
              "      <td>0</td>\n",
              "      <td>1</td>\n",
              "      <td>0</td>\n",
              "      <td>0</td>\n",
              "      <td>0</td>\n",
              "      <td>0</td>\n",
              "      <td>0</td>\n",
              "      <td>0</td>\n",
              "      <td>0</td>\n",
              "      <td>0</td>\n",
              "      <td>0</td>\n",
              "      <td>0</td>\n",
              "      <td>0</td>\n",
              "      <td>0</td>\n",
              "      <td>0</td>\n",
              "      <td>0</td>\n",
              "      <td>0</td>\n",
              "      <td>0</td>\n",
              "      <td>0</td>\n",
              "      <td>0</td>\n",
              "      <td>0</td>\n",
              "      <td>0</td>\n",
              "      <td>0</td>\n",
              "      <td>0</td>\n",
              "      <td>0</td>\n",
              "      <td>0</td>\n",
              "      <td>0</td>\n",
              "      <td>0</td>\n",
              "      <td>0</td>\n",
              "      <td>0</td>\n",
              "      <td>0</td>\n",
              "      <td>0</td>\n",
              "      <td>0</td>\n",
              "      <td>0</td>\n",
              "      <td>0</td>\n",
              "      <td>0</td>\n",
              "      <td>0</td>\n",
              "      <td>0</td>\n",
              "      <td>0</td>\n",
              "      <td>0</td>\n",
              "      <td>0</td>\n",
              "      <td>0</td>\n",
              "      <td>0</td>\n",
              "      <td>0</td>\n",
              "      <td>0</td>\n",
              "      <td>0</td>\n",
              "      <td>0</td>\n",
              "      <td>0</td>\n",
              "      <td>0</td>\n",
              "      <td>0</td>\n",
              "      <td>[c++]</td>\n",
              "    </tr>\n",
              "    <tr>\n",
              "      <th>4</th>\n",
              "      <td>write web service .net app ready consume see numerous examples homegrown code consume service oppose use auto generate methods visual studio create add web reference advantage</td>\n",
              "      <td>1</td>\n",
              "      <td>0</td>\n",
              "      <td>0</td>\n",
              "      <td>0</td>\n",
              "      <td>0</td>\n",
              "      <td>0</td>\n",
              "      <td>0</td>\n",
              "      <td>0</td>\n",
              "      <td>0</td>\n",
              "      <td>0</td>\n",
              "      <td>0</td>\n",
              "      <td>0</td>\n",
              "      <td>0</td>\n",
              "      <td>0</td>\n",
              "      <td>0</td>\n",
              "      <td>0</td>\n",
              "      <td>0</td>\n",
              "      <td>0</td>\n",
              "      <td>0</td>\n",
              "      <td>0</td>\n",
              "      <td>0</td>\n",
              "      <td>0</td>\n",
              "      <td>0</td>\n",
              "      <td>0</td>\n",
              "      <td>0</td>\n",
              "      <td>0</td>\n",
              "      <td>0</td>\n",
              "      <td>0</td>\n",
              "      <td>0</td>\n",
              "      <td>0</td>\n",
              "      <td>0</td>\n",
              "      <td>0</td>\n",
              "      <td>0</td>\n",
              "      <td>0</td>\n",
              "      <td>0</td>\n",
              "      <td>0</td>\n",
              "      <td>0</td>\n",
              "      <td>0</td>\n",
              "      <td>0</td>\n",
              "      <td>0</td>\n",
              "      <td>0</td>\n",
              "      <td>0</td>\n",
              "      <td>0</td>\n",
              "      <td>0</td>\n",
              "      <td>0</td>\n",
              "      <td>0</td>\n",
              "      <td>0</td>\n",
              "      <td>0</td>\n",
              "      <td>0</td>\n",
              "      <td>0</td>\n",
              "      <td>0</td>\n",
              "      <td>0</td>\n",
              "      <td>0</td>\n",
              "      <td>0</td>\n",
              "      <td>0</td>\n",
              "      <td>0</td>\n",
              "      <td>0</td>\n",
              "      <td>0</td>\n",
              "      <td>0</td>\n",
              "      <td>0</td>\n",
              "      <td>[.net]</td>\n",
              "    </tr>\n",
              "  </tbody>\n",
              "</table>\n",
              "</div>"
            ],
            "text/plain": [
              "                                                                                                                                                                                                                                                                                                                                                                                                                                                                                                                                                                                                                      Text  ...            Tags\n",
              "0                                                                                                                                                                                                                                                                                                                                                       anyone get experience create sql-based asp.net site-map providers get default xml file websitemap work properly menu sitemappath control need way users site create modify page dynamically need tie page view permissions standard asp.net membership system well  ...  [sql, asp.net]\n",
              "1                                                                                                                                                                                                                                                                                                                                                                                                                                                                                 something pseudo-solved many time never quite find solution stick problem come way generate n color distinguishable possible n parameter  ...     [algorithm]\n",
              "2  little game write c# use database back-end trade card game want implement function card script mean essentially interface icard card class implement public class card056 icard contain function call game make thing maintainablemoddable would like class card source code database essentially compile first use addchange card add database tell application refresh without need assembly deployment especially since would talk 1 assembly per card mean hundreds assemblies possible register class source file instantiate etc icard card current new mygamecardlibrarycard056 card current onenterplay ref ...  ...      [c#, .net]\n",
              "3                                                  work collection class use video playback record one main class act like public interface methods like play stop pause record etc workhorse class video decode video encode learn existence nest class c++ curious know programmers think use little wary really sure benefitsdrawbacks seem accord book read use case mine book suggest scenario like mine good solution would nest workhorse class inside interface class separate file class client mean use avoid possible name conflict know justifications nest class new concept want see programmers think issue  ...           [c++]\n",
              "4                                                                                                                                                                                                                                                                                                                                                                                                                                          write web service .net app ready consume see numerous examples homegrown code consume service oppose use auto generate methods visual studio create add web reference advantage  ...          [.net]\n",
              "\n",
              "[5 rows x 62 columns]"
            ]
          },
          "metadata": {
            "tags": []
          },
          "execution_count": 177
        }
      ]
    },
    {
      "cell_type": "code",
      "metadata": {
        "id": "26Q6OApgKC3Q"
      },
      "source": [
        "def arr_to_str(a):\r\n",
        "  return tags_delimeter.join(str(e) for e in a)"
      ],
      "execution_count": null,
      "outputs": []
    },
    {
      "cell_type": "code",
      "metadata": {
        "id": "ajLGvJEyKymK"
      },
      "source": [
        "df['Tags'] = df['Tags'].apply(arr_to_str)"
      ],
      "execution_count": null,
      "outputs": []
    },
    {
      "cell_type": "code",
      "metadata": {
        "colab": {
          "base_uri": "https://localhost:8080/",
          "height": 1000
        },
        "id": "VXw1eDdELClq",
        "outputId": "29f4be05-eda5-404d-8949-5fa762f8d5e6"
      },
      "source": [
        "df.head()"
      ],
      "execution_count": null,
      "outputs": [
        {
          "output_type": "execute_result",
          "data": {
            "text/html": [
              "<div>\n",
              "<style scoped>\n",
              "    .dataframe tbody tr th:only-of-type {\n",
              "        vertical-align: middle;\n",
              "    }\n",
              "\n",
              "    .dataframe tbody tr th {\n",
              "        vertical-align: top;\n",
              "    }\n",
              "\n",
              "    .dataframe thead th {\n",
              "        text-align: right;\n",
              "    }\n",
              "</style>\n",
              "<table border=\"1\" class=\"dataframe\">\n",
              "  <thead>\n",
              "    <tr style=\"text-align: right;\">\n",
              "      <th></th>\n",
              "      <th>Text</th>\n",
              "      <th>.net</th>\n",
              "      <th>ajax</th>\n",
              "      <th>algorithm</th>\n",
              "      <th>android</th>\n",
              "      <th>angularjs</th>\n",
              "      <th>arrays</th>\n",
              "      <th>asp.net</th>\n",
              "      <th>asp.net-mvc</th>\n",
              "      <th>bash</th>\n",
              "      <th>c</th>\n",
              "      <th>c#</th>\n",
              "      <th>c++</th>\n",
              "      <th>c++11</th>\n",
              "      <th>cocoa-touch</th>\n",
              "      <th>css</th>\n",
              "      <th>database</th>\n",
              "      <th>debugging</th>\n",
              "      <th>delphi</th>\n",
              "      <th>django</th>\n",
              "      <th>eclipse</th>\n",
              "      <th>generics</th>\n",
              "      <th>git</th>\n",
              "      <th>haskell</th>\n",
              "      <th>html</th>\n",
              "      <th>html5</th>\n",
              "      <th>ios</th>\n",
              "      <th>iphone</th>\n",
              "      <th>java</th>\n",
              "      <th>javascript</th>\n",
              "      <th>jquery</th>\n",
              "      <th>json</th>\n",
              "      <th>linq</th>\n",
              "      <th>linux</th>\n",
              "      <th>multithreading</th>\n",
              "      <th>mysql</th>\n",
              "      <th>node.js</th>\n",
              "      <th>objective-c</th>\n",
              "      <th>osx</th>\n",
              "      <th>performance</th>\n",
              "      <th>perl</th>\n",
              "      <th>php</th>\n",
              "      <th>python</th>\n",
              "      <th>r</th>\n",
              "      <th>regex</th>\n",
              "      <th>ruby</th>\n",
              "      <th>ruby-on-rails</th>\n",
              "      <th>ruby-on-rails-3</th>\n",
              "      <th>scala</th>\n",
              "      <th>spring</th>\n",
              "      <th>sql</th>\n",
              "      <th>sql-server</th>\n",
              "      <th>string</th>\n",
              "      <th>swift</th>\n",
              "      <th>unit-testing</th>\n",
              "      <th>visual-studio</th>\n",
              "      <th>visual-studio-2010</th>\n",
              "      <th>windows</th>\n",
              "      <th>wpf</th>\n",
              "      <th>xcode</th>\n",
              "      <th>xml</th>\n",
              "      <th>Tags</th>\n",
              "    </tr>\n",
              "  </thead>\n",
              "  <tbody>\n",
              "    <tr>\n",
              "      <th>0</th>\n",
              "      <td>anyone get experience create sql-based asp.net site-map providers get default xml file websitemap work properly menu sitemappath control need way users site create modify page dynamically need tie page view permissions standard asp.net membership system well</td>\n",
              "      <td>0</td>\n",
              "      <td>0</td>\n",
              "      <td>0</td>\n",
              "      <td>0</td>\n",
              "      <td>0</td>\n",
              "      <td>0</td>\n",
              "      <td>1</td>\n",
              "      <td>0</td>\n",
              "      <td>0</td>\n",
              "      <td>0</td>\n",
              "      <td>0</td>\n",
              "      <td>0</td>\n",
              "      <td>0</td>\n",
              "      <td>0</td>\n",
              "      <td>0</td>\n",
              "      <td>0</td>\n",
              "      <td>0</td>\n",
              "      <td>0</td>\n",
              "      <td>0</td>\n",
              "      <td>0</td>\n",
              "      <td>0</td>\n",
              "      <td>0</td>\n",
              "      <td>0</td>\n",
              "      <td>0</td>\n",
              "      <td>0</td>\n",
              "      <td>0</td>\n",
              "      <td>0</td>\n",
              "      <td>0</td>\n",
              "      <td>0</td>\n",
              "      <td>0</td>\n",
              "      <td>0</td>\n",
              "      <td>0</td>\n",
              "      <td>0</td>\n",
              "      <td>0</td>\n",
              "      <td>0</td>\n",
              "      <td>0</td>\n",
              "      <td>0</td>\n",
              "      <td>0</td>\n",
              "      <td>0</td>\n",
              "      <td>0</td>\n",
              "      <td>0</td>\n",
              "      <td>0</td>\n",
              "      <td>0</td>\n",
              "      <td>0</td>\n",
              "      <td>0</td>\n",
              "      <td>0</td>\n",
              "      <td>0</td>\n",
              "      <td>0</td>\n",
              "      <td>0</td>\n",
              "      <td>1</td>\n",
              "      <td>0</td>\n",
              "      <td>0</td>\n",
              "      <td>0</td>\n",
              "      <td>0</td>\n",
              "      <td>0</td>\n",
              "      <td>0</td>\n",
              "      <td>0</td>\n",
              "      <td>0</td>\n",
              "      <td>0</td>\n",
              "      <td>0</td>\n",
              "      <td>sql;asp.net</td>\n",
              "    </tr>\n",
              "    <tr>\n",
              "      <th>1</th>\n",
              "      <td>something pseudo-solved many time never quite find solution stick problem come way generate n color distinguishable possible n parameter</td>\n",
              "      <td>0</td>\n",
              "      <td>0</td>\n",
              "      <td>1</td>\n",
              "      <td>0</td>\n",
              "      <td>0</td>\n",
              "      <td>0</td>\n",
              "      <td>0</td>\n",
              "      <td>0</td>\n",
              "      <td>0</td>\n",
              "      <td>0</td>\n",
              "      <td>0</td>\n",
              "      <td>0</td>\n",
              "      <td>0</td>\n",
              "      <td>0</td>\n",
              "      <td>0</td>\n",
              "      <td>0</td>\n",
              "      <td>0</td>\n",
              "      <td>0</td>\n",
              "      <td>0</td>\n",
              "      <td>0</td>\n",
              "      <td>0</td>\n",
              "      <td>0</td>\n",
              "      <td>0</td>\n",
              "      <td>0</td>\n",
              "      <td>0</td>\n",
              "      <td>0</td>\n",
              "      <td>0</td>\n",
              "      <td>0</td>\n",
              "      <td>0</td>\n",
              "      <td>0</td>\n",
              "      <td>0</td>\n",
              "      <td>0</td>\n",
              "      <td>0</td>\n",
              "      <td>0</td>\n",
              "      <td>0</td>\n",
              "      <td>0</td>\n",
              "      <td>0</td>\n",
              "      <td>0</td>\n",
              "      <td>0</td>\n",
              "      <td>0</td>\n",
              "      <td>0</td>\n",
              "      <td>0</td>\n",
              "      <td>0</td>\n",
              "      <td>0</td>\n",
              "      <td>0</td>\n",
              "      <td>0</td>\n",
              "      <td>0</td>\n",
              "      <td>0</td>\n",
              "      <td>0</td>\n",
              "      <td>0</td>\n",
              "      <td>0</td>\n",
              "      <td>0</td>\n",
              "      <td>0</td>\n",
              "      <td>0</td>\n",
              "      <td>0</td>\n",
              "      <td>0</td>\n",
              "      <td>0</td>\n",
              "      <td>0</td>\n",
              "      <td>0</td>\n",
              "      <td>0</td>\n",
              "      <td>algorithm</td>\n",
              "    </tr>\n",
              "    <tr>\n",
              "      <th>2</th>\n",
              "      <td>little game write c# use database back-end trade card game want implement function card script mean essentially interface icard card class implement public class card056 icard contain function call game make thing maintainablemoddable would like class card source code database essentially compile first use addchange card add database tell application refresh without need assembly deployment especially since would talk 1 assembly per card mean hundreds assemblies possible register class source file instantiate etc icard card current new mygamecardlibrarycard056 card current onenterplay ref ...</td>\n",
              "      <td>1</td>\n",
              "      <td>0</td>\n",
              "      <td>0</td>\n",
              "      <td>0</td>\n",
              "      <td>0</td>\n",
              "      <td>0</td>\n",
              "      <td>0</td>\n",
              "      <td>0</td>\n",
              "      <td>0</td>\n",
              "      <td>0</td>\n",
              "      <td>1</td>\n",
              "      <td>0</td>\n",
              "      <td>0</td>\n",
              "      <td>0</td>\n",
              "      <td>0</td>\n",
              "      <td>0</td>\n",
              "      <td>0</td>\n",
              "      <td>0</td>\n",
              "      <td>0</td>\n",
              "      <td>0</td>\n",
              "      <td>0</td>\n",
              "      <td>0</td>\n",
              "      <td>0</td>\n",
              "      <td>0</td>\n",
              "      <td>0</td>\n",
              "      <td>0</td>\n",
              "      <td>0</td>\n",
              "      <td>0</td>\n",
              "      <td>0</td>\n",
              "      <td>0</td>\n",
              "      <td>0</td>\n",
              "      <td>0</td>\n",
              "      <td>0</td>\n",
              "      <td>0</td>\n",
              "      <td>0</td>\n",
              "      <td>0</td>\n",
              "      <td>0</td>\n",
              "      <td>0</td>\n",
              "      <td>0</td>\n",
              "      <td>0</td>\n",
              "      <td>0</td>\n",
              "      <td>0</td>\n",
              "      <td>0</td>\n",
              "      <td>0</td>\n",
              "      <td>0</td>\n",
              "      <td>0</td>\n",
              "      <td>0</td>\n",
              "      <td>0</td>\n",
              "      <td>0</td>\n",
              "      <td>0</td>\n",
              "      <td>0</td>\n",
              "      <td>0</td>\n",
              "      <td>0</td>\n",
              "      <td>0</td>\n",
              "      <td>0</td>\n",
              "      <td>0</td>\n",
              "      <td>0</td>\n",
              "      <td>0</td>\n",
              "      <td>0</td>\n",
              "      <td>0</td>\n",
              "      <td>c#;.net</td>\n",
              "    </tr>\n",
              "    <tr>\n",
              "      <th>3</th>\n",
              "      <td>work collection class use video playback record one main class act like public interface methods like play stop pause record etc workhorse class video decode video encode learn existence nest class c++ curious know programmers think use little wary really sure benefitsdrawbacks seem accord book read use case mine book suggest scenario like mine good solution would nest workhorse class inside interface class separate file class client mean use avoid possible name conflict know justifications nest class new concept want see programmers think issue</td>\n",
              "      <td>0</td>\n",
              "      <td>0</td>\n",
              "      <td>0</td>\n",
              "      <td>0</td>\n",
              "      <td>0</td>\n",
              "      <td>0</td>\n",
              "      <td>0</td>\n",
              "      <td>0</td>\n",
              "      <td>0</td>\n",
              "      <td>0</td>\n",
              "      <td>0</td>\n",
              "      <td>1</td>\n",
              "      <td>0</td>\n",
              "      <td>0</td>\n",
              "      <td>0</td>\n",
              "      <td>0</td>\n",
              "      <td>0</td>\n",
              "      <td>0</td>\n",
              "      <td>0</td>\n",
              "      <td>0</td>\n",
              "      <td>0</td>\n",
              "      <td>0</td>\n",
              "      <td>0</td>\n",
              "      <td>0</td>\n",
              "      <td>0</td>\n",
              "      <td>0</td>\n",
              "      <td>0</td>\n",
              "      <td>0</td>\n",
              "      <td>0</td>\n",
              "      <td>0</td>\n",
              "      <td>0</td>\n",
              "      <td>0</td>\n",
              "      <td>0</td>\n",
              "      <td>0</td>\n",
              "      <td>0</td>\n",
              "      <td>0</td>\n",
              "      <td>0</td>\n",
              "      <td>0</td>\n",
              "      <td>0</td>\n",
              "      <td>0</td>\n",
              "      <td>0</td>\n",
              "      <td>0</td>\n",
              "      <td>0</td>\n",
              "      <td>0</td>\n",
              "      <td>0</td>\n",
              "      <td>0</td>\n",
              "      <td>0</td>\n",
              "      <td>0</td>\n",
              "      <td>0</td>\n",
              "      <td>0</td>\n",
              "      <td>0</td>\n",
              "      <td>0</td>\n",
              "      <td>0</td>\n",
              "      <td>0</td>\n",
              "      <td>0</td>\n",
              "      <td>0</td>\n",
              "      <td>0</td>\n",
              "      <td>0</td>\n",
              "      <td>0</td>\n",
              "      <td>0</td>\n",
              "      <td>c++</td>\n",
              "    </tr>\n",
              "    <tr>\n",
              "      <th>4</th>\n",
              "      <td>write web service .net app ready consume see numerous examples homegrown code consume service oppose use auto generate methods visual studio create add web reference advantage</td>\n",
              "      <td>1</td>\n",
              "      <td>0</td>\n",
              "      <td>0</td>\n",
              "      <td>0</td>\n",
              "      <td>0</td>\n",
              "      <td>0</td>\n",
              "      <td>0</td>\n",
              "      <td>0</td>\n",
              "      <td>0</td>\n",
              "      <td>0</td>\n",
              "      <td>0</td>\n",
              "      <td>0</td>\n",
              "      <td>0</td>\n",
              "      <td>0</td>\n",
              "      <td>0</td>\n",
              "      <td>0</td>\n",
              "      <td>0</td>\n",
              "      <td>0</td>\n",
              "      <td>0</td>\n",
              "      <td>0</td>\n",
              "      <td>0</td>\n",
              "      <td>0</td>\n",
              "      <td>0</td>\n",
              "      <td>0</td>\n",
              "      <td>0</td>\n",
              "      <td>0</td>\n",
              "      <td>0</td>\n",
              "      <td>0</td>\n",
              "      <td>0</td>\n",
              "      <td>0</td>\n",
              "      <td>0</td>\n",
              "      <td>0</td>\n",
              "      <td>0</td>\n",
              "      <td>0</td>\n",
              "      <td>0</td>\n",
              "      <td>0</td>\n",
              "      <td>0</td>\n",
              "      <td>0</td>\n",
              "      <td>0</td>\n",
              "      <td>0</td>\n",
              "      <td>0</td>\n",
              "      <td>0</td>\n",
              "      <td>0</td>\n",
              "      <td>0</td>\n",
              "      <td>0</td>\n",
              "      <td>0</td>\n",
              "      <td>0</td>\n",
              "      <td>0</td>\n",
              "      <td>0</td>\n",
              "      <td>0</td>\n",
              "      <td>0</td>\n",
              "      <td>0</td>\n",
              "      <td>0</td>\n",
              "      <td>0</td>\n",
              "      <td>0</td>\n",
              "      <td>0</td>\n",
              "      <td>0</td>\n",
              "      <td>0</td>\n",
              "      <td>0</td>\n",
              "      <td>0</td>\n",
              "      <td>.net</td>\n",
              "    </tr>\n",
              "  </tbody>\n",
              "</table>\n",
              "</div>"
            ],
            "text/plain": [
              "                                                                                                                                                                                                                                                                                                                                                                                                                                                                                                                                                                                                                      Text  ...         Tags\n",
              "0                                                                                                                                                                                                                                                                                                                                                       anyone get experience create sql-based asp.net site-map providers get default xml file websitemap work properly menu sitemappath control need way users site create modify page dynamically need tie page view permissions standard asp.net membership system well  ...  sql;asp.net\n",
              "1                                                                                                                                                                                                                                                                                                                                                                                                                                                                                 something pseudo-solved many time never quite find solution stick problem come way generate n color distinguishable possible n parameter  ...    algorithm\n",
              "2  little game write c# use database back-end trade card game want implement function card script mean essentially interface icard card class implement public class card056 icard contain function call game make thing maintainablemoddable would like class card source code database essentially compile first use addchange card add database tell application refresh without need assembly deployment especially since would talk 1 assembly per card mean hundreds assemblies possible register class source file instantiate etc icard card current new mygamecardlibrarycard056 card current onenterplay ref ...  ...      c#;.net\n",
              "3                                                  work collection class use video playback record one main class act like public interface methods like play stop pause record etc workhorse class video decode video encode learn existence nest class c++ curious know programmers think use little wary really sure benefitsdrawbacks seem accord book read use case mine book suggest scenario like mine good solution would nest workhorse class inside interface class separate file class client mean use avoid possible name conflict know justifications nest class new concept want see programmers think issue  ...          c++\n",
              "4                                                                                                                                                                                                                                                                                                                                                                                                                                          write web service .net app ready consume see numerous examples homegrown code consume service oppose use auto generate methods visual studio create add web reference advantage  ...         .net\n",
              "\n",
              "[5 rows x 62 columns]"
            ]
          },
          "metadata": {
            "tags": []
          },
          "execution_count": 180
        }
      ]
    },
    {
      "cell_type": "code",
      "metadata": {
        "id": "n0w9SpKwLGUk"
      },
      "source": [
        "df.rename(columns={'Tags': 'Labels'}, inplace=True)"
      ],
      "execution_count": null,
      "outputs": []
    },
    {
      "cell_type": "code",
      "metadata": {
        "colab": {
          "base_uri": "https://localhost:8080/",
          "height": 1000
        },
        "id": "N5QFaB2tLSNw",
        "outputId": "6a5b2ebe-3091-4ee7-97a5-d7fe75297889"
      },
      "source": [
        "df.head()"
      ],
      "execution_count": null,
      "outputs": [
        {
          "output_type": "execute_result",
          "data": {
            "text/html": [
              "<div>\n",
              "<style scoped>\n",
              "    .dataframe tbody tr th:only-of-type {\n",
              "        vertical-align: middle;\n",
              "    }\n",
              "\n",
              "    .dataframe tbody tr th {\n",
              "        vertical-align: top;\n",
              "    }\n",
              "\n",
              "    .dataframe thead th {\n",
              "        text-align: right;\n",
              "    }\n",
              "</style>\n",
              "<table border=\"1\" class=\"dataframe\">\n",
              "  <thead>\n",
              "    <tr style=\"text-align: right;\">\n",
              "      <th></th>\n",
              "      <th>Text</th>\n",
              "      <th>.net</th>\n",
              "      <th>ajax</th>\n",
              "      <th>algorithm</th>\n",
              "      <th>android</th>\n",
              "      <th>angularjs</th>\n",
              "      <th>arrays</th>\n",
              "      <th>asp.net</th>\n",
              "      <th>asp.net-mvc</th>\n",
              "      <th>bash</th>\n",
              "      <th>c</th>\n",
              "      <th>c#</th>\n",
              "      <th>c++</th>\n",
              "      <th>c++11</th>\n",
              "      <th>cocoa-touch</th>\n",
              "      <th>css</th>\n",
              "      <th>database</th>\n",
              "      <th>debugging</th>\n",
              "      <th>delphi</th>\n",
              "      <th>django</th>\n",
              "      <th>eclipse</th>\n",
              "      <th>generics</th>\n",
              "      <th>git</th>\n",
              "      <th>haskell</th>\n",
              "      <th>html</th>\n",
              "      <th>html5</th>\n",
              "      <th>ios</th>\n",
              "      <th>iphone</th>\n",
              "      <th>java</th>\n",
              "      <th>javascript</th>\n",
              "      <th>jquery</th>\n",
              "      <th>json</th>\n",
              "      <th>linq</th>\n",
              "      <th>linux</th>\n",
              "      <th>multithreading</th>\n",
              "      <th>mysql</th>\n",
              "      <th>node.js</th>\n",
              "      <th>objective-c</th>\n",
              "      <th>osx</th>\n",
              "      <th>performance</th>\n",
              "      <th>perl</th>\n",
              "      <th>php</th>\n",
              "      <th>python</th>\n",
              "      <th>r</th>\n",
              "      <th>regex</th>\n",
              "      <th>ruby</th>\n",
              "      <th>ruby-on-rails</th>\n",
              "      <th>ruby-on-rails-3</th>\n",
              "      <th>scala</th>\n",
              "      <th>spring</th>\n",
              "      <th>sql</th>\n",
              "      <th>sql-server</th>\n",
              "      <th>string</th>\n",
              "      <th>swift</th>\n",
              "      <th>unit-testing</th>\n",
              "      <th>visual-studio</th>\n",
              "      <th>visual-studio-2010</th>\n",
              "      <th>windows</th>\n",
              "      <th>wpf</th>\n",
              "      <th>xcode</th>\n",
              "      <th>xml</th>\n",
              "      <th>Labels</th>\n",
              "    </tr>\n",
              "  </thead>\n",
              "  <tbody>\n",
              "    <tr>\n",
              "      <th>0</th>\n",
              "      <td>anyone get experience create sql-based asp.net site-map providers get default xml file websitemap work properly menu sitemappath control need way users site create modify page dynamically need tie page view permissions standard asp.net membership system well</td>\n",
              "      <td>0</td>\n",
              "      <td>0</td>\n",
              "      <td>0</td>\n",
              "      <td>0</td>\n",
              "      <td>0</td>\n",
              "      <td>0</td>\n",
              "      <td>1</td>\n",
              "      <td>0</td>\n",
              "      <td>0</td>\n",
              "      <td>0</td>\n",
              "      <td>0</td>\n",
              "      <td>0</td>\n",
              "      <td>0</td>\n",
              "      <td>0</td>\n",
              "      <td>0</td>\n",
              "      <td>0</td>\n",
              "      <td>0</td>\n",
              "      <td>0</td>\n",
              "      <td>0</td>\n",
              "      <td>0</td>\n",
              "      <td>0</td>\n",
              "      <td>0</td>\n",
              "      <td>0</td>\n",
              "      <td>0</td>\n",
              "      <td>0</td>\n",
              "      <td>0</td>\n",
              "      <td>0</td>\n",
              "      <td>0</td>\n",
              "      <td>0</td>\n",
              "      <td>0</td>\n",
              "      <td>0</td>\n",
              "      <td>0</td>\n",
              "      <td>0</td>\n",
              "      <td>0</td>\n",
              "      <td>0</td>\n",
              "      <td>0</td>\n",
              "      <td>0</td>\n",
              "      <td>0</td>\n",
              "      <td>0</td>\n",
              "      <td>0</td>\n",
              "      <td>0</td>\n",
              "      <td>0</td>\n",
              "      <td>0</td>\n",
              "      <td>0</td>\n",
              "      <td>0</td>\n",
              "      <td>0</td>\n",
              "      <td>0</td>\n",
              "      <td>0</td>\n",
              "      <td>0</td>\n",
              "      <td>1</td>\n",
              "      <td>0</td>\n",
              "      <td>0</td>\n",
              "      <td>0</td>\n",
              "      <td>0</td>\n",
              "      <td>0</td>\n",
              "      <td>0</td>\n",
              "      <td>0</td>\n",
              "      <td>0</td>\n",
              "      <td>0</td>\n",
              "      <td>0</td>\n",
              "      <td>sql;asp.net</td>\n",
              "    </tr>\n",
              "    <tr>\n",
              "      <th>1</th>\n",
              "      <td>something pseudo-solved many time never quite find solution stick problem come way generate n color distinguishable possible n parameter</td>\n",
              "      <td>0</td>\n",
              "      <td>0</td>\n",
              "      <td>1</td>\n",
              "      <td>0</td>\n",
              "      <td>0</td>\n",
              "      <td>0</td>\n",
              "      <td>0</td>\n",
              "      <td>0</td>\n",
              "      <td>0</td>\n",
              "      <td>0</td>\n",
              "      <td>0</td>\n",
              "      <td>0</td>\n",
              "      <td>0</td>\n",
              "      <td>0</td>\n",
              "      <td>0</td>\n",
              "      <td>0</td>\n",
              "      <td>0</td>\n",
              "      <td>0</td>\n",
              "      <td>0</td>\n",
              "      <td>0</td>\n",
              "      <td>0</td>\n",
              "      <td>0</td>\n",
              "      <td>0</td>\n",
              "      <td>0</td>\n",
              "      <td>0</td>\n",
              "      <td>0</td>\n",
              "      <td>0</td>\n",
              "      <td>0</td>\n",
              "      <td>0</td>\n",
              "      <td>0</td>\n",
              "      <td>0</td>\n",
              "      <td>0</td>\n",
              "      <td>0</td>\n",
              "      <td>0</td>\n",
              "      <td>0</td>\n",
              "      <td>0</td>\n",
              "      <td>0</td>\n",
              "      <td>0</td>\n",
              "      <td>0</td>\n",
              "      <td>0</td>\n",
              "      <td>0</td>\n",
              "      <td>0</td>\n",
              "      <td>0</td>\n",
              "      <td>0</td>\n",
              "      <td>0</td>\n",
              "      <td>0</td>\n",
              "      <td>0</td>\n",
              "      <td>0</td>\n",
              "      <td>0</td>\n",
              "      <td>0</td>\n",
              "      <td>0</td>\n",
              "      <td>0</td>\n",
              "      <td>0</td>\n",
              "      <td>0</td>\n",
              "      <td>0</td>\n",
              "      <td>0</td>\n",
              "      <td>0</td>\n",
              "      <td>0</td>\n",
              "      <td>0</td>\n",
              "      <td>0</td>\n",
              "      <td>algorithm</td>\n",
              "    </tr>\n",
              "    <tr>\n",
              "      <th>2</th>\n",
              "      <td>little game write c# use database back-end trade card game want implement function card script mean essentially interface icard card class implement public class card056 icard contain function call game make thing maintainablemoddable would like class card source code database essentially compile first use addchange card add database tell application refresh without need assembly deployment especially since would talk 1 assembly per card mean hundreds assemblies possible register class source file instantiate etc icard card current new mygamecardlibrarycard056 card current onenterplay ref ...</td>\n",
              "      <td>1</td>\n",
              "      <td>0</td>\n",
              "      <td>0</td>\n",
              "      <td>0</td>\n",
              "      <td>0</td>\n",
              "      <td>0</td>\n",
              "      <td>0</td>\n",
              "      <td>0</td>\n",
              "      <td>0</td>\n",
              "      <td>0</td>\n",
              "      <td>1</td>\n",
              "      <td>0</td>\n",
              "      <td>0</td>\n",
              "      <td>0</td>\n",
              "      <td>0</td>\n",
              "      <td>0</td>\n",
              "      <td>0</td>\n",
              "      <td>0</td>\n",
              "      <td>0</td>\n",
              "      <td>0</td>\n",
              "      <td>0</td>\n",
              "      <td>0</td>\n",
              "      <td>0</td>\n",
              "      <td>0</td>\n",
              "      <td>0</td>\n",
              "      <td>0</td>\n",
              "      <td>0</td>\n",
              "      <td>0</td>\n",
              "      <td>0</td>\n",
              "      <td>0</td>\n",
              "      <td>0</td>\n",
              "      <td>0</td>\n",
              "      <td>0</td>\n",
              "      <td>0</td>\n",
              "      <td>0</td>\n",
              "      <td>0</td>\n",
              "      <td>0</td>\n",
              "      <td>0</td>\n",
              "      <td>0</td>\n",
              "      <td>0</td>\n",
              "      <td>0</td>\n",
              "      <td>0</td>\n",
              "      <td>0</td>\n",
              "      <td>0</td>\n",
              "      <td>0</td>\n",
              "      <td>0</td>\n",
              "      <td>0</td>\n",
              "      <td>0</td>\n",
              "      <td>0</td>\n",
              "      <td>0</td>\n",
              "      <td>0</td>\n",
              "      <td>0</td>\n",
              "      <td>0</td>\n",
              "      <td>0</td>\n",
              "      <td>0</td>\n",
              "      <td>0</td>\n",
              "      <td>0</td>\n",
              "      <td>0</td>\n",
              "      <td>0</td>\n",
              "      <td>0</td>\n",
              "      <td>c#;.net</td>\n",
              "    </tr>\n",
              "    <tr>\n",
              "      <th>3</th>\n",
              "      <td>work collection class use video playback record one main class act like public interface methods like play stop pause record etc workhorse class video decode video encode learn existence nest class c++ curious know programmers think use little wary really sure benefitsdrawbacks seem accord book read use case mine book suggest scenario like mine good solution would nest workhorse class inside interface class separate file class client mean use avoid possible name conflict know justifications nest class new concept want see programmers think issue</td>\n",
              "      <td>0</td>\n",
              "      <td>0</td>\n",
              "      <td>0</td>\n",
              "      <td>0</td>\n",
              "      <td>0</td>\n",
              "      <td>0</td>\n",
              "      <td>0</td>\n",
              "      <td>0</td>\n",
              "      <td>0</td>\n",
              "      <td>0</td>\n",
              "      <td>0</td>\n",
              "      <td>1</td>\n",
              "      <td>0</td>\n",
              "      <td>0</td>\n",
              "      <td>0</td>\n",
              "      <td>0</td>\n",
              "      <td>0</td>\n",
              "      <td>0</td>\n",
              "      <td>0</td>\n",
              "      <td>0</td>\n",
              "      <td>0</td>\n",
              "      <td>0</td>\n",
              "      <td>0</td>\n",
              "      <td>0</td>\n",
              "      <td>0</td>\n",
              "      <td>0</td>\n",
              "      <td>0</td>\n",
              "      <td>0</td>\n",
              "      <td>0</td>\n",
              "      <td>0</td>\n",
              "      <td>0</td>\n",
              "      <td>0</td>\n",
              "      <td>0</td>\n",
              "      <td>0</td>\n",
              "      <td>0</td>\n",
              "      <td>0</td>\n",
              "      <td>0</td>\n",
              "      <td>0</td>\n",
              "      <td>0</td>\n",
              "      <td>0</td>\n",
              "      <td>0</td>\n",
              "      <td>0</td>\n",
              "      <td>0</td>\n",
              "      <td>0</td>\n",
              "      <td>0</td>\n",
              "      <td>0</td>\n",
              "      <td>0</td>\n",
              "      <td>0</td>\n",
              "      <td>0</td>\n",
              "      <td>0</td>\n",
              "      <td>0</td>\n",
              "      <td>0</td>\n",
              "      <td>0</td>\n",
              "      <td>0</td>\n",
              "      <td>0</td>\n",
              "      <td>0</td>\n",
              "      <td>0</td>\n",
              "      <td>0</td>\n",
              "      <td>0</td>\n",
              "      <td>0</td>\n",
              "      <td>c++</td>\n",
              "    </tr>\n",
              "    <tr>\n",
              "      <th>4</th>\n",
              "      <td>write web service .net app ready consume see numerous examples homegrown code consume service oppose use auto generate methods visual studio create add web reference advantage</td>\n",
              "      <td>1</td>\n",
              "      <td>0</td>\n",
              "      <td>0</td>\n",
              "      <td>0</td>\n",
              "      <td>0</td>\n",
              "      <td>0</td>\n",
              "      <td>0</td>\n",
              "      <td>0</td>\n",
              "      <td>0</td>\n",
              "      <td>0</td>\n",
              "      <td>0</td>\n",
              "      <td>0</td>\n",
              "      <td>0</td>\n",
              "      <td>0</td>\n",
              "      <td>0</td>\n",
              "      <td>0</td>\n",
              "      <td>0</td>\n",
              "      <td>0</td>\n",
              "      <td>0</td>\n",
              "      <td>0</td>\n",
              "      <td>0</td>\n",
              "      <td>0</td>\n",
              "      <td>0</td>\n",
              "      <td>0</td>\n",
              "      <td>0</td>\n",
              "      <td>0</td>\n",
              "      <td>0</td>\n",
              "      <td>0</td>\n",
              "      <td>0</td>\n",
              "      <td>0</td>\n",
              "      <td>0</td>\n",
              "      <td>0</td>\n",
              "      <td>0</td>\n",
              "      <td>0</td>\n",
              "      <td>0</td>\n",
              "      <td>0</td>\n",
              "      <td>0</td>\n",
              "      <td>0</td>\n",
              "      <td>0</td>\n",
              "      <td>0</td>\n",
              "      <td>0</td>\n",
              "      <td>0</td>\n",
              "      <td>0</td>\n",
              "      <td>0</td>\n",
              "      <td>0</td>\n",
              "      <td>0</td>\n",
              "      <td>0</td>\n",
              "      <td>0</td>\n",
              "      <td>0</td>\n",
              "      <td>0</td>\n",
              "      <td>0</td>\n",
              "      <td>0</td>\n",
              "      <td>0</td>\n",
              "      <td>0</td>\n",
              "      <td>0</td>\n",
              "      <td>0</td>\n",
              "      <td>0</td>\n",
              "      <td>0</td>\n",
              "      <td>0</td>\n",
              "      <td>0</td>\n",
              "      <td>.net</td>\n",
              "    </tr>\n",
              "  </tbody>\n",
              "</table>\n",
              "</div>"
            ],
            "text/plain": [
              "                                                                                                                                                                                                                                                                                                                                                                                                                                                                                                                                                                                                                      Text  ...       Labels\n",
              "0                                                                                                                                                                                                                                                                                                                                                       anyone get experience create sql-based asp.net site-map providers get default xml file websitemap work properly menu sitemappath control need way users site create modify page dynamically need tie page view permissions standard asp.net membership system well  ...  sql;asp.net\n",
              "1                                                                                                                                                                                                                                                                                                                                                                                                                                                                                 something pseudo-solved many time never quite find solution stick problem come way generate n color distinguishable possible n parameter  ...    algorithm\n",
              "2  little game write c# use database back-end trade card game want implement function card script mean essentially interface icard card class implement public class card056 icard contain function call game make thing maintainablemoddable would like class card source code database essentially compile first use addchange card add database tell application refresh without need assembly deployment especially since would talk 1 assembly per card mean hundreds assemblies possible register class source file instantiate etc icard card current new mygamecardlibrarycard056 card current onenterplay ref ...  ...      c#;.net\n",
              "3                                                  work collection class use video playback record one main class act like public interface methods like play stop pause record etc workhorse class video decode video encode learn existence nest class c++ curious know programmers think use little wary really sure benefitsdrawbacks seem accord book read use case mine book suggest scenario like mine good solution would nest workhorse class inside interface class separate file class client mean use avoid possible name conflict know justifications nest class new concept want see programmers think issue  ...          c++\n",
              "4                                                                                                                                                                                                                                                                                                                                                                                                                                          write web service .net app ready consume see numerous examples homegrown code consume service oppose use auto generate methods visual studio create add web reference advantage  ...         .net\n",
              "\n",
              "[5 rows x 62 columns]"
            ]
          },
          "metadata": {
            "tags": []
          },
          "execution_count": 182
        }
      ]
    },
    {
      "cell_type": "code",
      "metadata": {
        "id": "a4RUQ0TgLeXJ"
      },
      "source": [
        "df.to_csv('Model_Data.csv')"
      ],
      "execution_count": null,
      "outputs": []
    },
    {
      "cell_type": "markdown",
      "metadata": {
        "id": "yLt3W2n3LjyF"
      },
      "source": [
        "##Training"
      ]
    },
    {
      "cell_type": "code",
      "metadata": {
        "id": "C34IoyQULlu3"
      },
      "source": [
        "os.chdir(\"/content/drive/Shareddrives/Datasets/STACKOVERFLOW_V2\")"
      ],
      "execution_count": null,
      "outputs": []
    },
    {
      "cell_type": "code",
      "metadata": {
        "id": "7q3YSYt8Ltq6"
      },
      "source": [
        "df = pd.read_csv(\"Model_Data.csv\", encoding=\"ISO-8859-1\",index_col=0)"
      ],
      "execution_count": null,
      "outputs": []
    },
    {
      "cell_type": "code",
      "metadata": {
        "colab": {
          "base_uri": "https://localhost:8080/",
          "height": 1000
        },
        "id": "XsmzA1TjLzz4",
        "outputId": "856ed8e2-1d37-4a01-8826-72d1b7b4d645"
      },
      "source": [
        "df.head()"
      ],
      "execution_count": null,
      "outputs": [
        {
          "output_type": "execute_result",
          "data": {
            "text/html": [
              "<div>\n",
              "<style scoped>\n",
              "    .dataframe tbody tr th:only-of-type {\n",
              "        vertical-align: middle;\n",
              "    }\n",
              "\n",
              "    .dataframe tbody tr th {\n",
              "        vertical-align: top;\n",
              "    }\n",
              "\n",
              "    .dataframe thead th {\n",
              "        text-align: right;\n",
              "    }\n",
              "</style>\n",
              "<table border=\"1\" class=\"dataframe\">\n",
              "  <thead>\n",
              "    <tr style=\"text-align: right;\">\n",
              "      <th></th>\n",
              "      <th>Text</th>\n",
              "      <th>.net</th>\n",
              "      <th>ajax</th>\n",
              "      <th>algorithm</th>\n",
              "      <th>android</th>\n",
              "      <th>angularjs</th>\n",
              "      <th>arrays</th>\n",
              "      <th>asp.net</th>\n",
              "      <th>asp.net-mvc</th>\n",
              "      <th>bash</th>\n",
              "      <th>c</th>\n",
              "      <th>c#</th>\n",
              "      <th>c++</th>\n",
              "      <th>c++11</th>\n",
              "      <th>cocoa-touch</th>\n",
              "      <th>css</th>\n",
              "      <th>database</th>\n",
              "      <th>debugging</th>\n",
              "      <th>delphi</th>\n",
              "      <th>django</th>\n",
              "      <th>eclipse</th>\n",
              "      <th>generics</th>\n",
              "      <th>git</th>\n",
              "      <th>haskell</th>\n",
              "      <th>html</th>\n",
              "      <th>html5</th>\n",
              "      <th>ios</th>\n",
              "      <th>iphone</th>\n",
              "      <th>java</th>\n",
              "      <th>javascript</th>\n",
              "      <th>jquery</th>\n",
              "      <th>json</th>\n",
              "      <th>linq</th>\n",
              "      <th>linux</th>\n",
              "      <th>multithreading</th>\n",
              "      <th>mysql</th>\n",
              "      <th>node.js</th>\n",
              "      <th>objective-c</th>\n",
              "      <th>osx</th>\n",
              "      <th>performance</th>\n",
              "      <th>perl</th>\n",
              "      <th>php</th>\n",
              "      <th>python</th>\n",
              "      <th>r</th>\n",
              "      <th>regex</th>\n",
              "      <th>ruby</th>\n",
              "      <th>ruby-on-rails</th>\n",
              "      <th>ruby-on-rails-3</th>\n",
              "      <th>scala</th>\n",
              "      <th>spring</th>\n",
              "      <th>sql</th>\n",
              "      <th>sql-server</th>\n",
              "      <th>string</th>\n",
              "      <th>swift</th>\n",
              "      <th>unit-testing</th>\n",
              "      <th>visual-studio</th>\n",
              "      <th>visual-studio-2010</th>\n",
              "      <th>windows</th>\n",
              "      <th>wpf</th>\n",
              "      <th>xcode</th>\n",
              "      <th>xml</th>\n",
              "      <th>Labels</th>\n",
              "    </tr>\n",
              "  </thead>\n",
              "  <tbody>\n",
              "    <tr>\n",
              "      <th>0</th>\n",
              "      <td>anyone get experience create sql-based asp.net site-map providers get default xml file websitemap work properly menu sitemappath control need way users site create modify page dynamically need tie page view permissions standard asp.net membership system well</td>\n",
              "      <td>0</td>\n",
              "      <td>0</td>\n",
              "      <td>0</td>\n",
              "      <td>0</td>\n",
              "      <td>0</td>\n",
              "      <td>0</td>\n",
              "      <td>1</td>\n",
              "      <td>0</td>\n",
              "      <td>0</td>\n",
              "      <td>0</td>\n",
              "      <td>0</td>\n",
              "      <td>0</td>\n",
              "      <td>0</td>\n",
              "      <td>0</td>\n",
              "      <td>0</td>\n",
              "      <td>0</td>\n",
              "      <td>0</td>\n",
              "      <td>0</td>\n",
              "      <td>0</td>\n",
              "      <td>0</td>\n",
              "      <td>0</td>\n",
              "      <td>0</td>\n",
              "      <td>0</td>\n",
              "      <td>0</td>\n",
              "      <td>0</td>\n",
              "      <td>0</td>\n",
              "      <td>0</td>\n",
              "      <td>0</td>\n",
              "      <td>0</td>\n",
              "      <td>0</td>\n",
              "      <td>0</td>\n",
              "      <td>0</td>\n",
              "      <td>0</td>\n",
              "      <td>0</td>\n",
              "      <td>0</td>\n",
              "      <td>0</td>\n",
              "      <td>0</td>\n",
              "      <td>0</td>\n",
              "      <td>0</td>\n",
              "      <td>0</td>\n",
              "      <td>0</td>\n",
              "      <td>0</td>\n",
              "      <td>0</td>\n",
              "      <td>0</td>\n",
              "      <td>0</td>\n",
              "      <td>0</td>\n",
              "      <td>0</td>\n",
              "      <td>0</td>\n",
              "      <td>0</td>\n",
              "      <td>1</td>\n",
              "      <td>0</td>\n",
              "      <td>0</td>\n",
              "      <td>0</td>\n",
              "      <td>0</td>\n",
              "      <td>0</td>\n",
              "      <td>0</td>\n",
              "      <td>0</td>\n",
              "      <td>0</td>\n",
              "      <td>0</td>\n",
              "      <td>0</td>\n",
              "      <td>sql;asp.net</td>\n",
              "    </tr>\n",
              "    <tr>\n",
              "      <th>1</th>\n",
              "      <td>something pseudo-solved many time never quite find solution stick problem come way generate n color distinguishable possible n parameter</td>\n",
              "      <td>0</td>\n",
              "      <td>0</td>\n",
              "      <td>1</td>\n",
              "      <td>0</td>\n",
              "      <td>0</td>\n",
              "      <td>0</td>\n",
              "      <td>0</td>\n",
              "      <td>0</td>\n",
              "      <td>0</td>\n",
              "      <td>0</td>\n",
              "      <td>0</td>\n",
              "      <td>0</td>\n",
              "      <td>0</td>\n",
              "      <td>0</td>\n",
              "      <td>0</td>\n",
              "      <td>0</td>\n",
              "      <td>0</td>\n",
              "      <td>0</td>\n",
              "      <td>0</td>\n",
              "      <td>0</td>\n",
              "      <td>0</td>\n",
              "      <td>0</td>\n",
              "      <td>0</td>\n",
              "      <td>0</td>\n",
              "      <td>0</td>\n",
              "      <td>0</td>\n",
              "      <td>0</td>\n",
              "      <td>0</td>\n",
              "      <td>0</td>\n",
              "      <td>0</td>\n",
              "      <td>0</td>\n",
              "      <td>0</td>\n",
              "      <td>0</td>\n",
              "      <td>0</td>\n",
              "      <td>0</td>\n",
              "      <td>0</td>\n",
              "      <td>0</td>\n",
              "      <td>0</td>\n",
              "      <td>0</td>\n",
              "      <td>0</td>\n",
              "      <td>0</td>\n",
              "      <td>0</td>\n",
              "      <td>0</td>\n",
              "      <td>0</td>\n",
              "      <td>0</td>\n",
              "      <td>0</td>\n",
              "      <td>0</td>\n",
              "      <td>0</td>\n",
              "      <td>0</td>\n",
              "      <td>0</td>\n",
              "      <td>0</td>\n",
              "      <td>0</td>\n",
              "      <td>0</td>\n",
              "      <td>0</td>\n",
              "      <td>0</td>\n",
              "      <td>0</td>\n",
              "      <td>0</td>\n",
              "      <td>0</td>\n",
              "      <td>0</td>\n",
              "      <td>0</td>\n",
              "      <td>algorithm</td>\n",
              "    </tr>\n",
              "    <tr>\n",
              "      <th>2</th>\n",
              "      <td>little game write c# use database back-end trade card game want implement function card script mean essentially interface icard card class implement public class card056 icard contain function call game make thing maintainablemoddable would like class card source code database essentially compile first use addchange card add database tell application refresh without need assembly deployment especially since would talk 1 assembly per card mean hundreds assemblies possible register class source file instantiate etc icard card current new mygamecardlibrarycard056 card current onenterplay ref ...</td>\n",
              "      <td>1</td>\n",
              "      <td>0</td>\n",
              "      <td>0</td>\n",
              "      <td>0</td>\n",
              "      <td>0</td>\n",
              "      <td>0</td>\n",
              "      <td>0</td>\n",
              "      <td>0</td>\n",
              "      <td>0</td>\n",
              "      <td>0</td>\n",
              "      <td>1</td>\n",
              "      <td>0</td>\n",
              "      <td>0</td>\n",
              "      <td>0</td>\n",
              "      <td>0</td>\n",
              "      <td>0</td>\n",
              "      <td>0</td>\n",
              "      <td>0</td>\n",
              "      <td>0</td>\n",
              "      <td>0</td>\n",
              "      <td>0</td>\n",
              "      <td>0</td>\n",
              "      <td>0</td>\n",
              "      <td>0</td>\n",
              "      <td>0</td>\n",
              "      <td>0</td>\n",
              "      <td>0</td>\n",
              "      <td>0</td>\n",
              "      <td>0</td>\n",
              "      <td>0</td>\n",
              "      <td>0</td>\n",
              "      <td>0</td>\n",
              "      <td>0</td>\n",
              "      <td>0</td>\n",
              "      <td>0</td>\n",
              "      <td>0</td>\n",
              "      <td>0</td>\n",
              "      <td>0</td>\n",
              "      <td>0</td>\n",
              "      <td>0</td>\n",
              "      <td>0</td>\n",
              "      <td>0</td>\n",
              "      <td>0</td>\n",
              "      <td>0</td>\n",
              "      <td>0</td>\n",
              "      <td>0</td>\n",
              "      <td>0</td>\n",
              "      <td>0</td>\n",
              "      <td>0</td>\n",
              "      <td>0</td>\n",
              "      <td>0</td>\n",
              "      <td>0</td>\n",
              "      <td>0</td>\n",
              "      <td>0</td>\n",
              "      <td>0</td>\n",
              "      <td>0</td>\n",
              "      <td>0</td>\n",
              "      <td>0</td>\n",
              "      <td>0</td>\n",
              "      <td>0</td>\n",
              "      <td>c#;.net</td>\n",
              "    </tr>\n",
              "    <tr>\n",
              "      <th>3</th>\n",
              "      <td>work collection class use video playback record one main class act like public interface methods like play stop pause record etc workhorse class video decode video encode learn existence nest class c++ curious know programmers think use little wary really sure benefitsdrawbacks seem accord book read use case mine book suggest scenario like mine good solution would nest workhorse class inside interface class separate file class client mean use avoid possible name conflict know justifications nest class new concept want see programmers think issue</td>\n",
              "      <td>0</td>\n",
              "      <td>0</td>\n",
              "      <td>0</td>\n",
              "      <td>0</td>\n",
              "      <td>0</td>\n",
              "      <td>0</td>\n",
              "      <td>0</td>\n",
              "      <td>0</td>\n",
              "      <td>0</td>\n",
              "      <td>0</td>\n",
              "      <td>0</td>\n",
              "      <td>1</td>\n",
              "      <td>0</td>\n",
              "      <td>0</td>\n",
              "      <td>0</td>\n",
              "      <td>0</td>\n",
              "      <td>0</td>\n",
              "      <td>0</td>\n",
              "      <td>0</td>\n",
              "      <td>0</td>\n",
              "      <td>0</td>\n",
              "      <td>0</td>\n",
              "      <td>0</td>\n",
              "      <td>0</td>\n",
              "      <td>0</td>\n",
              "      <td>0</td>\n",
              "      <td>0</td>\n",
              "      <td>0</td>\n",
              "      <td>0</td>\n",
              "      <td>0</td>\n",
              "      <td>0</td>\n",
              "      <td>0</td>\n",
              "      <td>0</td>\n",
              "      <td>0</td>\n",
              "      <td>0</td>\n",
              "      <td>0</td>\n",
              "      <td>0</td>\n",
              "      <td>0</td>\n",
              "      <td>0</td>\n",
              "      <td>0</td>\n",
              "      <td>0</td>\n",
              "      <td>0</td>\n",
              "      <td>0</td>\n",
              "      <td>0</td>\n",
              "      <td>0</td>\n",
              "      <td>0</td>\n",
              "      <td>0</td>\n",
              "      <td>0</td>\n",
              "      <td>0</td>\n",
              "      <td>0</td>\n",
              "      <td>0</td>\n",
              "      <td>0</td>\n",
              "      <td>0</td>\n",
              "      <td>0</td>\n",
              "      <td>0</td>\n",
              "      <td>0</td>\n",
              "      <td>0</td>\n",
              "      <td>0</td>\n",
              "      <td>0</td>\n",
              "      <td>0</td>\n",
              "      <td>c++</td>\n",
              "    </tr>\n",
              "    <tr>\n",
              "      <th>4</th>\n",
              "      <td>write web service .net app ready consume see numerous examples homegrown code consume service oppose use auto generate methods visual studio create add web reference advantage</td>\n",
              "      <td>1</td>\n",
              "      <td>0</td>\n",
              "      <td>0</td>\n",
              "      <td>0</td>\n",
              "      <td>0</td>\n",
              "      <td>0</td>\n",
              "      <td>0</td>\n",
              "      <td>0</td>\n",
              "      <td>0</td>\n",
              "      <td>0</td>\n",
              "      <td>0</td>\n",
              "      <td>0</td>\n",
              "      <td>0</td>\n",
              "      <td>0</td>\n",
              "      <td>0</td>\n",
              "      <td>0</td>\n",
              "      <td>0</td>\n",
              "      <td>0</td>\n",
              "      <td>0</td>\n",
              "      <td>0</td>\n",
              "      <td>0</td>\n",
              "      <td>0</td>\n",
              "      <td>0</td>\n",
              "      <td>0</td>\n",
              "      <td>0</td>\n",
              "      <td>0</td>\n",
              "      <td>0</td>\n",
              "      <td>0</td>\n",
              "      <td>0</td>\n",
              "      <td>0</td>\n",
              "      <td>0</td>\n",
              "      <td>0</td>\n",
              "      <td>0</td>\n",
              "      <td>0</td>\n",
              "      <td>0</td>\n",
              "      <td>0</td>\n",
              "      <td>0</td>\n",
              "      <td>0</td>\n",
              "      <td>0</td>\n",
              "      <td>0</td>\n",
              "      <td>0</td>\n",
              "      <td>0</td>\n",
              "      <td>0</td>\n",
              "      <td>0</td>\n",
              "      <td>0</td>\n",
              "      <td>0</td>\n",
              "      <td>0</td>\n",
              "      <td>0</td>\n",
              "      <td>0</td>\n",
              "      <td>0</td>\n",
              "      <td>0</td>\n",
              "      <td>0</td>\n",
              "      <td>0</td>\n",
              "      <td>0</td>\n",
              "      <td>0</td>\n",
              "      <td>0</td>\n",
              "      <td>0</td>\n",
              "      <td>0</td>\n",
              "      <td>0</td>\n",
              "      <td>0</td>\n",
              "      <td>.net</td>\n",
              "    </tr>\n",
              "  </tbody>\n",
              "</table>\n",
              "</div>"
            ],
            "text/plain": [
              "                                                                                                                                                                                                                                                                                                                                                                                                                                                                                                                                                                                                                      Text  ...       Labels\n",
              "0                                                                                                                                                                                                                                                                                                                                                       anyone get experience create sql-based asp.net site-map providers get default xml file websitemap work properly menu sitemappath control need way users site create modify page dynamically need tie page view permissions standard asp.net membership system well  ...  sql;asp.net\n",
              "1                                                                                                                                                                                                                                                                                                                                                                                                                                                                                 something pseudo-solved many time never quite find solution stick problem come way generate n color distinguishable possible n parameter  ...    algorithm\n",
              "2  little game write c# use database back-end trade card game want implement function card script mean essentially interface icard card class implement public class card056 icard contain function call game make thing maintainablemoddable would like class card source code database essentially compile first use addchange card add database tell application refresh without need assembly deployment especially since would talk 1 assembly per card mean hundreds assemblies possible register class source file instantiate etc icard card current new mygamecardlibrarycard056 card current onenterplay ref ...  ...      c#;.net\n",
              "3                                                  work collection class use video playback record one main class act like public interface methods like play stop pause record etc workhorse class video decode video encode learn existence nest class c++ curious know programmers think use little wary really sure benefitsdrawbacks seem accord book read use case mine book suggest scenario like mine good solution would nest workhorse class inside interface class separate file class client mean use avoid possible name conflict know justifications nest class new concept want see programmers think issue  ...          c++\n",
              "4                                                                                                                                                                                                                                                                                                                                                                                                                                          write web service .net app ready consume see numerous examples homegrown code consume service oppose use auto generate methods visual studio create add web reference advantage  ...         .net\n",
              "\n",
              "[5 rows x 62 columns]"
            ]
          },
          "metadata": {
            "tags": []
          },
          "execution_count": 11
        }
      ]
    },
    {
      "cell_type": "code",
      "metadata": {
        "colab": {
          "base_uri": "https://localhost:8080/"
        },
        "id": "w2hBYFuDL36L",
        "outputId": "ec831d68-c1b4-4bde-ed29-99356d14668a"
      },
      "source": [
        "df.info"
      ],
      "execution_count": null,
      "outputs": [
        {
          "output_type": "execute_result",
          "data": {
            "text/plain": [
              "<bound method DataFrame.info of                                                                                                                                                                                                                                                                                                                                                                                                                                                                                                                                                                                                                            Text  ...       Labels\n",
              "0                                                                                                                                                                                                                                                                                                                                                            anyone get experience create sql-based asp.net site-map providers get default xml file websitemap work properly menu sitemappath control need way users site create modify page dynamically need tie page view permissions standard asp.net membership system well  ...  sql;asp.net\n",
              "1                                                                                                                                                                                                                                                                                                                                                                                                                                                                                      something pseudo-solved many time never quite find solution stick problem come way generate n color distinguishable possible n parameter  ...    algorithm\n",
              "2       little game write c# use database back-end trade card game want implement function card script mean essentially interface icard card class implement public class card056 icard contain function call game make thing maintainablemoddable would like class card source code database essentially compile first use addchange card add database tell application refresh without need assembly deployment especially since would talk 1 assembly per card mean hundreds assemblies possible register class source file instantiate etc icard card current new mygamecardlibrarycard056 card current onenterplay ref ...  ...      c#;.net\n",
              "3                                                       work collection class use video playback record one main class act like public interface methods like play stop pause record etc workhorse class video decode video encode learn existence nest class c++ curious know programmers think use little wary really sure benefitsdrawbacks seem accord book read use case mine book suggest scenario like mine good solution would nest workhorse class inside interface class separate file class client mean use avoid possible name conflict know justifications nest class new concept want see programmers think issue  ...          c++\n",
              "4                                                                                                                                                                                                                                                                                                                                                                                                                                               write web service .net app ready consume see numerous examples homegrown code consume service oppose use auto generate methods visual studio create add web reference advantage  ...         .net\n",
              "...                                                                                                                                                                                                                                                                                                                                                                                                                                                                                                                                                                                                                         ...  ...          ...\n",
              "120449                                                                                                                                                                                                                                                                                                                                                                                                                                                                                                                                                                                                 stl list bad performance  ...          c++\n",
              "120450                                                                                                                                                                                                                                                                                                                                                                                                                                                                                                                                                                                                use dict subset dataframe  ...       python\n",
              "120451                                                                                                                                                                                                                                                                                                                                                                                                                                                                                                                                                                           way use itertools python clean nest iterations  ...       python\n",
              "120452                                                                                                                                                                                                                                                                                                                                                                                                                                                                                                                                                                                        result data return void get break  ...          c++\n",
              "120453                                                                                                                                                                                                                                                                                                                                                                                                                                                                                                                                                                                      exactly make type system consistent  ...      haskell\n",
              "\n",
              "[120454 rows x 62 columns]>"
            ]
          },
          "metadata": {
            "tags": []
          },
          "execution_count": 12
        }
      ]
    },
    {
      "cell_type": "code",
      "metadata": {
        "colab": {
          "base_uri": "https://localhost:8080/",
          "height": 441
        },
        "id": "lHm5Gy5KL4_c",
        "outputId": "0ae4f93e-3afc-4568-c0cb-5c7853797e23"
      },
      "source": [
        "f = lambda x: df[x].sum()\r\n",
        "tags = df.columns[2:len(df.columns) - 1]\r\n",
        "tags_counts = [f(x) for x in tags]\r\n",
        "fig, ax = plt.subplots(1, 1, figsize = (10, 6))\r\n",
        "plt.bar(tags, tags_counts)\r\n",
        "ax.set_title(f\"Tags {len(df)}.\")\r\n",
        "plt.tight_layout();"
      ],
      "execution_count": null,
      "outputs": [
        {
          "output_type": "display_data",
          "data": {
            "image/png": "[encoded data removed]",
            "text/plain": [
              "<Figure size 720x432 with 1 Axes>"
            ]
          },
          "metadata": {
            "tags": [],
            "needs_background": "light"
          }
        }
      ]
    },
    {
      "cell_type": "markdown",
      "metadata": {
        "id": "2VNJN5SzOHvc"
      },
      "source": [
        "The next cell takes about 1 minute to run"
      ]
    },
    {
      "cell_type": "code",
      "metadata": {
        "colab": {
          "base_uri": "https://localhost:8080/",
          "height": 265
        },
        "id": "rM3KJx-aM7YQ",
        "outputId": "6da15ab8-3d3c-4941-edb9-d4f9bbf1a3b3"
      },
      "source": [
        "df[\"Labels\"].value_counts().plot( kind='pie', autopct='%1.1f%%')"
      ],
      "execution_count": null,
      "outputs": [
        {
          "output_type": "execute_result",
          "data": {
            "text/plain": [
              "<matplotlib.axes._subplots.AxesSubplot at 0x7f4a8f51d908>"
            ]
          },
          "metadata": {
            "tags": []
          },
          "execution_count": 14
        },
        {
          "output_type": "display_data",
          "data": {
            "image/png": "[encoded data removed]",
            "text/plain": [
              "<Figure size 432x288 with 1 Axes>"
            ]
          },
          "metadata": {
            "tags": []
          }
        }
      ]
    },
    {
      "cell_type": "code",
      "metadata": {
        "id": "EEG4--PpNb6G"
      },
      "source": [
        "train_df, test_df = train_test_split(df, test_size=0.2)"
      ],
      "execution_count": null,
      "outputs": []
    },
    {
      "cell_type": "markdown",
      "metadata": {
        "id": "DHeA42m8NpX-"
      },
      "source": [
        "The next code cell takes 5 minutes to run"
      ]
    },
    {
      "cell_type": "code",
      "metadata": {
        "colab": {
          "base_uri": "https://localhost:8080/",
          "height": 70
        },
        "id": "p9cTRTM7M_3N",
        "outputId": "2f238d3a-2306-4e02-f71c-67ad9402c816"
      },
      "source": [
        "dls_blk = DataBlock(blocks = (TextBlock.from_df(text_cols = \"Text\", seq_len = 128),\r\n",
        "                              MultiCategoryBlock),\r\n",
        "                    get_x = ColReader(cols = \"text\"),\r\n",
        "                    get_y = ColReader(cols = \"Labels\", label_delim = \";\"),\r\n",
        "                    splitter = TrainTestSplitter(test_size = 0.2, random_state = 21))\r\n",
        "\r\n",
        "dls_clf = dls_blk.dataloaders(train_df,\r\n",
        "                              bs = 64,\r\n",
        "                              seed = 20)"
      ],
      "execution_count": null,
      "outputs": [
        {
          "output_type": "display_data",
          "data": {
            "text/html": [
              ""
            ],
            "text/plain": [
              "<IPython.core.display.HTML object>"
            ]
          },
          "metadata": {
            "tags": []
          }
        },
        {
          "output_type": "stream",
          "text": [
            "/usr/local/lib/python3.6/dist-packages/numpy/core/_asarray.py:83: VisibleDeprecationWarning: Creating an ndarray from ragged nested sequences (which is a list-or-tuple of lists-or-tuples-or ndarrays with different lengths or shapes) is deprecated. If you meant to do this, you must specify 'dtype=object' when creating the ndarray\n",
            "  return array(a, dtype, copy=False, order=order)\n"
          ],
          "name": "stderr"
        }
      ]
    },
    {
      "cell_type": "code",
      "metadata": {
        "colab": {
          "base_uri": "https://localhost:8080/",
          "height": 17
        },
        "id": "pNI4jnH_NmxY",
        "outputId": "aace6f01-5507-4f87-e8f4-6ea6eb33d7b5"
      },
      "source": [
        "learn_clf = text_classifier_learner(dls_clf,AWD_LSTM,drop_mult=0.5,metrics = accuracy_multi).to_fp16()"
      ],
      "execution_count": null,
      "outputs": [
        {
          "output_type": "display_data",
          "data": {
            "text/html": [
              ""
            ],
            "text/plain": [
              "<IPython.core.display.HTML object>"
            ]
          },
          "metadata": {
            "tags": []
          }
        }
      ]
    },
    {
      "cell_type": "markdown",
      "metadata": {
        "id": "iADKrt_oO-aP"
      },
      "source": [
        "The next code cell takes 1 minute to run"
      ]
    },
    {
      "cell_type": "code",
      "metadata": {
        "colab": {
          "base_uri": "https://localhost:8080/",
          "height": 300
        },
        "id": "EKaframsOLim",
        "outputId": "08278122-724c-48e1-8eb2-cbaeaa0fa39d"
      },
      "source": [
        "learn_clf.lr_find()"
      ],
      "execution_count": null,
      "outputs": [
        {
          "output_type": "display_data",
          "data": {
            "text/html": [
              ""
            ],
            "text/plain": [
              "<IPython.core.display.HTML object>"
            ]
          },
          "metadata": {
            "tags": []
          }
        },
        {
          "output_type": "execute_result",
          "data": {
            "text/plain": [
              "SuggestedLRs(lr_min=0.07585775852203369, lr_steep=0.05754399299621582)"
            ]
          },
          "metadata": {
            "tags": []
          },
          "execution_count": 18
        },
        {
          "output_type": "display_data",
          "data": {
            "image/png": "[encoded data removed]",
            "text/plain": [
              "<Figure size 432x288 with 1 Axes>"
            ]
          },
          "metadata": {
            "tags": [],
            "needs_background": "light"
          }
        }
      ]
    },
    {
      "cell_type": "markdown",
      "metadata": {
        "id": "uiqtUgQUPKud"
      },
      "source": [
        "The next code cell takes 2 minutes to run"
      ]
    },
    {
      "cell_type": "code",
      "metadata": {
        "colab": {
          "base_uri": "https://localhost:8080/",
          "height": 77
        },
        "id": "e0bB-Hg4OQw6",
        "outputId": "951cc582-d458-42a9-c9ca-7e2ee38a7504"
      },
      "source": [
        "learn_clf.fit_one_cycle(1,7e-2)"
      ],
      "execution_count": null,
      "outputs": [
        {
          "output_type": "display_data",
          "data": {
            "text/html": [
              "<table border=\"1\" class=\"dataframe\">\n",
              "  <thead>\n",
              "    <tr style=\"text-align: left;\">\n",
              "      <th>epoch</th>\n",
              "      <th>train_loss</th>\n",
              "      <th>valid_loss</th>\n",
              "      <th>accuracy_multi</th>\n",
              "      <th>time</th>\n",
              "    </tr>\n",
              "  </thead>\n",
              "  <tbody>\n",
              "    <tr>\n",
              "      <td>0</td>\n",
              "      <td>0.097493</td>\n",
              "      <td>0.093648</td>\n",
              "      <td>0.975871</td>\n",
              "      <td>02:24</td>\n",
              "    </tr>\n",
              "  </tbody>\n",
              "</table>"
            ],
            "text/plain": [
              "<IPython.core.display.HTML object>"
            ]
          },
          "metadata": {
            "tags": []
          }
        }
      ]
    },
    {
      "cell_type": "code",
      "metadata": {
        "colab": {
          "base_uri": "https://localhost:8080/",
          "height": 77
        },
        "id": "BcD6gYwaOSAm",
        "outputId": "e9d27f02-55c8-4fb8-bdf5-38865b42e405"
      },
      "source": [
        "learn_clf.freeze_to(-2)\r\n",
        "learn_clf.fit_one_cycle(1,slice(1e-2/(2.6**4),5e-2))"
      ],
      "execution_count": null,
      "outputs": [
        {
          "output_type": "display_data",
          "data": {
            "text/html": [
              "<table border=\"1\" class=\"dataframe\">\n",
              "  <thead>\n",
              "    <tr style=\"text-align: left;\">\n",
              "      <th>epoch</th>\n",
              "      <th>train_loss</th>\n",
              "      <th>valid_loss</th>\n",
              "      <th>accuracy_multi</th>\n",
              "      <th>time</th>\n",
              "    </tr>\n",
              "  </thead>\n",
              "  <tbody>\n",
              "    <tr>\n",
              "      <td>0</td>\n",
              "      <td>0.088584</td>\n",
              "      <td>0.082471</td>\n",
              "      <td>0.978464</td>\n",
              "      <td>02:32</td>\n",
              "    </tr>\n",
              "  </tbody>\n",
              "</table>"
            ],
            "text/plain": [
              "<IPython.core.display.HTML object>"
            ]
          },
          "metadata": {
            "tags": []
          }
        }
      ]
    },
    {
      "cell_type": "code",
      "metadata": {
        "colab": {
          "base_uri": "https://localhost:8080/",
          "height": 77
        },
        "id": "ZbVwrVbsOTNm",
        "outputId": "0285175f-de1e-4dfc-c062-326ccdb4e8ea"
      },
      "source": [
        "learn_clf.freeze_to(-3)\r\n",
        "learn_clf.fit_one_cycle(1,slice(5e-3/(2.6**4),5e-2))"
      ],
      "execution_count": null,
      "outputs": [
        {
          "output_type": "display_data",
          "data": {
            "text/html": [
              "<table border=\"1\" class=\"dataframe\">\n",
              "  <thead>\n",
              "    <tr style=\"text-align: left;\">\n",
              "      <th>epoch</th>\n",
              "      <th>train_loss</th>\n",
              "      <th>valid_loss</th>\n",
              "      <th>accuracy_multi</th>\n",
              "      <th>time</th>\n",
              "    </tr>\n",
              "  </thead>\n",
              "  <tbody>\n",
              "    <tr>\n",
              "      <td>0</td>\n",
              "      <td>0.077087</td>\n",
              "      <td>0.313656</td>\n",
              "      <td>0.979490</td>\n",
              "      <td>02:41</td>\n",
              "    </tr>\n",
              "  </tbody>\n",
              "</table>"
            ],
            "text/plain": [
              "<IPython.core.display.HTML object>"
            ]
          },
          "metadata": {
            "tags": []
          }
        }
      ]
    },
    {
      "cell_type": "code",
      "metadata": {
        "colab": {
          "base_uri": "https://localhost:8080/",
          "height": 77
        },
        "id": "QncAhIZvOUZE",
        "outputId": "dfc1ab10-b42d-4d03-8237-acec6e6fa421"
      },
      "source": [
        "learn_clf.unfreeze()\r\n",
        "learn_clf.fit_one_cycle(1,slice(1e-3/(2.6**4),1e-3))"
      ],
      "execution_count": null,
      "outputs": [
        {
          "output_type": "display_data",
          "data": {
            "text/html": [
              "<table border=\"1\" class=\"dataframe\">\n",
              "  <thead>\n",
              "    <tr style=\"text-align: left;\">\n",
              "      <th>epoch</th>\n",
              "      <th>train_loss</th>\n",
              "      <th>valid_loss</th>\n",
              "      <th>accuracy_multi</th>\n",
              "      <th>time</th>\n",
              "    </tr>\n",
              "  </thead>\n",
              "  <tbody>\n",
              "    <tr>\n",
              "      <td>0</td>\n",
              "      <td>0.072032</td>\n",
              "      <td>0.454681</td>\n",
              "      <td>0.979314</td>\n",
              "      <td>02:57</td>\n",
              "    </tr>\n",
              "  </tbody>\n",
              "</table>"
            ],
            "text/plain": [
              "<IPython.core.display.HTML object>"
            ]
          },
          "metadata": {
            "tags": []
          }
        }
      ]
    },
    {
      "cell_type": "code",
      "metadata": {
        "id": "Fk1rwGuROVlf"
      },
      "source": [
        "learn_clf.export(\"stackoverflow_multilabel_model.pkl\")"
      ],
      "execution_count": null,
      "outputs": []
    },
    {
      "cell_type": "code",
      "metadata": {
        "colab": {
          "base_uri": "https://localhost:8080/"
        },
        "id": "a6Udg_rZR_oy",
        "outputId": "4aec08bc-b897-4f97-c794-f6039ca42b6b"
      },
      "source": [
        "cols = list(df)\r\n",
        "labels = cols[1:len(cols)-1]\r\n",
        "labels"
      ],
      "execution_count": null,
      "outputs": [
        {
          "output_type": "execute_result",
          "data": {
            "text/plain": [
              "['.net',\n",
              " 'ajax',\n",
              " 'algorithm',\n",
              " 'android',\n",
              " 'angularjs',\n",
              " 'arrays',\n",
              " 'asp.net',\n",
              " 'asp.net-mvc',\n",
              " 'bash',\n",
              " 'c',\n",
              " 'c#',\n",
              " 'c++',\n",
              " 'c++11',\n",
              " 'cocoa-touch',\n",
              " 'css',\n",
              " 'database',\n",
              " 'debugging',\n",
              " 'delphi',\n",
              " 'django',\n",
              " 'eclipse',\n",
              " 'generics',\n",
              " 'git',\n",
              " 'haskell',\n",
              " 'html',\n",
              " 'html5',\n",
              " 'ios',\n",
              " 'iphone',\n",
              " 'java',\n",
              " 'javascript',\n",
              " 'jquery',\n",
              " 'json',\n",
              " 'linq',\n",
              " 'linux',\n",
              " 'multithreading',\n",
              " 'mysql',\n",
              " 'node.js',\n",
              " 'objective-c',\n",
              " 'osx',\n",
              " 'performance',\n",
              " 'perl',\n",
              " 'php',\n",
              " 'python',\n",
              " 'r',\n",
              " 'regex',\n",
              " 'ruby',\n",
              " 'ruby-on-rails',\n",
              " 'ruby-on-rails-3',\n",
              " 'scala',\n",
              " 'spring',\n",
              " 'sql',\n",
              " 'sql-server',\n",
              " 'string',\n",
              " 'swift',\n",
              " 'unit-testing',\n",
              " 'visual-studio',\n",
              " 'visual-studio-2010',\n",
              " 'windows',\n",
              " 'wpf',\n",
              " 'xcode',\n",
              " 'xml']"
            ]
          },
          "metadata": {
            "tags": []
          },
          "execution_count": 26
        }
      ]
    },
    {
      "cell_type": "code",
      "metadata": {
        "colab": {
          "base_uri": "https://localhost:8080/",
          "height": 1000
        },
        "id": "iId0NLddRL0S",
        "outputId": "1747fe10-7daa-461d-c89c-c9fc3c2581b0"
      },
      "source": [
        "t = \"i develop database sql with java application\"\r\n",
        "p = learn_clf.predict(t.lower())\r\n",
        "preds_df = pd.concat([pd.DataFrame(labels),pd.DataFrame(p[2])],axis=1)\r\n",
        "preds_df.columns = [\"Label\", \"Prob\"]\r\n",
        "preds_df = preds_df.sort_values('Prob',ascending=False)\r\n",
        "preds_df"
      ],
      "execution_count": null,
      "outputs": [
        {
          "output_type": "display_data",
          "data": {
            "text/html": [
              ""
            ],
            "text/plain": [
              "<IPython.core.display.HTML object>"
            ]
          },
          "metadata": {
            "tags": []
          }
        },
        {
          "output_type": "execute_result",
          "data": {
            "text/html": [
              "<div>\n",
              "<style scoped>\n",
              "    .dataframe tbody tr th:only-of-type {\n",
              "        vertical-align: middle;\n",
              "    }\n",
              "\n",
              "    .dataframe tbody tr th {\n",
              "        vertical-align: top;\n",
              "    }\n",
              "\n",
              "    .dataframe thead th {\n",
              "        text-align: right;\n",
              "    }\n",
              "</style>\n",
              "<table border=\"1\" class=\"dataframe\">\n",
              "  <thead>\n",
              "    <tr style=\"text-align: right;\">\n",
              "      <th></th>\n",
              "      <th>Label</th>\n",
              "      <th>Prob</th>\n",
              "    </tr>\n",
              "  </thead>\n",
              "  <tbody>\n",
              "    <tr>\n",
              "      <th>27</th>\n",
              "      <td>java</td>\n",
              "      <td>0.977799</td>\n",
              "    </tr>\n",
              "    <tr>\n",
              "      <th>49</th>\n",
              "      <td>sql</td>\n",
              "      <td>0.418459</td>\n",
              "    </tr>\n",
              "    <tr>\n",
              "      <th>15</th>\n",
              "      <td>database</td>\n",
              "      <td>0.310799</td>\n",
              "    </tr>\n",
              "    <tr>\n",
              "      <th>34</th>\n",
              "      <td>mysql</td>\n",
              "      <td>0.236869</td>\n",
              "    </tr>\n",
              "    <tr>\n",
              "      <th>50</th>\n",
              "      <td>sql-server</td>\n",
              "      <td>0.218669</td>\n",
              "    </tr>\n",
              "    <tr>\n",
              "      <th>47</th>\n",
              "      <td>scala</td>\n",
              "      <td>0.062904</td>\n",
              "    </tr>\n",
              "    <tr>\n",
              "      <th>20</th>\n",
              "      <td>generics</td>\n",
              "      <td>0.029873</td>\n",
              "    </tr>\n",
              "    <tr>\n",
              "      <th>38</th>\n",
              "      <td>performance</td>\n",
              "      <td>0.021451</td>\n",
              "    </tr>\n",
              "    <tr>\n",
              "      <th>3</th>\n",
              "      <td>android</td>\n",
              "      <td>0.020964</td>\n",
              "    </tr>\n",
              "    <tr>\n",
              "      <th>10</th>\n",
              "      <td>c#</td>\n",
              "      <td>0.018476</td>\n",
              "    </tr>\n",
              "    <tr>\n",
              "      <th>0</th>\n",
              "      <td>.net</td>\n",
              "      <td>0.010130</td>\n",
              "    </tr>\n",
              "    <tr>\n",
              "      <th>31</th>\n",
              "      <td>linq</td>\n",
              "      <td>0.009413</td>\n",
              "    </tr>\n",
              "    <tr>\n",
              "      <th>6</th>\n",
              "      <td>asp.net</td>\n",
              "      <td>0.006539</td>\n",
              "    </tr>\n",
              "    <tr>\n",
              "      <th>40</th>\n",
              "      <td>php</td>\n",
              "      <td>0.006438</td>\n",
              "    </tr>\n",
              "    <tr>\n",
              "      <th>19</th>\n",
              "      <td>eclipse</td>\n",
              "      <td>0.005491</td>\n",
              "    </tr>\n",
              "    <tr>\n",
              "      <th>59</th>\n",
              "      <td>xml</td>\n",
              "      <td>0.004905</td>\n",
              "    </tr>\n",
              "    <tr>\n",
              "      <th>30</th>\n",
              "      <td>json</td>\n",
              "      <td>0.004886</td>\n",
              "    </tr>\n",
              "    <tr>\n",
              "      <th>48</th>\n",
              "      <td>spring</td>\n",
              "      <td>0.003915</td>\n",
              "    </tr>\n",
              "    <tr>\n",
              "      <th>33</th>\n",
              "      <td>multithreading</td>\n",
              "      <td>0.003810</td>\n",
              "    </tr>\n",
              "    <tr>\n",
              "      <th>51</th>\n",
              "      <td>string</td>\n",
              "      <td>0.002174</td>\n",
              "    </tr>\n",
              "    <tr>\n",
              "      <th>43</th>\n",
              "      <td>regex</td>\n",
              "      <td>0.002075</td>\n",
              "    </tr>\n",
              "    <tr>\n",
              "      <th>53</th>\n",
              "      <td>unit-testing</td>\n",
              "      <td>0.001942</td>\n",
              "    </tr>\n",
              "    <tr>\n",
              "      <th>7</th>\n",
              "      <td>asp.net-mvc</td>\n",
              "      <td>0.001768</td>\n",
              "    </tr>\n",
              "    <tr>\n",
              "      <th>11</th>\n",
              "      <td>c++</td>\n",
              "      <td>0.001028</td>\n",
              "    </tr>\n",
              "    <tr>\n",
              "      <th>45</th>\n",
              "      <td>ruby-on-rails</td>\n",
              "      <td>0.000933</td>\n",
              "    </tr>\n",
              "    <tr>\n",
              "      <th>28</th>\n",
              "      <td>javascript</td>\n",
              "      <td>0.000782</td>\n",
              "    </tr>\n",
              "    <tr>\n",
              "      <th>32</th>\n",
              "      <td>linux</td>\n",
              "      <td>0.000712</td>\n",
              "    </tr>\n",
              "    <tr>\n",
              "      <th>41</th>\n",
              "      <td>python</td>\n",
              "      <td>0.000564</td>\n",
              "    </tr>\n",
              "    <tr>\n",
              "      <th>21</th>\n",
              "      <td>git</td>\n",
              "      <td>0.000511</td>\n",
              "    </tr>\n",
              "    <tr>\n",
              "      <th>2</th>\n",
              "      <td>algorithm</td>\n",
              "      <td>0.000453</td>\n",
              "    </tr>\n",
              "    <tr>\n",
              "      <th>17</th>\n",
              "      <td>delphi</td>\n",
              "      <td>0.000384</td>\n",
              "    </tr>\n",
              "    <tr>\n",
              "      <th>5</th>\n",
              "      <td>arrays</td>\n",
              "      <td>0.000325</td>\n",
              "    </tr>\n",
              "    <tr>\n",
              "      <th>56</th>\n",
              "      <td>windows</td>\n",
              "      <td>0.000320</td>\n",
              "    </tr>\n",
              "    <tr>\n",
              "      <th>23</th>\n",
              "      <td>html</td>\n",
              "      <td>0.000305</td>\n",
              "    </tr>\n",
              "    <tr>\n",
              "      <th>44</th>\n",
              "      <td>ruby</td>\n",
              "      <td>0.000280</td>\n",
              "    </tr>\n",
              "    <tr>\n",
              "      <th>22</th>\n",
              "      <td>haskell</td>\n",
              "      <td>0.000243</td>\n",
              "    </tr>\n",
              "    <tr>\n",
              "      <th>18</th>\n",
              "      <td>django</td>\n",
              "      <td>0.000208</td>\n",
              "    </tr>\n",
              "    <tr>\n",
              "      <th>39</th>\n",
              "      <td>perl</td>\n",
              "      <td>0.000202</td>\n",
              "    </tr>\n",
              "    <tr>\n",
              "      <th>35</th>\n",
              "      <td>node.js</td>\n",
              "      <td>0.000178</td>\n",
              "    </tr>\n",
              "    <tr>\n",
              "      <th>16</th>\n",
              "      <td>debugging</td>\n",
              "      <td>0.000137</td>\n",
              "    </tr>\n",
              "    <tr>\n",
              "      <th>37</th>\n",
              "      <td>osx</td>\n",
              "      <td>0.000123</td>\n",
              "    </tr>\n",
              "    <tr>\n",
              "      <th>54</th>\n",
              "      <td>visual-studio</td>\n",
              "      <td>0.000116</td>\n",
              "    </tr>\n",
              "    <tr>\n",
              "      <th>46</th>\n",
              "      <td>ruby-on-rails-3</td>\n",
              "      <td>0.000110</td>\n",
              "    </tr>\n",
              "    <tr>\n",
              "      <th>36</th>\n",
              "      <td>objective-c</td>\n",
              "      <td>0.000088</td>\n",
              "    </tr>\n",
              "    <tr>\n",
              "      <th>55</th>\n",
              "      <td>visual-studio-2010</td>\n",
              "      <td>0.000086</td>\n",
              "    </tr>\n",
              "    <tr>\n",
              "      <th>29</th>\n",
              "      <td>jquery</td>\n",
              "      <td>0.000067</td>\n",
              "    </tr>\n",
              "    <tr>\n",
              "      <th>9</th>\n",
              "      <td>c</td>\n",
              "      <td>0.000063</td>\n",
              "    </tr>\n",
              "    <tr>\n",
              "      <th>12</th>\n",
              "      <td>c++11</td>\n",
              "      <td>0.000060</td>\n",
              "    </tr>\n",
              "    <tr>\n",
              "      <th>4</th>\n",
              "      <td>angularjs</td>\n",
              "      <td>0.000045</td>\n",
              "    </tr>\n",
              "    <tr>\n",
              "      <th>25</th>\n",
              "      <td>ios</td>\n",
              "      <td>0.000043</td>\n",
              "    </tr>\n",
              "    <tr>\n",
              "      <th>14</th>\n",
              "      <td>css</td>\n",
              "      <td>0.000040</td>\n",
              "    </tr>\n",
              "    <tr>\n",
              "      <th>58</th>\n",
              "      <td>xcode</td>\n",
              "      <td>0.000037</td>\n",
              "    </tr>\n",
              "    <tr>\n",
              "      <th>26</th>\n",
              "      <td>iphone</td>\n",
              "      <td>0.000032</td>\n",
              "    </tr>\n",
              "    <tr>\n",
              "      <th>1</th>\n",
              "      <td>ajax</td>\n",
              "      <td>0.000032</td>\n",
              "    </tr>\n",
              "    <tr>\n",
              "      <th>24</th>\n",
              "      <td>html5</td>\n",
              "      <td>0.000025</td>\n",
              "    </tr>\n",
              "    <tr>\n",
              "      <th>8</th>\n",
              "      <td>bash</td>\n",
              "      <td>0.000017</td>\n",
              "    </tr>\n",
              "    <tr>\n",
              "      <th>57</th>\n",
              "      <td>wpf</td>\n",
              "      <td>0.000015</td>\n",
              "    </tr>\n",
              "    <tr>\n",
              "      <th>42</th>\n",
              "      <td>r</td>\n",
              "      <td>0.000013</td>\n",
              "    </tr>\n",
              "    <tr>\n",
              "      <th>13</th>\n",
              "      <td>cocoa-touch</td>\n",
              "      <td>0.000007</td>\n",
              "    </tr>\n",
              "    <tr>\n",
              "      <th>52</th>\n",
              "      <td>swift</td>\n",
              "      <td>0.000002</td>\n",
              "    </tr>\n",
              "  </tbody>\n",
              "</table>\n",
              "</div>"
            ],
            "text/plain": [
              "                 Label      Prob\n",
              "27                java  0.977799\n",
              "49                 sql  0.418459\n",
              "15            database  0.310799\n",
              "34               mysql  0.236869\n",
              "50          sql-server  0.218669\n",
              "47               scala  0.062904\n",
              "20            generics  0.029873\n",
              "38         performance  0.021451\n",
              "3              android  0.020964\n",
              "10                  c#  0.018476\n",
              "0                 .net  0.010130\n",
              "31                linq  0.009413\n",
              "6              asp.net  0.006539\n",
              "40                 php  0.006438\n",
              "19             eclipse  0.005491\n",
              "59                 xml  0.004905\n",
              "30                json  0.004886\n",
              "48              spring  0.003915\n",
              "33      multithreading  0.003810\n",
              "51              string  0.002174\n",
              "43               regex  0.002075\n",
              "53        unit-testing  0.001942\n",
              "7          asp.net-mvc  0.001768\n",
              "11                 c++  0.001028\n",
              "45       ruby-on-rails  0.000933\n",
              "28          javascript  0.000782\n",
              "32               linux  0.000712\n",
              "41              python  0.000564\n",
              "21                 git  0.000511\n",
              "2            algorithm  0.000453\n",
              "17              delphi  0.000384\n",
              "5               arrays  0.000325\n",
              "56             windows  0.000320\n",
              "23                html  0.000305\n",
              "44                ruby  0.000280\n",
              "22             haskell  0.000243\n",
              "18              django  0.000208\n",
              "39                perl  0.000202\n",
              "35             node.js  0.000178\n",
              "16           debugging  0.000137\n",
              "37                 osx  0.000123\n",
              "54       visual-studio  0.000116\n",
              "46     ruby-on-rails-3  0.000110\n",
              "36         objective-c  0.000088\n",
              "55  visual-studio-2010  0.000086\n",
              "29              jquery  0.000067\n",
              "9                    c  0.000063\n",
              "12               c++11  0.000060\n",
              "4            angularjs  0.000045\n",
              "25                 ios  0.000043\n",
              "14                 css  0.000040\n",
              "58               xcode  0.000037\n",
              "26              iphone  0.000032\n",
              "1                 ajax  0.000032\n",
              "24               html5  0.000025\n",
              "8                 bash  0.000017\n",
              "57                 wpf  0.000015\n",
              "42                   r  0.000013\n",
              "13         cocoa-touch  0.000007\n",
              "52               swift  0.000002"
            ]
          },
          "metadata": {
            "tags": []
          },
          "execution_count": 54
        }
      ]
    }
  ]
}